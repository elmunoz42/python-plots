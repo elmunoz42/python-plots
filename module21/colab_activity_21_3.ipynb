{
 "cells": [
  {
   "cell_type": "markdown",
   "metadata": {
    "id": "rt8gUDFVzFz3",
    "nbgrader": {
     "grade": false,
     "grade_id": "cell-66d8ec40d6c8ee24",
     "locked": true,
     "schema_version": 3,
     "solution": false,
     "task": false
    }
   },
   "source": [
    "### Colab Activity 21.3: Using Keras\n",
    "\n",
    "**Expected Time = 60 minutes**\n",
    "\n",
    "\n",
    "\n",
    "This activity focuses on using the `keras` library to build an Artificial Neural Network using the the Titanic dataset.  You will now use all the rows of the data and the `age` and `fare` columns to build a basic network.  After building the model you will visualize the loss for each epoch.\n",
    "\n",
    "#### Index\n",
    "\n",
    "- [Problem 1](#-Problem-1)\n",
    "- [Problem 2](#-Problem-2)\n",
    "- [Problem 3](#-Problem-3)\n",
    "- [Problem 4](#-Problem-4)\n",
    "- [Problem 5](#-Problem-5)"
   ]
  },
  {
   "cell_type": "code",
   "execution_count": 1,
   "metadata": {
    "id": "6QAIZ3k5zFz4"
   },
   "outputs": [],
   "source": [
    "### RUN IN GOOGLE COLAB NOTEBOOK ####\n",
    "\n",
    "# https://colab.research.google.com/drive/1DG_mo3wyblFLnUfP57L3w18lhlON3HWj?usp=sharing\n",
    "\n",
    "##########\n",
    "\n",
    "\n",
    "import numpy as np\n",
    "import pandas as pd\n",
    "import matplotlib.pyplot as plt\n",
    "import seaborn as sns\n",
    "import tensorflow as tf\n",
    "\n",
    "from tensorflow.keras.layers import Dense\n",
    "from tensorflow.keras.models import Sequential\n",
    "from tensorflow.keras.utils import plot_model\n",
    "\n",
    "import warnings\n",
    "warnings.filterwarnings('ignore')"
   ]
  },
  {
   "cell_type": "code",
   "execution_count": 2,
   "metadata": {
    "colab": {
     "base_uri": "https://localhost:8080/"
    },
    "id": "3sSIwBlZzFz5",
    "outputId": "8d7e84cd-bcec-4dbb-d197-03ef87d7da0f"
   },
   "outputs": [
    {
     "name": "stdout",
     "output_type": "stream",
     "text": [
      "(714, 2)\n"
     ]
    }
   ],
   "source": [
    "titanic = sns.load_dataset('titanic').dropna(subset = ['age'])\n",
    "X = titanic[['age', 'fare']].values\n",
    "y = titanic['survived'].values\n",
    "print(X.shape)"
   ]
  },
  {
   "cell_type": "markdown",
   "metadata": {
    "id": "fwi0m_WxzFz5",
    "nbgrader": {
     "grade": false,
     "grade_id": "cell-b15afe099bbcc7ac",
     "locked": true,
     "schema_version": 3,
     "solution": false,
     "task": false
    }
   },
   "source": [
    "[Back to top](#-Index)\n",
    "\n",
    "### Problem 1\n",
    "\n",
    "#### A Basic Network\n",
    "\n",
    "\n",
    "\n",
    "To begin, use `keras` and the `Sequential` model to create a model with the following architecture:\n",
    "\n",
    "- One hidden layer with one node\n",
    "- One output node\n",
    "- Use the sigmoid activation function on all nodes\n",
    "\n",
    "Assign this model to the variable `single_node_model`."
   ]
  },
  {
   "cell_type": "code",
   "execution_count": 8,
   "metadata": {
    "colab": {
     "base_uri": "https://localhost:8080/"
    },
    "id": "9ZHH0-EazFz5",
    "nbgrader": {
     "grade": false,
     "grade_id": "cell-2fad3e5bd06726d4",
     "locked": false,
     "schema_version": 3,
     "solution": true,
     "task": false
    },
    "outputId": "56007f5b-f8a4-4422-a728-3999ea51251f"
   },
   "outputs": [
    {
     "data": {
      "text/plain": [
       "<Sequential name=sequential_1, built=False>"
      ]
     },
     "execution_count": 8,
     "metadata": {},
     "output_type": "execute_result"
    }
   ],
   "source": [
    "\n",
    "tf.random.set_seed(42)\n",
    "single_node_model = Sequential([\n",
    "    Dense(1, activation = 'sigmoid'),\n",
    "    Dense(1, activation = 'sigmoid')\n",
    "])\n",
    "\n",
    "\n",
    "### ANSWER CHECK\n",
    "single_node_model"
   ]
  },
  {
   "cell_type": "code",
   "execution_count": 9,
   "metadata": {
    "colab": {
     "base_uri": "https://localhost:8080/",
     "height": 188
    },
    "id": "sAQKF_QUzFz6",
    "outputId": "c63f06a7-638d-4f2d-887d-26dc5489e830"
   },
   "outputs": [
    {
     "data": {
      "text/html": [
       "<div style=\"max-width:800px; border: 1px solid var(--colab-border-color);\"><style>\n",
       "      pre.function-repr-contents {\n",
       "        overflow-x: auto;\n",
       "        padding: 8px 12px;\n",
       "        max-height: 500px;\n",
       "      }\n",
       "\n",
       "      pre.function-repr-contents.function-repr-contents-collapsed {\n",
       "        cursor: pointer;\n",
       "        max-height: 100px;\n",
       "      }\n",
       "    </style>\n",
       "    <pre style=\"white-space: initial; background:\n",
       "         var(--colab-secondary-surface-color); padding: 8px 12px;\n",
       "         border-bottom: 1px solid var(--colab-border-color);\"><b>keras.src.activations.activations.sigmoid</b><br/>def sigmoid(x)</pre><pre class=\"function-repr-contents function-repr-contents-collapsed\" style=\"\"><a class=\"filepath\" style=\"display:none\" href=\"#\">/usr/local/lib/python3.11/dist-packages/keras/src/activations/activations.py</a>Sigmoid activation function.\n",
       "\n",
       "It is defined as: `sigmoid(x) = 1 / (1 + exp(-x))`.\n",
       "\n",
       "For small values (&lt;-5),\n",
       "`sigmoid` returns a value close to zero, and for large values (&gt;5)\n",
       "the result of the function gets close to 1.\n",
       "\n",
       "Sigmoid is equivalent to a 2-element softmax, where the second element is\n",
       "assumed to be zero. The sigmoid function always returns a value between\n",
       "0 and 1.\n",
       "\n",
       "Args:\n",
       "    x: Input tensor.</pre>\n",
       "      <script>\n",
       "      if (google.colab.kernel.accessAllowed && google.colab.files && google.colab.files.view) {\n",
       "        for (const element of document.querySelectorAll('.filepath')) {\n",
       "          element.style.display = 'block'\n",
       "          element.onclick = (event) => {\n",
       "            event.preventDefault();\n",
       "            event.stopPropagation();\n",
       "            google.colab.files.view(element.textContent, 481);\n",
       "          };\n",
       "        }\n",
       "      }\n",
       "      for (const element of document.querySelectorAll('.function-repr-contents')) {\n",
       "        element.onclick = (event) => {\n",
       "          event.preventDefault();\n",
       "          event.stopPropagation();\n",
       "          element.classList.toggle('function-repr-contents-collapsed');\n",
       "        };\n",
       "      }\n",
       "      </script>\n",
       "      </div>"
      ],
      "text/plain": [
       "<function keras.src.activations.activations.sigmoid(x)>"
      ]
     },
     "execution_count": 9,
     "metadata": {},
     "output_type": "execute_result"
    }
   ],
   "source": [
    "single_node_model.layers[0].activation"
   ]
  },
  {
   "cell_type": "markdown",
   "metadata": {
    "id": "ogZYu-QvzFz6",
    "nbgrader": {
     "grade": false,
     "grade_id": "cell-a90e7130fc78980d",
     "locked": true,
     "points": 0,
     "schema_version": 3,
     "solution": false,
     "task": true
    }
   },
   "source": [
    "[Back to top](#-Index)\n",
    "\n",
    "### Problem 2\n",
    "\n",
    "#### Compiling the Network\n",
    "\n",
    "\n",
    "\n",
    "Now, compile the `single_node_model` model defined above using the settings below:\n",
    "\n",
    "- `optimizer = rmsprop`\n",
    "- `loss = binary_crossentropy`\n",
    "- `metrics = ['accuracy']`"
   ]
  },
  {
   "cell_type": "code",
   "execution_count": 10,
   "metadata": {
    "colab": {
     "base_uri": "https://localhost:8080/"
    },
    "id": "qKbYX1ZvzFz6",
    "nbgrader": {
     "grade": false,
     "grade_id": "cell-e253d21e36668ef0",
     "locked": false,
     "schema_version": 3,
     "solution": true,
     "task": false
    },
    "outputId": "b86a8949-b946-42cd-b74d-a35947c21ec7"
   },
   "outputs": [
    {
     "data": {
      "text/plain": [
       "<Sequential name=sequential_1, built=False>"
      ]
     },
     "execution_count": 10,
     "metadata": {},
     "output_type": "execute_result"
    }
   ],
   "source": [
    "\n",
    "\n",
    "tf.random.set_seed(42)\n",
    "single_node_model.compile(optimizer=\"rmsprop\", loss=\"binary_crossentropy\", metrics=[\"accuracy\"])\n",
    "\n",
    "### ANSWER CHECK\n",
    "single_node_model"
   ]
  },
  {
   "cell_type": "markdown",
   "metadata": {
    "id": "oN2QkmSyzFz7",
    "nbgrader": {
     "grade": false,
     "grade_id": "cell-27499b77baa0ce58",
     "locked": true,
     "schema_version": 3,
     "solution": false,
     "task": false
    }
   },
   "source": [
    "[Back to top](#-Index)\n",
    "\n",
    "### Problem 3\n",
    "\n",
    "#### Fit the model\n",
    "\n",
    "\n",
    "\n",
    "Next, fit the `single_node_model` model below to the data `X` and `y` using the following parameters:\n",
    "\n",
    "- `epochs = 20`\n",
    "- `batch_size = 10`\n",
    "- `verbose = 0`\n",
    "\n",
    "Ensure to use `tf.random.set_seed(42)` to assure proper grading.  \n",
    "\n",
    "Assign your fit model to the variable `history` below."
   ]
  },
  {
   "cell_type": "code",
   "execution_count": 11,
   "metadata": {
    "colab": {
     "base_uri": "https://localhost:8080/"
    },
    "id": "klIodgOlzFz7",
    "nbgrader": {
     "grade": false,
     "grade_id": "cell-edc2684ae7362db5",
     "locked": false,
     "schema_version": 3,
     "solution": true,
     "task": false
    },
    "outputId": "4d2cc1a7-e478-4d7c-a7cc-e55f26315b14"
   },
   "outputs": [
    {
     "data": {
      "text/plain": [
       "{'verbose': 0, 'epochs': 20, 'steps': 72}"
      ]
     },
     "execution_count": 11,
     "metadata": {},
     "output_type": "execute_result"
    }
   ],
   "source": [
    "\n",
    "tf.random.set_seed(42)\n",
    "history = single_node_model.fit(X, y, epochs=20, batch_size=10, verbose=0)\n",
    "\n",
    "\n",
    "\n",
    "### ANSWER CHECK\n",
    "history.params"
   ]
  },
  {
   "cell_type": "markdown",
   "metadata": {
    "id": "DfhpgbcGzFz7",
    "nbgrader": {
     "grade": false,
     "grade_id": "cell-dd00fd6a508daa28",
     "locked": true,
     "schema_version": 3,
     "solution": false,
     "task": false
    }
   },
   "source": [
    "[Back to top](#-Index)\n",
    "\n",
    "### Problem 4\n",
    "\n",
    "#### Evaluate the model\n",
    "\n",
    "\n",
    "\n",
    "Use the `.evaluate` method on your `single_node_model` with the `X` and `y` arrays to examine the loss and accuracy of the model.  Assign these values to the variables `single_loss` and `single_acc` below."
   ]
  },
  {
   "cell_type": "code",
   "execution_count": 12,
   "metadata": {
    "colab": {
     "base_uri": "https://localhost:8080/"
    },
    "id": "GrMHEKiDzFz7",
    "nbgrader": {
     "grade": false,
     "grade_id": "cell-3fc8d4b03bcd60f1",
     "locked": false,
     "schema_version": 3,
     "solution": true,
     "task": false
    },
    "outputId": "13076ea6-4e59-4281-8936-26e79ac350a9"
   },
   "outputs": [
    {
     "name": "stdout",
     "output_type": "stream",
     "text": [
      "\u001b[1m23/23\u001b[0m \u001b[32m━━━━━━━━━━━━━━━━━━━━\u001b[0m\u001b[37m\u001b[0m \u001b[1m1s\u001b[0m 15ms/step - accuracy: 0.6106 - loss: 0.6878\n",
      "0.7007182836532593\n",
      "0.593837559223175\n"
     ]
    }
   ],
   "source": [
    "\n",
    "single_loss, single_acc = single_node_model.evaluate(X, y)\n",
    "\n",
    "\n",
    "\n",
    "### ANSWER CHECK\n",
    "print(single_loss)\n",
    "print(single_acc)"
   ]
  },
  {
   "cell_type": "markdown",
   "metadata": {
    "id": "jcZ2HCN2zFz7",
    "nbgrader": {
     "grade": false,
     "grade_id": "cell-b0ed9e5e208e501a",
     "locked": true,
     "schema_version": 3,
     "solution": false,
     "task": false
    }
   },
   "source": [
    "[Back to top](#-Index)\n",
    "\n",
    "### Problem 5\n",
    "\n",
    "#### A More Complex Model\n",
    "\n",
    "\n",
    "\n",
    "To try to improve the model, now build and evaluate a second model that uses a single hidden layer with 100 nodes, and a single output layer.  \n",
    "\n",
    "For the hidden layer use the `relu` activation function and for the output layer use the `sigmoid` activation.  \n",
    "\n",
    "Again, set the `np.random.seed(42)`, using the same compile settings and train settings for number of epochs and batch size.  Assign the accuracy of the model to `hundred_acc` below."
   ]
  },
  {
   "cell_type": "code",
   "execution_count": 14,
   "metadata": {
    "colab": {
     "base_uri": "https://localhost:8080/"
    },
    "id": "-Gxa3hLwzFz7",
    "nbgrader": {
     "grade": false,
     "grade_id": "cell-99ca08ba0f195e6e",
     "locked": false,
     "schema_version": 3,
     "solution": true,
     "task": false
    },
    "outputId": "35dfcb1f-ba47-4cf7-a181-217b82c9d05b"
   },
   "outputs": [
    {
     "name": "stdout",
     "output_type": "stream",
     "text": [
      "\u001b[1m23/23\u001b[0m \u001b[32m━━━━━━━━━━━━━━━━━━━━\u001b[0m\u001b[37m\u001b[0m \u001b[1m0s\u001b[0m 8ms/step - accuracy: 0.6459 - loss: 0.6664\n",
      "0.6178308725357056\n",
      "0.6876750588417053\n"
     ]
    }
   ],
   "source": [
    "\n",
    "complex_model = Sequential([\n",
    "    Dense(100, activation = 'relu'),\n",
    "    Dense(1, activation = 'sigmoid')\n",
    "])\n",
    "\n",
    "tf.random.set_seed(42)\n",
    "complex_model.compile(optimizer=\"rmsprop\", loss=\"binary_crossentropy\", metrics=[\"accuracy\"])\n",
    "history = complex_model.fit(X, y, epochs=20, batch_size=10, verbose=0)\n",
    "hundred_loss, hundred_acc = complex_model.evaluate(X, y)\n",
    "\n",
    "### ANSWER CHECK\n",
    "print(hundred_loss)\n",
    "print(hundred_acc)\n"
   ]
  },
  {
   "cell_type": "markdown",
   "metadata": {
    "id": "WAIFA0UczFz7"
   },
   "source": [
    "# Claude Evaluation and Explanation\n",
    "\n",
    "The notebook is structured into 5 problems:\n",
    "\n",
    "Creating a basic neural network with a specific architecture\n",
    "Compiling the network with specific parameters\n",
    "Fitting the model to the Titanic dataset\n",
    "Evaluating the model\n",
    "Building a more complex model and comparing its performance\n",
    "\n",
    "Let me analyze each problem:\n",
    "Problem 1: Creating a Basic Network\n",
    "The code creates a Sequential model with:\n",
    "\n",
    "One hidden layer with one node using sigmoid activation\n",
    "One output node with sigmoid activation\n",
    "\n",
    "The implementation looks correct, matching the requirements.\n",
    "Problem 2: Compiling the Network\n",
    "The model is compiled with:\n",
    "\n",
    "RMSprop optimizer\n",
    "Binary cross-entropy loss function\n",
    "Accuracy metric\n",
    "\n",
    "This implementation matches the requirements.\n",
    "\n",
    "\n",
    "I'll explain the model compilation step in more detail.\n",
    "In this code:\n",
    "pythonsingle_node_model.compile(optimizer=\"rmsprop\", loss=\"binary_crossentropy\", metrics=[\"accuracy\"])\n",
    "The .compile() method configures the model for training by specifying three key components:\n",
    "\n",
    "Optimizer (RMSprop):\n",
    "\n",
    "RMSprop (Root Mean Square Propagation) is an optimization algorithm that adapts the learning rate for each parameter.\n",
    "It helps overcome issues like vanishing/exploding gradients by normalizing gradients using a moving average of squared gradients.\n",
    "It's particularly effective for recurrent neural networks and deep networks.\n",
    "\n",
    "\n",
    "Loss Function (Binary Cross-Entropy):\n",
    "\n",
    "This loss function is specifically designed for binary classification problems (like Titanic survival with 0/1 outcomes).\n",
    "It measures how well the model's predictions match the actual binary outcomes.\n",
    "Mathematically, it computes: -(y*log(p) + (1-y)*log(1-p)) where y is the true label and p is the predicted probability.\n",
    "The goal during training is to minimize this value.\n",
    "\n",
    "\n",
    "Metrics (Accuracy):\n",
    "\n",
    "Metrics are used to evaluate the model's performance but don't affect training.\n",
    "Accuracy measures the fraction of predictions that the model got right.\n",
    "For binary classification, it calculates: (true positives + true negatives) / total samples.\n",
    "It's included to give us an interpretable measure of how well the model is performing.\n",
    "\n",
    "\n",
    "\n",
    "The compilation step is crucial as it prepares the model with the mathematical tools needed for optimization during the training process. It defines how the model will learn from the data (optimizer), what it's trying to minimize (loss), and how we'll measure its performance (metrics)."
   ]
  },
  {
   "cell_type": "markdown",
   "metadata": {},
   "source": [
    "# INSTALLING TENSORFLOW LOCALLY \n",
    "\n",
    "https://claude.ai/share/0d7b7e60-70bb-4912-ba99-08a75a29afe0\n",
    "\n",
    "review chat for links...\n",
    "\n",
    "Yes, it's possible to run TensorFlow with GPU acceleration on your Windows 11 WSL Ubuntu setup using your laptop's graphics card. Based on my search, here's how you can set it up:\n",
    "Windows Subsystem for Linux (WSL) version 2 allows you to run a Linux environment directly on Windows without the overhead of a virtual machine, and it supports GPU acceleration when properly configured. Pradeepl\n",
    "Here's a step-by-step guide to get TensorFlow working with your GPU:\n",
    "\n",
    "Ensure you have the necessary prerequisites:\n",
    "\n",
    "Make sure you're running Windows 11 or Windows 10 version 21H2 or higher Microsoft\n",
    "A CUDA-compatible NVIDIA GPU Microsoft\n",
    "WSL2 with Ubuntu installed\n",
    "\n",
    "\n",
    "Install the required drivers and tools:\n",
    "\n",
    "Download and install the latest NVIDIA GPU driver for Windows from the NVIDIA website Microsoft\n",
    "After installing the Windows drivers, you'll need to confirm your Ubuntu WSL system can access your NVIDIA GPU by running a command like nvidia-smi in your WSL terminal, which should display your GPU information if properly configured Linuxhint\n",
    "\n",
    "\n",
    "Install CUDA and cuDNN in your WSL Ubuntu environment:\n",
    "\n",
    "Install the CUDA Toolkit compatible with your system by either downloading from NVIDIA's website or using terminal commands DEV Community\n",
    "Download and install cuDNN SDK from NVIDIA's website (you'll need to check the compatible version on the TensorFlow website) DEV Community\n",
    "Set up the necessary environment variables DEV Community\n",
    "\n",
    "\n",
    "Install TensorFlow with GPU support:\n",
    "\n",
    "You can install TensorFlow with NVIDIA CUDA/cuDNN acceleration support using pip in your Ubuntu WSL system Linuxhint\n",
    "Verify the installation by checking if TensorFlow can detect your GPU Linuxhint\n",
    "\n",
    "\n",
    "\n",
    "An important note: Starting with TensorFlow 2.11, TensorFlow no longer supports GPU on native Windows - you need to use WSL2 as you're planning to do TensorFlow.\n",
    "For developers who prefer a containerized approach, Docker with WSL2 integration is recommended as \"one of the fastest ways to get started with TensorFlow and Keras\" with NVIDIA GPU support Pendragon AI.\n",
    "Would you like me to provide more detailed commands for any specific part of this setup process?"
   ]
  },
  {
   "cell_type": "code",
   "execution_count": null,
   "metadata": {},
   "outputs": [],
   "source": []
  },
  {
   "cell_type": "code",
   "execution_count": null,
   "metadata": {},
   "outputs": [],
   "source": []
  }
 ],
 "metadata": {
  "accelerator": "GPU",
  "celltoolbar": "Create Assignment",
  "colab": {
   "gpuType": "T4",
   "provenance": []
  },
  "kernelspec": {
   "display_name": "Python 3 (ipykernel)",
   "language": "python",
   "name": "python3"
  },
  "language_info": {
   "codemirror_mode": {
    "name": "ipython",
    "version": 3
   },
   "file_extension": ".py",
   "mimetype": "text/x-python",
   "name": "python",
   "nbconvert_exporter": "python",
   "pygments_lexer": "ipython3",
   "version": "3.11.7"
  }
 },
 "nbformat": 4,
 "nbformat_minor": 4
}
