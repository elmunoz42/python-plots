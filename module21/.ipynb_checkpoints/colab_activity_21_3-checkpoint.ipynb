{
  "cells": [
    {
      "cell_type": "markdown",
      "metadata": {
        "nbgrader": {
          "grade": false,
          "grade_id": "cell-66d8ec40d6c8ee24",
          "locked": true,
          "schema_version": 3,
          "solution": false,
          "task": false
        },
        "id": "rt8gUDFVzFz3"
      },
      "source": [
        "### Colab Activity 21.3: Using Keras\n",
        "\n",
        "**Expected Time = 60 minutes**\n",
        "\n",
        "\n",
        "\n",
        "This activity focuses on using the `keras` library to build an Artificial Neural Network using the the Titanic dataset.  You will now use all the rows of the data and the `age` and `fare` columns to build a basic network.  After building the model you will visualize the loss for each epoch.\n",
        "\n",
        "#### Index\n",
        "\n",
        "- [Problem 1](#-Problem-1)\n",
        "- [Problem 2](#-Problem-2)\n",
        "- [Problem 3](#-Problem-3)\n",
        "- [Problem 4](#-Problem-4)\n",
        "- [Problem 5](#-Problem-5)"
      ]
    },
    {
      "cell_type": "code",
      "execution_count": 1,
      "metadata": {
        "id": "6QAIZ3k5zFz4"
      },
      "outputs": [],
      "source": [
        "import numpy as np\n",
        "import pandas as pd\n",
        "import matplotlib.pyplot as plt\n",
        "import seaborn as sns\n",
        "import tensorflow as tf\n",
        "\n",
        "from tensorflow.keras.layers import Dense\n",
        "from tensorflow.keras.models import Sequential\n",
        "from tensorflow.keras.utils import plot_model\n",
        "\n",
        "import warnings\n",
        "warnings.filterwarnings('ignore')"
      ]
    },
    {
      "cell_type": "code",
      "execution_count": 2,
      "metadata": {
        "colab": {
          "base_uri": "https://localhost:8080/"
        },
        "id": "3sSIwBlZzFz5",
        "outputId": "8d7e84cd-bcec-4dbb-d197-03ef87d7da0f"
      },
      "outputs": [
        {
          "output_type": "stream",
          "name": "stdout",
          "text": [
            "(714, 2)\n"
          ]
        }
      ],
      "source": [
        "titanic = sns.load_dataset('titanic').dropna(subset = ['age'])\n",
        "X = titanic[['age', 'fare']].values\n",
        "y = titanic['survived'].values\n",
        "print(X.shape)"
      ]
    },
    {
      "cell_type": "markdown",
      "metadata": {
        "nbgrader": {
          "grade": false,
          "grade_id": "cell-b15afe099bbcc7ac",
          "locked": true,
          "schema_version": 3,
          "solution": false,
          "task": false
        },
        "id": "fwi0m_WxzFz5"
      },
      "source": [
        "[Back to top](#-Index)\n",
        "\n",
        "### Problem 1\n",
        "\n",
        "#### A Basic Network\n",
        "\n",
        "\n",
        "\n",
        "To begin, use `keras` and the `Sequential` model to create a model with the following architecture:\n",
        "\n",
        "- One hidden layer with one node\n",
        "- One output node\n",
        "- Use the sigmoid activation function on all nodes\n",
        "\n",
        "Assign this model to the variable `single_node_model`."
      ]
    },
    {
      "cell_type": "code",
      "execution_count": 8,
      "metadata": {
        "nbgrader": {
          "grade": false,
          "grade_id": "cell-2fad3e5bd06726d4",
          "locked": false,
          "schema_version": 3,
          "solution": true,
          "task": false
        },
        "colab": {
          "base_uri": "https://localhost:8080/"
        },
        "id": "9ZHH0-EazFz5",
        "outputId": "56007f5b-f8a4-4422-a728-3999ea51251f"
      },
      "outputs": [
        {
          "output_type": "execute_result",
          "data": {
            "text/plain": [
              "<Sequential name=sequential_1, built=False>"
            ]
          },
          "metadata": {},
          "execution_count": 8
        }
      ],
      "source": [
        "\n",
        "tf.random.set_seed(42)\n",
        "single_node_model = Sequential([\n",
        "    Dense(1, activation = 'sigmoid'),\n",
        "    Dense(1, activation = 'sigmoid')\n",
        "])\n",
        "\n",
        "\n",
        "### ANSWER CHECK\n",
        "single_node_model"
      ]
    },
    {
      "cell_type": "code",
      "execution_count": 9,
      "metadata": {
        "colab": {
          "base_uri": "https://localhost:8080/",
          "height": 188
        },
        "id": "sAQKF_QUzFz6",
        "outputId": "c63f06a7-638d-4f2d-887d-26dc5489e830"
      },
      "outputs": [
        {
          "output_type": "execute_result",
          "data": {
            "text/plain": [
              "<function keras.src.activations.activations.sigmoid(x)>"
            ],
            "text/html": [
              "<div style=\"max-width:800px; border: 1px solid var(--colab-border-color);\"><style>\n",
              "      pre.function-repr-contents {\n",
              "        overflow-x: auto;\n",
              "        padding: 8px 12px;\n",
              "        max-height: 500px;\n",
              "      }\n",
              "\n",
              "      pre.function-repr-contents.function-repr-contents-collapsed {\n",
              "        cursor: pointer;\n",
              "        max-height: 100px;\n",
              "      }\n",
              "    </style>\n",
              "    <pre style=\"white-space: initial; background:\n",
              "         var(--colab-secondary-surface-color); padding: 8px 12px;\n",
              "         border-bottom: 1px solid var(--colab-border-color);\"><b>keras.src.activations.activations.sigmoid</b><br/>def sigmoid(x)</pre><pre class=\"function-repr-contents function-repr-contents-collapsed\" style=\"\"><a class=\"filepath\" style=\"display:none\" href=\"#\">/usr/local/lib/python3.11/dist-packages/keras/src/activations/activations.py</a>Sigmoid activation function.\n",
              "\n",
              "It is defined as: `sigmoid(x) = 1 / (1 + exp(-x))`.\n",
              "\n",
              "For small values (&lt;-5),\n",
              "`sigmoid` returns a value close to zero, and for large values (&gt;5)\n",
              "the result of the function gets close to 1.\n",
              "\n",
              "Sigmoid is equivalent to a 2-element softmax, where the second element is\n",
              "assumed to be zero. The sigmoid function always returns a value between\n",
              "0 and 1.\n",
              "\n",
              "Args:\n",
              "    x: Input tensor.</pre>\n",
              "      <script>\n",
              "      if (google.colab.kernel.accessAllowed && google.colab.files && google.colab.files.view) {\n",
              "        for (const element of document.querySelectorAll('.filepath')) {\n",
              "          element.style.display = 'block'\n",
              "          element.onclick = (event) => {\n",
              "            event.preventDefault();\n",
              "            event.stopPropagation();\n",
              "            google.colab.files.view(element.textContent, 481);\n",
              "          };\n",
              "        }\n",
              "      }\n",
              "      for (const element of document.querySelectorAll('.function-repr-contents')) {\n",
              "        element.onclick = (event) => {\n",
              "          event.preventDefault();\n",
              "          event.stopPropagation();\n",
              "          element.classList.toggle('function-repr-contents-collapsed');\n",
              "        };\n",
              "      }\n",
              "      </script>\n",
              "      </div>"
            ]
          },
          "metadata": {},
          "execution_count": 9
        }
      ],
      "source": [
        "single_node_model.layers[0].activation"
      ]
    },
    {
      "cell_type": "markdown",
      "metadata": {
        "nbgrader": {
          "grade": false,
          "grade_id": "cell-a90e7130fc78980d",
          "locked": true,
          "points": 0,
          "schema_version": 3,
          "solution": false,
          "task": true
        },
        "id": "ogZYu-QvzFz6"
      },
      "source": [
        "[Back to top](#-Index)\n",
        "\n",
        "### Problem 2\n",
        "\n",
        "#### Compiling the Network\n",
        "\n",
        "\n",
        "\n",
        "Now, compile the `single_node_model` model defined above using the settings below:\n",
        "\n",
        "- `optimizer = rmsprop`\n",
        "- `loss = binary_crossentropy`\n",
        "- `metrics = ['accuracy']`"
      ]
    },
    {
      "cell_type": "code",
      "execution_count": 10,
      "metadata": {
        "nbgrader": {
          "grade": false,
          "grade_id": "cell-e253d21e36668ef0",
          "locked": false,
          "schema_version": 3,
          "solution": true,
          "task": false
        },
        "colab": {
          "base_uri": "https://localhost:8080/"
        },
        "id": "qKbYX1ZvzFz6",
        "outputId": "b86a8949-b946-42cd-b74d-a35947c21ec7"
      },
      "outputs": [
        {
          "output_type": "execute_result",
          "data": {
            "text/plain": [
              "<Sequential name=sequential_1, built=False>"
            ]
          },
          "metadata": {},
          "execution_count": 10
        }
      ],
      "source": [
        "\n",
        "\n",
        "tf.random.set_seed(42)\n",
        "single_node_model.compile(optimizer=\"rmsprop\", loss=\"binary_crossentropy\", metrics=[\"accuracy\"])\n",
        "\n",
        "### ANSWER CHECK\n",
        "single_node_model"
      ]
    },
    {
      "cell_type": "markdown",
      "metadata": {
        "nbgrader": {
          "grade": false,
          "grade_id": "cell-27499b77baa0ce58",
          "locked": true,
          "schema_version": 3,
          "solution": false,
          "task": false
        },
        "id": "oN2QkmSyzFz7"
      },
      "source": [
        "[Back to top](#-Index)\n",
        "\n",
        "### Problem 3\n",
        "\n",
        "#### Fit the model\n",
        "\n",
        "\n",
        "\n",
        "Next, fit the `single_node_model` model below to the data `X` and `y` using the following parameters:\n",
        "\n",
        "- `epochs = 20`\n",
        "- `batch_size = 10`\n",
        "- `verbose = 0`\n",
        "\n",
        "Ensure to use `tf.random.set_seed(42)` to assure proper grading.  \n",
        "\n",
        "Assign your fit model to the variable `history` below."
      ]
    },
    {
      "cell_type": "code",
      "execution_count": 11,
      "metadata": {
        "nbgrader": {
          "grade": false,
          "grade_id": "cell-edc2684ae7362db5",
          "locked": false,
          "schema_version": 3,
          "solution": true,
          "task": false
        },
        "colab": {
          "base_uri": "https://localhost:8080/"
        },
        "id": "klIodgOlzFz7",
        "outputId": "4d2cc1a7-e478-4d7c-a7cc-e55f26315b14"
      },
      "outputs": [
        {
          "output_type": "execute_result",
          "data": {
            "text/plain": [
              "{'verbose': 0, 'epochs': 20, 'steps': 72}"
            ]
          },
          "metadata": {},
          "execution_count": 11
        }
      ],
      "source": [
        "\n",
        "tf.random.set_seed(42)\n",
        "history = single_node_model.fit(X, y, epochs=20, batch_size=10, verbose=0)\n",
        "\n",
        "\n",
        "\n",
        "### ANSWER CHECK\n",
        "history.params"
      ]
    },
    {
      "cell_type": "markdown",
      "metadata": {
        "nbgrader": {
          "grade": false,
          "grade_id": "cell-dd00fd6a508daa28",
          "locked": true,
          "schema_version": 3,
          "solution": false,
          "task": false
        },
        "id": "DfhpgbcGzFz7"
      },
      "source": [
        "[Back to top](#-Index)\n",
        "\n",
        "### Problem 4\n",
        "\n",
        "#### Evaluate the model\n",
        "\n",
        "\n",
        "\n",
        "Use the `.evaluate` method on your `single_node_model` with the `X` and `y` arrays to examine the loss and accuracy of the model.  Assign these values to the variables `single_loss` and `single_acc` below."
      ]
    },
    {
      "cell_type": "code",
      "execution_count": 12,
      "metadata": {
        "nbgrader": {
          "grade": false,
          "grade_id": "cell-3fc8d4b03bcd60f1",
          "locked": false,
          "schema_version": 3,
          "solution": true,
          "task": false
        },
        "colab": {
          "base_uri": "https://localhost:8080/"
        },
        "id": "GrMHEKiDzFz7",
        "outputId": "13076ea6-4e59-4281-8936-26e79ac350a9"
      },
      "outputs": [
        {
          "output_type": "stream",
          "name": "stdout",
          "text": [
            "\u001b[1m23/23\u001b[0m \u001b[32m━━━━━━━━━━━━━━━━━━━━\u001b[0m\u001b[37m\u001b[0m \u001b[1m1s\u001b[0m 15ms/step - accuracy: 0.6106 - loss: 0.6878\n",
            "0.7007182836532593\n",
            "0.593837559223175\n"
          ]
        }
      ],
      "source": [
        "\n",
        "single_loss, single_acc = single_node_model.evaluate(X, y)\n",
        "\n",
        "\n",
        "\n",
        "### ANSWER CHECK\n",
        "print(single_loss)\n",
        "print(single_acc)"
      ]
    },
    {
      "cell_type": "markdown",
      "metadata": {
        "nbgrader": {
          "grade": false,
          "grade_id": "cell-b0ed9e5e208e501a",
          "locked": true,
          "schema_version": 3,
          "solution": false,
          "task": false
        },
        "id": "jcZ2HCN2zFz7"
      },
      "source": [
        "[Back to top](#-Index)\n",
        "\n",
        "### Problem 5\n",
        "\n",
        "#### A More Complex Model\n",
        "\n",
        "\n",
        "\n",
        "To try to improve the model, now build and evaluate a second model that uses a single hidden layer with 100 nodes, and a single output layer.  \n",
        "\n",
        "For the hidden layer use the `relu` activation function and for the output layer use the `sigmoid` activation.  \n",
        "\n",
        "Again, set the `np.random.seed(42)`, using the same compile settings and train settings for number of epochs and batch size.  Assign the accuracy of the model to `hundred_acc` below."
      ]
    },
    {
      "cell_type": "code",
      "execution_count": 14,
      "metadata": {
        "nbgrader": {
          "grade": false,
          "grade_id": "cell-99ca08ba0f195e6e",
          "locked": false,
          "schema_version": 3,
          "solution": true,
          "task": false
        },
        "colab": {
          "base_uri": "https://localhost:8080/"
        },
        "id": "-Gxa3hLwzFz7",
        "outputId": "35dfcb1f-ba47-4cf7-a181-217b82c9d05b"
      },
      "outputs": [
        {
          "output_type": "stream",
          "name": "stdout",
          "text": [
            "\u001b[1m23/23\u001b[0m \u001b[32m━━━━━━━━━━━━━━━━━━━━\u001b[0m\u001b[37m\u001b[0m \u001b[1m0s\u001b[0m 8ms/step - accuracy: 0.6459 - loss: 0.6664\n",
            "0.6178308725357056\n",
            "0.6876750588417053\n"
          ]
        }
      ],
      "source": [
        "\n",
        "complex_model = Sequential([\n",
        "    Dense(100, activation = 'relu'),\n",
        "    Dense(1, activation = 'sigmoid')\n",
        "])\n",
        "\n",
        "tf.random.set_seed(42)\n",
        "complex_model.compile(optimizer=\"rmsprop\", loss=\"binary_crossentropy\", metrics=[\"accuracy\"])\n",
        "history = complex_model.fit(X, y, epochs=20, batch_size=10, verbose=0)\n",
        "hundred_loss, hundred_acc = complex_model.evaluate(X, y)\n",
        "\n",
        "### ANSWER CHECK\n",
        "print(hundred_loss)\n",
        "print(hundred_acc)\n"
      ]
    },
    {
      "cell_type": "code",
      "execution_count": null,
      "metadata": {
        "id": "WAIFA0UczFz7"
      },
      "outputs": [],
      "source": []
    }
  ],
  "metadata": {
    "celltoolbar": "Create Assignment",
    "kernelspec": {
      "display_name": "Python 3",
      "name": "python3"
    },
    "language_info": {
      "codemirror_mode": {
        "name": "ipython",
        "version": 3
      },
      "file_extension": ".py",
      "mimetype": "text/x-python",
      "name": "python",
      "nbconvert_exporter": "python",
      "pygments_lexer": "ipython3",
      "version": "3.9.11"
    },
    "colab": {
      "provenance": [],
      "gpuType": "T4"
    },
    "accelerator": "GPU"
  },
  "nbformat": 4,
  "nbformat_minor": 0
}