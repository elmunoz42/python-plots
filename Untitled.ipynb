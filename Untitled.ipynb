{
 "cells": [
  {
   "cell_type": "markdown",
   "id": "23da3f42-c499-4c89-94cb-dcac16ef0c49",
   "metadata": {},
   "source": [
    "| Name of Model | Type of Model | Best Used For | Course Module | Sample scikit-learn Implementation |\r\n",
    "|--------------|--------------|--------------|---------------|----------------------------------|\r\n",
    "| Linear Regression | Regression | Predicting continuous values with linear relationships between features and target | Module 7 | `from sklearn.linear_model import LinearRegression`<br>`model = LinearRegression()`<br>`model.fit(X, y)` |\r\n",
    "| Ridge Regression | Regression | Linear regression with L2 regularization; useful when features are correlated | Module 9 | `from sklearn.linear_model import Ridge`<br>`model = Ridge(alpha=1.0)`<br>`model.fit(X, y)` |\r\n",
    "| LASSO Regression | Regression | Linear regression with L1 regularization; useful for feature selection | Module 9 | `from sklearn.linear_model import Lasso`<br>`model = Lasso(alpha=0.1)`<br>`model.fit(X, y)` |\r\n",
    "| Polynomial Regression | Regression | Modeling nonlinear relationships by creating polynomial features | Module 8 | `from sklearn.preprocessing import PolynomialFeatures`<br>`from sklearn.linear_model import LinearRegression`<br>`from sklearn.pipeline import Pipeline`<br>`model = Pipeline([('poly', PolynomialFeatures(degree=2)), ('linear', LinearRegression())])` |\r\n",
    "| K-Nearest Neighbors (KNN) Regression | Regression | Predicting values based on the average of nearest neighbors; useful for nonlinear relationships | Module 12 | `from sklearn.neighbors import KNeighborsRegressor`<br>`model = KNeighborsRegressor(n_neighbors=5)`<br>`model.fit(X, y)` |\r\n",
    "| K-Nearest Neighbors (KNN) Classification | Classification | Classifying based on majority vote of nearest neighbors; useful for nonlinear boundaries | Module 12 | `from sklearn.neighbors import KNeighborsClassifier`<br>`model = KNeighborsClassifier(n_neighbors=5)`<br>`model.fit(X, y)` |\r\n",
    "| Logistic Regression | Classification | Binary/multiclass classification with linear decision boundaries | Module 13 | `from sklearn.linear_model import LogisticRegression`<br>`model = LogisticRegression()`<br>`model.fit(X, y)` |\r\n",
    "| Multinomial Logistic Regression | Classification | Multiclass classification with linear decision boundaries | Module 13 | `from sklearn.linear_model import LogisticRegression`<br>`model = LogisticRegression(multi_class='multinomial', solver='lbfgs')`<br>`model.fit(X, y)` |\r\n",
    "| Decision Trees | Classification/Regression | Hierarchical decision-making; easily interpretable | Module 14 | `from sklearn.tree import DecisionTreeClassifier`<br>`model = DecisionTreeClassifier(criterion='entropy')`<br>`model.fit(X, y)` |\r\n",
    "| Support Vector Machines (SVM) | Classification | Creating maximum margin decision boundaries; works well with complex datasets through kernel trick | Module 16 | `from sklearn.svm import SVC`<br>`model = SVC(kernel='rbf', C=1.0, gamma='scale')`<br>`model.fit(X, y)` |\r\n",
    "| Principal Component Analysis (PCA) | Dimensionality Reduction | Reducing dataset dimensions while preserving variance; useful for visualization and preprocessing | Module 6 | `from sklearn.decomposition import PCA`<br>`pca = PCA(n_components=2)`<br>`X_reduced = pca.fit_transform(X)` |\r\n",
    "| K-Means Clustering | Clustering | Partitioning data into K clusters; useful for segmentation and pattern discovery | Module 6 | `from sklearn.cluster import KMeans`<br>`model = KMeans(n_clusters=3, init='k-means++')`<br>`model.fit(X)` |\r\n",
    "| DBSCAN | Clustering | Density-based clustering that can find clusters of arbitrary shape and identify outliers | Module 6 | `from sklearn.cluster import DBSCAN`<br>`model = DBSCAN(eps=0.5, min_samples=5)`<br>`model.fit(X)` |\r\n",
    "| ARIMA | Time Series | Forecasting time series data by modeling autoregressive and moving average components | Module 10 | `from statsmodels.tsa.arima_model import ARIMA`<br>`model = ARIMA(data, order=(p,d,q))`<br>`model_fit = model.fit()` |"
   ]
  },
  {
   "cell_type": "code",
   "execution_count": null,
   "id": "e4b3b1d6-2bfd-4dac-bdaa-ca8b84a4181d",
   "metadata": {},
   "outputs": [],
   "source": []
  }
 ],
 "metadata": {
  "kernelspec": {
   "display_name": "Python 3 (ipykernel)",
   "language": "python",
   "name": "python3"
  },
  "language_info": {
   "codemirror_mode": {
    "name": "ipython",
    "version": 3
   },
   "file_extension": ".py",
   "mimetype": "text/x-python",
   "name": "python",
   "nbconvert_exporter": "python",
   "pygments_lexer": "ipython3",
   "version": "3.11.7"
  }
 },
 "nbformat": 4,
 "nbformat_minor": 5
}
