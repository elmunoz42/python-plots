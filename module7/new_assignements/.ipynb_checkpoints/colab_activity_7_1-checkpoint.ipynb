{
 "cells": [
  {
   "cell_type": "markdown",
   "metadata": {
    "nbgrader": {
     "grade": false,
     "grade_id": "cell-c01158b8b690d1bb",
     "locked": true,
     "schema_version": 1,
     "solution": false
    }
   },
   "source": [
    "## Self-Study Colab Activity 7.1: Fitting a Simple Linear Regression Line Using Plotly and Scikit-learn \n",
    "\n",
    "**Expected Time: 60 Minutes**\n",
    "\n",
    "\n",
    "\n",
    "This activity focuses on using `sklearn` to build a `LinearRegression` estimator.  For the dataset, another built-in Seaborn dataset with information on geyser explosions is used.  Using this dataset, you are to build a regression model using the wait time to predict the duration of the explosion.\n",
    "\n",
    "## Index:\n",
    "\n",
    "- [Problem 1](#Problem-1)\n",
    "- [Problem 2](#Problem-2)\n",
    "- [Problem 3](#Problem-3)\n",
    "- [Problem 4](#Problem-4)"
   ]
  },
  {
   "cell_type": "code",
   "execution_count": null,
   "metadata": {},
   "outputs": [],
   "source": [
    "import matplotlib.pyplot as plt\n",
    "import seaborn as sns\n",
    "import numpy as np\n",
    "import pandas as pd\n",
    "from sklearn.linear_model import LinearRegression"
   ]
  },
  {
   "cell_type": "markdown",
   "metadata": {
    "nbgrader": {
     "grade": false,
     "grade_id": "cell-b021bac35b98b9ac",
     "locked": true,
     "schema_version": 1,
     "solution": false
    }
   },
   "source": [
    "### The Geyser Data\n",
    "\n",
    "The dataset contains information on the waiting time for a geyser explosion, the duration of the explosion, and a categorization of the explosion duration.  This data comes from the Seaborn built-in datasets."
   ]
  },
  {
   "cell_type": "code",
   "execution_count": null,
   "metadata": {},
   "outputs": [],
   "source": [
    "geyser = sns.load_dataset('geyser')"
   ]
  },
  {
   "cell_type": "code",
   "execution_count": null,
   "metadata": {},
   "outputs": [],
   "source": [
    "geyser.head()"
   ]
  },
  {
   "cell_type": "markdown",
   "metadata": {
    "nbgrader": {
     "grade": false,
     "grade_id": "cell-ca4621af0db76630",
     "locked": true,
     "schema_version": 1,
     "solution": false
    }
   },
   "source": [
    "[Back to top](#Index:) \n",
    "\n",
    "## Problem 1\n",
    "\n",
    "### Declaring `X` and `y`.  \n",
    "\n",
    "\n",
    "\n",
    "Assign the column `waiting` as a DataFrame to the variable `X` and the column `duration` as a series to the variable `y` below.  "
   ]
  },
  {
   "cell_type": "code",
   "execution_count": null,
   "metadata": {
    "nbgrader": {
     "grade": false,
     "grade_id": "cell-b8bc4f8de3b17e42",
     "locked": false,
     "schema_version": 1,
     "solution": true
    }
   },
   "outputs": [],
   "source": [
    "\n",
    "\n",
    "X = ''\n",
    "y = ''\n"
   ]
  },
  {
   "cell_type": "markdown",
   "metadata": {
    "nbgrader": {
     "grade": false,
     "grade_id": "cell-3ff8053f7d1dd586",
     "locked": true,
     "schema_version": 1,
     "solution": false
    }
   },
   "source": [
    "[Back to top](#Index:) \n",
    "\n",
    "## Problem 2\n",
    "\n",
    "### Building a model with `LinearRegression` \n",
    "\n",
    "\n",
    "\n",
    "Below, instantiate a linear regression model using the `LinearRegression()` function. The chain the `fit()` function with the arguments `X` and `y` from above.  Make sure to use only the default settings.  Assign your regressor to the variable `linreg` below.  "
   ]
  },
  {
   "cell_type": "code",
   "execution_count": null,
   "metadata": {
    "nbgrader": {
     "grade": false,
     "grade_id": "cell-94aea8297583c01a",
     "locked": false,
     "schema_version": 1,
     "solution": true
    }
   },
   "outputs": [],
   "source": [
    "\n",
    "\n",
    "linreg = ''\n",
    "\n",
    "# Answer check\n",
    "print(linreg)"
   ]
  },
  {
   "cell_type": "markdown",
   "metadata": {
    "nbgrader": {
     "grade": false,
     "grade_id": "cell-f8910df0ddcd607f",
     "locked": true,
     "schema_version": 1,
     "solution": false
    }
   },
   "source": [
    "[Back to top](#Index:) \n",
    "\n",
    "## Problem 3\n",
    "\n",
    "### Adding a prediction column\n",
    "\n",
    "\n",
    "\n",
    "Add a column, `prediction`, to the `geyser` DataFrame. To this column assign `linreg.predict(X)`.\n",
    "\n",
    "MAke sure to check that your DataFrame geyser contains the new column. \n"
   ]
  },
  {
   "cell_type": "code",
   "execution_count": null,
   "metadata": {
    "nbgrader": {
     "grade": false,
     "grade_id": "cell-2cc296d4cf53bb86",
     "locked": false,
     "schema_version": 1,
     "solution": true
    }
   },
   "outputs": [],
   "source": [
    "\n",
    "\n",
    "geyser['prediction'] = ''\n",
    "\n",
    "\n",
    "\n",
    "# Answer check\n",
    "print(geyser.columns)\n",
    "print(geyser.shape)"
   ]
  },
  {
   "cell_type": "markdown",
   "metadata": {
    "nbgrader": {
     "grade": false,
     "grade_id": "cell-b468d315356875e0",
     "locked": true,
     "schema_version": 1,
     "solution": false
    }
   },
   "source": [
    "[Back to top](#Index:) \n",
    "\n",
    "## Problem 4\n",
    "\n",
    "### Equation of line\n",
    "\n",
    "\n",
    "\n",
    "The equation of the line will be of the form\n",
    "\n",
    "$$\\text{duration} = \\text{waiting}\\times \\text{slope} + \\text{intercept}$$\n",
    "\n",
    "Use the `coef_` attribute on `linreg` to assign the slope of the solution as a float correct to two decimal places to the variable `slope`.\n",
    "\n",
    "Use the `intercept_` attribute on `linreg` to assign the intercept of the solution as a float correct to two decimal places to the variable `intercept`.\n"
   ]
  },
  {
   "cell_type": "code",
   "execution_count": null,
   "metadata": {
    "nbgrader": {
     "grade": false,
     "grade_id": "cell-86e8eb5cdc55a423",
     "locked": false,
     "schema_version": 1,
     "solution": true
    }
   },
   "outputs": [],
   "source": [
    "\n",
    "\n",
    "slope = ''\n",
    "intercept = ''\n",
    "\n",
    "\n",
    "\n",
    "# Answer check\n",
    "print(type(slope))\n",
    "print(slope, intercept)"
   ]
  },
  {
   "cell_type": "code",
   "execution_count": null,
   "metadata": {},
   "outputs": [],
   "source": []
  }
 ],
 "metadata": {
  "celltoolbar": "Create Assignment",
  "kernelspec": {
   "display_name": "Python 3 (ipykernel)",
   "language": "python",
   "name": "python3"
  },
  "language_info": {
   "codemirror_mode": {
    "name": "ipython",
    "version": 3
   },
   "file_extension": ".py",
   "mimetype": "text/x-python",
   "name": "python",
   "nbconvert_exporter": "python",
   "pygments_lexer": "ipython3",
   "version": "3.12.1"
  }
 },
 "nbformat": 4,
 "nbformat_minor": 4
}
