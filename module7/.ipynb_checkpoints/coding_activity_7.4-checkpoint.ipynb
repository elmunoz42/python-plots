{
 "cells": [
  {
   "cell_type": "markdown",
   "metadata": {
    "deletable": false,
    "editable": false,
    "nbgrader": {
     "checksum": "0ee10241f186ef4bf2ed57c2f13e5b34",
     "grade": false,
     "grade_id": "cell-35a56360227421f3",
     "locked": true,
     "schema_version": 1,
     "solution": false
    }
   },
   "source": [
    "## Codio Activity 7.4: Mean Absolute Loss (MAE)\n",
    "\n",
    "**Expected Time = 45 minutes**\n",
    "\n",
    "**Total Points = 15**\n",
    "\n",
    "This assignment focuses on minimizing the mean absolute value loss function defined as:\n",
    "\n",
    "$${\\displaystyle \\mathrm {MAE} ={\\frac {\\sum _{i=1}^{n}\\left|y_{i}-x_{i}\\right|}{n}}}$$\n",
    "\n",
    "## Index:\n",
    "\n",
    "- [Problem 1](#Problem-1)\n",
    "- [Problem 2](#Problem-2)\n",
    "- [Problem 3](#Problem-3)"
   ]
  },
  {
   "cell_type": "markdown",
   "metadata": {
    "deletable": false,
    "editable": false,
    "nbgrader": {
     "checksum": "2c27e493d98e572be919f05f5fddbb8b",
     "grade": false,
     "grade_id": "cell-da1adcda934b4332",
     "locked": true,
     "schema_version": 1,
     "solution": false
    }
   },
   "source": [
    "Using the same dataset as with our `l2_loss` function, you are to compute the value for $\\theta$ that minimizes the MAE.  "
   ]
  },
  {
   "cell_type": "code",
   "execution_count": 1,
   "metadata": {},
   "outputs": [],
   "source": [
    "import numpy as np\n",
    "import matplotlib.pyplot as plt\n",
    "import plotly.express as px\n",
    "from scipy.optimize import minimize"
   ]
  },
  {
   "cell_type": "markdown",
   "metadata": {
    "deletable": false,
    "editable": false,
    "nbgrader": {
     "checksum": "7ce2c2a7f7918265d67ee70714255fa3",
     "grade": false,
     "grade_id": "cell-9424c9baa7a0bfb6",
     "locked": true,
     "schema_version": 1,
     "solution": false
    }
   },
   "source": [
    "### The Dataset\n",
    "\n",
    "Again, a synthetic dataset is created as\n",
    "\n",
    "$$y = 4.2x + \\sigma$$"
   ]
  },
  {
   "cell_type": "code",
   "execution_count": 2,
   "metadata": {},
   "outputs": [
    {
     "data": {
      "text/plain": [
       "<matplotlib.collections.PathCollection at 0x7b178ed74438>"
      ]
     },
     "execution_count": 2,
     "metadata": {},
     "output_type": "execute_result"
    },
    {
     "data": {
      "image/png": "[encoded data removed]",
      "text/plain": [
       "<Figure size 432x288 with 1 Axes>"
      ]
     },
     "metadata": {
      "needs_background": "light"
     },
     "output_type": "display_data"
    }
   ],
   "source": [
    "np.random.seed(42)\n",
    "x = np.linspace(0, 1, 100)\n",
    "y = 4.2*x + np.random.normal(size = 100)\n",
    "plt.scatter(x, y)"
   ]
  },
  {
   "cell_type": "markdown",
   "metadata": {
    "deletable": false,
    "editable": false,
    "nbgrader": {
     "checksum": "ab3c3b09c676c13a4e6aead0faa5f611",
     "grade": false,
     "grade_id": "cell-38e07b68b2efb7fb",
     "locked": true,
     "schema_version": 1,
     "solution": false
    }
   },
   "source": [
    "[Back to top](#Index:) \n",
    "\n",
    "## Problem 1\n",
    "\n",
    "### A MAE loss function\n",
    "\n",
    "**5 Points**\n",
    "\n",
    "Complete the `mae` function below that takes in a value for $\\theta$.\n",
    "\n",
    "Your functio should compute and and return the mean absolute error based on the model $y = \\theta*x$.  "
   ]
  },
  {
   "cell_type": "code",
   "execution_count": 13,
   "metadata": {
    "deletable": false,
    "nbgrader": {
     "checksum": "294d64e408a5a3d5dbe969f7da8655bc",
     "grade": false,
     "grade_id": "cell-86bc03f719dd2bf7",
     "locked": false,
     "schema_version": 1,
     "solution": true
    }
   },
   "outputs": [
    {
     "name": "stdout",
     "output_type": "stream",
     "text": [
      "2.12145907129924\n",
      "<class 'numpy.float64'>\n"
     ]
    }
   ],
   "source": [
    "### GRADED\n",
    "\n",
    "def mae_loss(theta):\n",
    "    \"\"\"\n",
    "    This function accepts an array of thetas\n",
    "    and returns the mean absolute error based\n",
    "    on np.mean(|(theta*xi - yi)|)\n",
    "    \n",
    "    Arguments\n",
    "    ---------\n",
    "    theta: float\n",
    "           Values to use for parameter\n",
    "           of regression model.\n",
    "            \n",
    "    Returns\n",
    "    -------\n",
    "    mse: np.float\n",
    "         Mean Absolute Error\n",
    "    \"\"\"\n",
    "\n",
    "    return np.mean(np.abs((theta * x) - y))\n",
    "\n",
    "mae = mae_loss(8)\n",
    "print(mae)\n",
    "print(type(mae))"
   ]
  },
  {
   "cell_type": "code",
   "execution_count": null,
   "metadata": {
    "deletable": false,
    "editable": false,
    "nbgrader": {
     "checksum": "0ebebac423a15e6886c215e098527ee9",
     "grade": true,
     "grade_id": "cell-159e22cdbdfb9148",
     "locked": true,
     "points": 5,
     "schema_version": 1,
     "solution": false
    }
   },
   "outputs": [],
   "source": []
  },
  {
   "cell_type": "markdown",
   "metadata": {
    "deletable": false,
    "editable": false,
    "nbgrader": {
     "checksum": "419a8f4b9eff2e7ef14ae2bcc90a0e90",
     "grade": false,
     "grade_id": "cell-3df8fc16bf79892a",
     "locked": true,
     "schema_version": 1,
     "solution": false
    }
   },
   "source": [
    "[Back to top](#Index:) \n",
    "\n",
    "## Problem 2\n",
    "\n",
    "### Minimizing the MAE Loss\n",
    "\n",
    "**5 Points**\n",
    "\n",
    "Use the `minimize` function imported from `scipy.optimize` to determine the value for `mae_loss` that minimizes the Mean Absolute Error loss function starting at `x0 = 4`.  Assign this result to `minimum_theta `.\n",
    "\n",
    "Next, use the `minimum_theta.x[0]` attribute to assign the solution as a float to `theta_mae` below."
   ]
  },
  {
   "cell_type": "code",
   "execution_count": 14,
   "metadata": {
    "deletable": false,
    "nbgrader": {
     "checksum": "a58476c73face08a4e1e79443e15f729",
     "grade": false,
     "grade_id": "cell-defb255e2157e0be",
     "locked": false,
     "schema_version": 1,
     "solution": true
    }
   },
   "outputs": [
    {
     "name": "stdout",
     "output_type": "stream",
     "text": [
      "<class 'numpy.float64'>\n",
      "4.150739192004366\n"
     ]
    }
   ],
   "source": [
    "### GRADED\n",
    "minimum_theta = minimize(mae_loss, x0 = 4)\n",
    "theta_mae = minimum_theta.x[0]\n",
    "\n",
    "# Answer check\n",
    "print(type(theta_mae))\n",
    "print(theta_mae)"
   ]
  },
  {
   "cell_type": "code",
   "execution_count": null,
   "metadata": {
    "deletable": false,
    "editable": false,
    "nbgrader": {
     "checksum": "c73d5b26740be4ed5325af88083700ac",
     "grade": true,
     "grade_id": "cell-ef9dda655351c01f",
     "locked": true,
     "points": 5,
     "schema_version": 1,
     "solution": false
    }
   },
   "outputs": [],
   "source": []
  },
  {
   "cell_type": "markdown",
   "metadata": {
    "deletable": false,
    "editable": false,
    "nbgrader": {
     "checksum": "be90786b8dcd9efa332e8a2389aa182b",
     "grade": false,
     "grade_id": "cell-91945eaba278ee24",
     "locked": true,
     "schema_version": 1,
     "solution": false
    }
   },
   "source": [
    "[Back to top](#Index:) \n",
    "\n",
    "## Problem 3\n",
    "\n",
    "### Uncovering the true $\\theta$\n",
    "\n",
    "**5 Points**\n",
    "\n",
    "Assuming that the true relationship between $x$ and $y$ was determined by a model with $\\theta = 4.2$, which loss function better approximated the true value for $\\theta$ here?  Enter your answer as a string -- either 'mse' or 'mae' -- below to the variable `better_loss`."
   ]
  },
  {
   "cell_type": "code",
   "execution_count": 16,
   "metadata": {
    "deletable": false,
    "nbgrader": {
     "checksum": "46cc535577dc53a58322cae001f25290",
     "grade": false,
     "grade_id": "cell-8e576cd476714f95",
     "locked": false,
     "schema_version": 1,
     "solution": true
    }
   },
   "outputs": [
    {
     "name": "stdout",
     "output_type": "stream",
     "text": [
      "4.08001600728423\n",
      "<class 'str'>\n",
      "mae\n"
     ]
    }
   ],
   "source": [
    "### GRADED\n",
    "def l2_loss(theta):\n",
    "    \"\"\"\n",
    "    This function accepts a single theta value\n",
    "    and calculates the mean squared error based\n",
    "    on (theta*x - y)^2\n",
    "\n",
    "    Arguments\n",
    "    ---------\n",
    "    theta: float\n",
    "    The value to use for the parameter of the\n",
    "    regression model.\n",
    "\n",
    "    Returns\n",
    "    -------\n",
    "    mse: float\n",
    "    Mean Squared Error\n",
    "    \"\"\"\n",
    "\n",
    "    return np.mean(((theta*x) - y)**2)\n",
    "\n",
    "minimum_theta_mse = minimize(l2_loss, x0 = 4)\n",
    "theta_mse = minimum_theta_mse.x[0]\n",
    "print(theta_mse)\n",
    "better_loss = 'mae'\n",
    "\n",
    "# Answer check\n",
    "print(type(better_loss))\n",
    "print(better_loss)"
   ]
  },
  {
   "cell_type": "code",
   "execution_count": 17,
   "metadata": {},
   "outputs": [
    {
     "data": {
      "image/png": "[encoded data removed]",
      "text/plain": [
       "<Figure size 864x432 with 2 Axes>"
      ]
     },
     "metadata": {
      "needs_background": "light"
     },
     "output_type": "display_data"
    }
   ],
   "source": [
    "# Creating a range of theta values\n",
    "theta_values = np.linspace(0, 10, 100)\n",
    "\n",
    "# Calculating MAE and MSE for each theta value\n",
    "mae_values = [mae_loss(theta) for theta in theta_values]\n",
    "mse_values = [l2_loss(theta) for theta in theta_values]\n",
    "\n",
    "# Creating a figure with two subplots\n",
    "fig, (ax1, ax2) = plt.subplots(1, 2, figsize=(12, 6))\n",
    "\n",
    "# Plotting MAE values\n",
    "ax1.plot(theta_values, mae_values, label='MAE')\n",
    "ax1.scatter([minimum_theta.x[0]], [mae_loss(minimum_theta.x[0])], color='red')  # minimum point\n",
    "ax1.set_title('Mean Absolute Error')\n",
    "ax1.set_xlabel('Theta')\n",
    "ax1.set_ylabel('Error')\n",
    "ax1.legend()\n",
    "\n",
    "# Plotting MSE values\n",
    "ax2.plot(theta_values, mse_values, label='MSE')\n",
    "ax2.scatter([minimum_theta_mse.x[0]], [l2_loss(minimum_theta_mse.x[0])], color='red')  # minimum point\n",
    "ax2.set_title('Mean Squared Error')\n",
    "ax2.set_xlabel('Theta')\n",
    "ax2.set_ylabel('Error')\n",
    "ax2.legend()\n",
    "\n",
    "# Displaying the plot\n",
    "plt.tight_layout()\n",
    "plt.show()"
   ]
  },
  {
   "cell_type": "code",
   "execution_count": null,
   "metadata": {
    "deletable": false,
    "editable": false,
    "nbgrader": {
     "checksum": "cae7b3421ed8693c226586c6eb444b36",
     "grade": true,
     "grade_id": "cell-0d85642055271a16",
     "locked": true,
     "points": 5,
     "schema_version": 1,
     "solution": false
    }
   },
   "outputs": [],
   "source": []
  },
  {
   "cell_type": "code",
   "execution_count": null,
   "metadata": {},
   "outputs": [],
   "source": []
  }
 ],
 "metadata": {
  "kernelspec": {
   "display_name": "Python 3",
   "language": "python",
   "name": "python3"
  },
  "language_info": {
   "codemirror_mode": {
    "name": "ipython",
    "version": 3
   },
   "file_extension": ".py",
   "mimetype": "text/x-python",
   "name": "python",
   "nbconvert_exporter": "python",
   "pygments_lexer": "ipython3",
   "version": "3.6.9"
  }
 },
 "nbformat": 4,
 "nbformat_minor": 4
}
