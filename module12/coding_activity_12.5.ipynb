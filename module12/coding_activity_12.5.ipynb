{
 "cells": [
  {
   "cell_type": "markdown",
   "metadata": {
    "deletable": false,
    "editable": false,
    "nbgrader": {
     "cell_type": "markdown",
     "checksum": "5ea300431452b39193a7ec05b438209f",
     "grade": false,
     "grade_id": "cell-dcb13ee69e0fa77d",
     "locked": true,
     "schema_version": 3,
     "solution": false
    }
   },
   "source": [
    "### Codio Activity 12.5: Confusion Matrices and Metrics for Classification\n",
    "\n",
    "This activity focuses on using confusion matrices to compute different classification metrics.  You will use scikit-learn to generate the confusion matrices and answer questions about the appropriate metric for the given dataset.  \n",
    "\n",
    "**Expected Time: 60 Minutes**\n",
    "\n",
    "**Total Points: 50**"
   ]
  },
  {
   "cell_type": "markdown",
   "metadata": {
    "deletable": false,
    "editable": false,
    "nbgrader": {
     "cell_type": "markdown",
     "checksum": "a9bf16f06869c708337c3f95cb6da591",
     "grade": false,
     "grade_id": "cell-e4fc7954fedb38d6",
     "locked": true,
     "schema_version": 3,
     "solution": false
    }
   },
   "source": [
    "#### Index\n",
    "\n",
    "- [Problem 1](#Problem-1)\n",
    "- [Problem 2](#Problem-2)\n",
    "- [Problem 3](#Problem-3)\n",
    "- [Problem 4](#Problem-4)\n",
    "- [Problem 5](#Problem-5)\n",
    "- [Problem 6](#Problem-6)"
   ]
  },
  {
   "cell_type": "code",
   "execution_count": null,
   "metadata": {},
   "outputs": [],
   "source": [
    "import pandas as pd\n",
    "import numpy as np\n",
    "import matplotlib.pyplot as plt\n",
    "import warnings\n",
    "\n",
    "from sklearn.preprocessing import StandardScaler, OneHotEncoder\n",
    "from sklearn.model_selection import GridSearchCV, train_test_split\n",
    "from sklearn.neighbors import KNeighborsClassifier\n",
    "from sklearn.metrics import confusion_matrix, precision_score, recall_score, accuracy_score, plot_confusion_matrix, ConfusionMatrixDisplay\n",
    "from sklearn.datasets import load_breast_cancer\n",
    "from sklearn.pipeline import Pipeline\n",
    "from sklearn import set_config\n",
    "from sklearn.metrics import plot_confusion_matrix\n",
    "\n",
    "warnings.simplefilter(action='ignore', category=FutureWarning)\n",
    "set_config(\"display\")"
   ]
  },
  {
   "cell_type": "markdown",
   "metadata": {
    "deletable": false,
    "editable": false,
    "nbgrader": {
     "cell_type": "markdown",
     "checksum": "4a48550183b84a6e0e26e5778267203a",
     "grade": false,
     "grade_id": "cell-e4908c6e157743d8",
     "locked": true,
     "schema_version": 3,
     "solution": false
    }
   },
   "source": [
    "### The Data\n",
    "\n",
    "For this exercise you will explore two different scenarios.  The first, is a built in dataset from scikit-learn related to breast cancer tumors.  The second is a dataset representing telecommunications customer data and retention.  \n",
    "\n",
    "**Cancer Description**\n",
    "\n",
    "```\n",
    "This is a copy of UCI ML Breast Cancer Wisconsin (Diagnostic) datasets.\n",
    "https://goo.gl/U2Uwz2\n",
    "\n",
    "Features are computed from a digitized image of a fine needle\n",
    "aspirate (FNA) of a breast mass.  They describe\n",
    "characteristics of the cell nuclei present in the image.\n",
    "```\n",
    "\n",
    "**Telecommnunications Churn Data**\n",
    "\n",
    "```\n",
    "This data set contains information on a communcations company customers.  The target feature is whether or not the customer abandoned their subscription or were \"churned\".  The features primarily represent information about the customers useage.\n",
    "```"
   ]
  },
  {
   "cell_type": "code",
   "execution_count": null,
   "metadata": {},
   "outputs": [],
   "source": [
    "cancer = load_breast_cancer(as_frame=True)\n",
    "cancer_df = cancer.frame"
   ]
  },
  {
   "cell_type": "code",
   "execution_count": null,
   "metadata": {},
   "outputs": [],
   "source": [
    "cancer_df.head()"
   ]
  },
  {
   "cell_type": "code",
   "execution_count": null,
   "metadata": {},
   "outputs": [],
   "source": [
    "cancer_df.info()"
   ]
  },
  {
   "cell_type": "code",
   "execution_count": null,
   "metadata": {},
   "outputs": [],
   "source": [
    "churn = pd.read_csv('data/cell_phone_churn.csv').select_dtypes(['float', 'int', 'bool'])\n",
    "churn.head()"
   ]
  },
  {
   "cell_type": "code",
   "execution_count": null,
   "metadata": {},
   "outputs": [],
   "source": [
    "churn.info()"
   ]
  },
  {
   "cell_type": "code",
   "execution_count": null,
   "metadata": {},
   "outputs": [],
   "source": [
    "churn_x, churn_y = churn.drop('churn', axis = 1), churn.churn\n",
    "churn_x_train, churn_x_test, churn_y_train, churn_y_test = train_test_split(churn_x, churn_y, random_state = 42)"
   ]
  },
  {
   "cell_type": "code",
   "execution_count": null,
   "metadata": {},
   "outputs": [],
   "source": [
    "cancer_x, cancer_y = cancer.data, cancer.target\n",
    "cancer_x_train, cancer_x_test, cancer_y_train, cancer_y_test = train_test_split(cancer_x, cancer_y, random_state=42)"
   ]
  },
  {
   "cell_type": "markdown",
   "metadata": {
    "deletable": false,
    "editable": false,
    "nbgrader": {
     "cell_type": "markdown",
     "checksum": "ad2e8b4fbf02338ee8b1a91ef426ca9b",
     "grade": false,
     "grade_id": "cell-bf120c389dbd65d5",
     "locked": true,
     "schema_version": 3,
     "solution": false
    }
   },
   "source": [
    "[Back to top](#-Index)\n",
    "\n",
    "### Problem 1\n",
    "\n",
    "#### Pipeline for cancer data\n",
    "\n",
    "**10 Points**\n",
    "\n",
    "As before, you want to scale your data prior to building the model.  Because the cancer dataset contains only numeric features, you can simply pass all features through the `StandardScaler`.  Below, construct a pipeline named `cancer_pipeline` with named steps `scale` and `knn`.  Leave all the settings to default in the `KNeighborsClassifier`. \n",
    "\n",
    "Next, use the `fit` function on `cancer_pipeline` to train the pipeline on the training data.\n",
    "\n",
    "Finally, use the `predict` function to make predictions on the test data.  Assign these as an array to `cancer_preds` below. "
   ]
  },
  {
   "cell_type": "code",
   "execution_count": null,
   "metadata": {
    "deletable": false,
    "nbgrader": {
     "cell_type": "code",
     "checksum": "3837f4f4ae14fc2ac5d230ce970a2559",
     "grade": false,
     "grade_id": "cell-d336864ba5330241",
     "locked": false,
     "schema_version": 3,
     "solution": true
    }
   },
   "outputs": [],
   "source": [
    "### GRADED\n",
    "\n",
    "cancer_pipeline = ''\n",
    "cancer_preds = ''\n",
    "\n",
    "# YOUR CODE HERE\n",
    "raise NotImplementedError()\n",
    "\n",
    "# Answer check\n",
    "print(cancer_preds[:5])\n",
    "cancer_pipeline"
   ]
  },
  {
   "cell_type": "code",
   "execution_count": null,
   "metadata": {
    "deletable": false,
    "editable": false,
    "nbgrader": {
     "cell_type": "code",
     "checksum": "c21e4ed109dfad889bf49c4f58822aac",
     "grade": true,
     "grade_id": "cell-6c3944e3d382fa3b",
     "locked": true,
     "points": 10,
     "schema_version": 3,
     "solution": false
    }
   },
   "outputs": [],
   "source": []
  },
  {
   "cell_type": "markdown",
   "metadata": {
    "deletable": false,
    "editable": false,
    "nbgrader": {
     "cell_type": "markdown",
     "checksum": "dd53062829a19309d16d240b2103b005",
     "grade": false,
     "grade_id": "cell-bcd08612552901d3",
     "locked": true,
     "schema_version": 3,
     "solution": false
    }
   },
   "source": [
    "[Back to top](#-Index)\n",
    "\n",
    "### Problem 2\n",
    "\n",
    "#### Confusion matrix for cancer data\n",
    "\n",
    "**10 Points**\n",
    "\n",
    "Use the `confusion_matrix` function with arguments `cancer_y_test`, `cancer_preds` and with `labels` equal to `[1, 0]` to comoute the confusion matrix of your predictions. Assign the resul to `cancer_confusion_mat`.\n",
    "\n",
    "Next, use the `ConfusionMatrixDisplays` function to visualize your confusion matrix on the test data.  Note that in the example of the cancer data a 1 means benign and 0 means malignant.  Use these by setting `display_labels = ['benign', 'malignant']`.  Assign your result to the object `dist` below."
   ]
  },
  {
   "cell_type": "code",
   "execution_count": null,
   "metadata": {
    "deletable": false,
    "nbgrader": {
     "cell_type": "code",
     "checksum": "105262ac3993b5b06c25783a32426b22",
     "grade": false,
     "grade_id": "cell-c3f877729d34df98",
     "locked": false,
     "schema_version": 3,
     "solution": true
    }
   },
   "outputs": [],
   "source": [
    "### GRADED\n",
    "\n",
    "cancer_confusion_mat = ''\n",
    "\n",
    "# YOUR CODE HERE\n",
    "raise NotImplementedError()\n",
    "\n",
    "# Answer check\n",
    "print(type(cancer_confusion_mat))"
   ]
  },
  {
   "cell_type": "code",
   "execution_count": null,
   "metadata": {
    "deletable": false,
    "editable": false,
    "nbgrader": {
     "cell_type": "code",
     "checksum": "80759d1a8ba7d49b16eac9f880d88f34",
     "grade": true,
     "grade_id": "cell-e5168935ef00c8a9",
     "locked": true,
     "points": 10,
     "schema_version": 3,
     "solution": false
    }
   },
   "outputs": [],
   "source": []
  },
  {
   "cell_type": "markdown",
   "metadata": {
    "deletable": false,
    "editable": false,
    "nbgrader": {
     "cell_type": "markdown",
     "checksum": "f164cd224b621d3bd83f4a93c8a0706d",
     "grade": false,
     "grade_id": "cell-3f319d54278f3635",
     "locked": true,
     "schema_version": 3,
     "solution": false
    }
   },
   "source": [
    "[Back to top](#-Index)\n",
    "\n",
    "### Problem 3\n",
    "\n",
    "#### Which Errors are worse?\n",
    "\n",
    "**5 Points**\n",
    "\n",
    "In this problem, which of the errors would you care more about avoiding?  Those tumors that are identified as malignant but are benign, or those that are benign classified as malignant.  Consider this from the doctors point of view.  Assign your answer as the string `false positive` (classified malignant but benign) or `false negative` (classified as benign but malignant) to `ans3` below."
   ]
  },
  {
   "cell_type": "code",
   "execution_count": null,
   "metadata": {
    "deletable": false,
    "nbgrader": {
     "cell_type": "code",
     "checksum": "a005080eb4bb61f8c26304b7d5d31399",
     "grade": false,
     "grade_id": "cell-819ffdafd6522a20",
     "locked": false,
     "schema_version": 3,
     "solution": true
    }
   },
   "outputs": [],
   "source": [
    "### GRADED\n",
    "\n",
    "ans3 = ''\n",
    "\n",
    "# YOUR CODE HERE\n",
    "raise NotImplementedError()\n",
    "\n",
    "# Answer check\n",
    "print(ans3)"
   ]
  },
  {
   "cell_type": "code",
   "execution_count": null,
   "metadata": {
    "deletable": false,
    "editable": false,
    "nbgrader": {
     "cell_type": "code",
     "checksum": "d10d8844c86f5bf7d0711e89e9b833ed",
     "grade": true,
     "grade_id": "cell-071aec54597aed25",
     "locked": true,
     "points": 5,
     "schema_version": 3,
     "solution": false
    }
   },
   "outputs": [],
   "source": []
  },
  {
   "cell_type": "markdown",
   "metadata": {
    "deletable": false,
    "editable": false,
    "nbgrader": {
     "cell_type": "markdown",
     "checksum": "48c90d0e524b819e0ac25ea830a523f6",
     "grade": false,
     "grade_id": "cell-bcf20acee0bc26ec",
     "locked": true,
     "schema_version": 3,
     "solution": false
    }
   },
   "source": [
    "[Back to top](#-Index)\n",
    "\n",
    "### Problem 4\n",
    "\n",
    "#### Adjusting the Decision Boundary\n",
    "\n",
    "**10 Points**\n",
    "\n",
    "Consider improving the recall score.  By adjusting your decision boundary you can alter the recall.  Below, a new model is fit with `n_neighbors = 10` and predictions with both lower and higher decision boundaries.  Use these to decide which was better in the case of avoiding misclassifying tumors that are malignant as benign.  Select the choice 'a', 'b', or 'c' based on the confusion matrices below and assign to `best_knn` below."
   ]
  },
  {
   "cell_type": "code",
   "execution_count": null,
   "metadata": {},
   "outputs": [],
   "source": [
    "knn_ex = Pipeline([('scale', StandardScaler()), ('knn', KNeighborsClassifier(n_neighbors = 10))])\n",
    "knn_ex.fit(cancer_x_train, cancer_y_train)\n",
    "low_preds = np.where(knn_ex.predict_proba(cancer_x_test)[:, 1] > .25, 1, 0)\n",
    "high_preds = np.where(knn_ex.predict_proba(cancer_x_test)[:, 1] > .95, 1, 0)\n",
    "mid_preds = knn_ex.predict(cancer_x_test)"
   ]
  },
  {
   "cell_type": "markdown",
   "metadata": {},
   "source": [
    "![](images/three_knn.png)"
   ]
  },
  {
   "cell_type": "code",
   "execution_count": null,
   "metadata": {
    "deletable": false,
    "nbgrader": {
     "cell_type": "code",
     "checksum": "dafb8090edf605c0a82e20426cb6a969",
     "grade": false,
     "grade_id": "cell-1a2e9fe97f430409",
     "locked": false,
     "schema_version": 3,
     "solution": true
    }
   },
   "outputs": [],
   "source": [
    "### GRADED\n",
    "\n",
    "best_knn = ''\n",
    "\n",
    "# YOUR CODE HERE\n",
    "raise NotImplementedError()\n",
    "\n",
    "# Answer check\n",
    "print(best_knn)"
   ]
  },
  {
   "cell_type": "code",
   "execution_count": null,
   "metadata": {
    "deletable": false,
    "editable": false,
    "nbgrader": {
     "cell_type": "code",
     "checksum": "3d4e830c24b0ec8b7d117e36a47cce87",
     "grade": true,
     "grade_id": "cell-eade828bf7db30e5",
     "locked": true,
     "points": 10,
     "schema_version": 3,
     "solution": false
    }
   },
   "outputs": [],
   "source": []
  },
  {
   "cell_type": "markdown",
   "metadata": {
    "deletable": false,
    "editable": false,
    "nbgrader": {
     "cell_type": "markdown",
     "checksum": "0cc1f5721add937447a037eaadafafb3",
     "grade": false,
     "grade_id": "cell-c8ae14b1c154872a",
     "locked": true,
     "schema_version": 3,
     "solution": false
    }
   },
   "source": [
    "[Back to top](#-Index)\n",
    "\n",
    "### Problem 5\n",
    "\n",
    "#### Cell Phone Churn \n",
    "\n",
    "**10 Points**\n",
    "\n",
    "In the example of the cell phone churn data, consider the problem of investing in customer incentives.  Here, you'd prefer to target customers who will likely churn.  \n",
    "\n",
    "\n",
    "Below, construct a pipeline named `churn_pipeline` with named steps `scale` and `knn`.  In the KNN classifier, set `n_neighbors=10`. \n",
    "\n",
    "Next, use the `fit` function on `cchurn_pipeline` to train the pipeline on the training data.\n",
    "\n",
    "Next, use the `plot_confusion_matrix` function with aurguments `churn_pipe`, `churn_x_test` and `churn_y_test`. Assign the result to ``churn_confusion_mat``\n",
    "\n",
    "\n",
    "To begin, use the given training data -- `churn_x_train`, `churn_y_train` -- to build a pipeline named `churn_pipe` with named steps `scale` and `knn` that use `StandardScaler` and `KNeighborsClassifier` with `n_neighbors = 10` to scale and estimate the data.  Visualize your predictions using the `DisplayConfusionMatrix.from_preds` function and assign as `churn_confusion_mat`.  "
   ]
  },
  {
   "cell_type": "code",
   "execution_count": null,
   "metadata": {
    "deletable": false,
    "nbgrader": {
     "cell_type": "code",
     "checksum": "53d98abaaf76d16ed48b77d9008a0b07",
     "grade": false,
     "grade_id": "cell-dadb816b78178057",
     "locked": false,
     "schema_version": 3,
     "solution": true
    }
   },
   "outputs": [],
   "source": [
    "### GRADED\n",
    "\n",
    "churn_pipe = ''\n",
    "\n",
    "# YOUR CODE HERE\n",
    "raise NotImplementedError()\n",
    "\n",
    "# Answer check\n",
    "print(churn_confusion_mat)"
   ]
  },
  {
   "cell_type": "code",
   "execution_count": null,
   "metadata": {
    "deletable": false,
    "editable": false,
    "nbgrader": {
     "cell_type": "code",
     "checksum": "64e52e8104d14a9b1179c67bc47778a0",
     "grade": true,
     "grade_id": "cell-c95913e1f0849fa8",
     "locked": true,
     "points": 10,
     "schema_version": 3,
     "solution": false
    }
   },
   "outputs": [],
   "source": []
  },
  {
   "cell_type": "markdown",
   "metadata": {
    "deletable": false,
    "editable": false,
    "nbgrader": {
     "cell_type": "markdown",
     "checksum": "e2e76e0eaae907936db1d20d0ef61fa8",
     "grade": false,
     "grade_id": "cell-e6c568b1daf6f51b",
     "locked": true,
     "schema_version": 3,
     "solution": false
    }
   },
   "source": [
    "[Back to top](#-Index)\n",
    "\n",
    "### Problem 6\n",
    "\n",
    "#### Adjusting the Decision Boundary\n",
    "\n",
    "**5 Points**\n",
    "\n",
    "Below, create predictions for the positive class that has thresholds of greater than 30% and 80%.  Compare these to your baseline predictions at 50% and identify which one minimizes the number of churns predicted as not churning.  Assign your answer as an integer to `ans6` below -- 30, 50, or 80."
   ]
  },
  {
   "cell_type": "code",
   "execution_count": null,
   "metadata": {
    "deletable": false,
    "nbgrader": {
     "cell_type": "code",
     "checksum": "903cffc7686e200e2ed43f9948296dfc",
     "grade": false,
     "grade_id": "cell-65a847f1884752a8",
     "locked": false,
     "schema_version": 3,
     "solution": true
    }
   },
   "outputs": [],
   "source": [
    "### GRADED\n",
    "\n",
    "ans6 = ''\n",
    "\n",
    "# YOUR CODE HERE\n",
    "raise NotImplementedError()\n",
    "\n",
    "# Answer check\n",
    "print(ans6)"
   ]
  },
  {
   "cell_type": "code",
   "execution_count": null,
   "metadata": {
    "deletable": false,
    "editable": false,
    "nbgrader": {
     "cell_type": "code",
     "checksum": "db67b1f64d702a6d3bf58506901ac470",
     "grade": true,
     "grade_id": "cell-5903c53f33debdf0",
     "locked": true,
     "points": 5,
     "schema_version": 3,
     "solution": false
    }
   },
   "outputs": [],
   "source": []
  },
  {
   "cell_type": "markdown",
   "metadata": {
    "deletable": false,
    "editable": false,
    "nbgrader": {
     "cell_type": "markdown",
     "checksum": "30d7cb96fef297c6b69ddc553260736c",
     "grade": false,
     "grade_id": "cell-2ca08e4b8a3b8b64",
     "locked": true,
     "schema_version": 3,
     "solution": false
    }
   },
   "source": [
    "While remembering the different metrics of precision, recall, and accuracy are important -- in part they depend on what is considered positive or negative.  Using your confusion matrices can help intuit which metric is best for a specific scenario.   "
   ]
  },
  {
   "cell_type": "code",
   "execution_count": null,
   "metadata": {},
   "outputs": [],
   "source": []
  },
  {
   "cell_type": "code",
   "execution_count": null,
   "metadata": {},
   "outputs": [],
   "source": []
  }
 ],
 "metadata": {
  "kernelspec": {
   "display_name": "Python 3 (ipykernel)",
   "language": "python",
   "name": "python3"
  },
  "language_info": {
   "codemirror_mode": {
    "name": "ipython",
    "version": 3
   },
   "file_extension": ".py",
   "mimetype": "text/x-python",
   "name": "python",
   "nbconvert_exporter": "python",
   "pygments_lexer": "ipython3",
   "version": "3.9.11"
  },
  "widgets": {
   "application/vnd.jupyter.widget-state+json": {
    "state": {},
    "version_major": 2,
    "version_minor": 0
   }
  }
 },
 "nbformat": 4,
 "nbformat_minor": 4
}
