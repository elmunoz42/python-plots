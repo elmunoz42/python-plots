{
 "cells": [
  {
   "cell_type": "markdown",
   "metadata": {
    "deletable": false,
    "editable": false,
    "nbgrader": {
     "cell_type": "markdown",
     "checksum": "3ebeb3a96961458ce54a0f4c29d9133c",
     "grade": false,
     "grade_id": "cell-caf9b09bbb7a6d2b",
     "locked": true,
     "schema_version": 3,
     "solution": false
    }
   },
   "source": [
    "### Codio Assignment 12.1: Identifying the Best K\n",
    "\n",
    "This activity focuses on identifying the \"best\" number of neighbors that optimize the accuracy of a `KNearestNeighbors` estimator. The ideal number of neighbors will be selected through cross-validation and a grid search over the `n_neighbors` parameter.  Again, before building the model, you will want to scale the data in a `Pipeline`.\n",
    "\n",
    "**Expected Time: 60 Minutes**\n",
    "\n",
    "**Total Points: 50**\n",
    "\n",
    "#### Index\n",
    "\n",
    "- [Problem 1](#Problem-1)\n",
    "- [Problem 2](#Problem-2)\n",
    "- [Problem 3](#Problem-3)\n",
    "- [Problem 4](#Problem-4)\n",
    "- [Problem 5](#Problem-5)\n",
    "- [Problem 6](#Problem-6)\n"
   ]
  },
  {
   "cell_type": "code",
   "execution_count": 1,
   "metadata": {},
   "outputs": [],
   "source": [
    "import pandas as pd\n",
    "import numpy as np\n",
    "import matplotlib.pyplot as plt\n",
    "\n",
    "from sklearn.neighbors import KNeighborsClassifier\n",
    "from sklearn.preprocessing import StandardScaler, OneHotEncoder\n",
    "from sklearn.model_selection import train_test_split, GridSearchCV\n",
    "from sklearn.compose import make_column_transformer\n",
    "from sklearn.pipeline import Pipeline"
   ]
  },
  {
   "cell_type": "markdown",
   "metadata": {
    "deletable": false,
    "editable": false,
    "nbgrader": {
     "cell_type": "markdown",
     "checksum": "46ee212ea98c914d6a373539eb347e52",
     "grade": false,
     "grade_id": "cell-92956d10bb3cb667",
     "locked": true,
     "schema_version": 3,
     "solution": false
    }
   },
   "source": [
    "### The Dataset\n",
    "\n",
    "Again, you will use the credit default dataset to predict default -- yes or no.  The data is loaded and split into train and test sets for you below.  You will again build a column transformer to encode the `student` feature.  Note that scikit-learn handles a string target features in the `KNeighborsClassifier`, and we do not need to encode this column."
   ]
  },
  {
   "cell_type": "code",
   "execution_count": 2,
   "metadata": {},
   "outputs": [],
   "source": [
    "df = pd.read_csv('data/default.csv', index_col=0)"
   ]
  },
  {
   "cell_type": "code",
   "execution_count": 3,
   "metadata": {
    "jupyter": {
     "source_hidden": true
    }
   },
   "outputs": [
    {
     "data": {
      "text/html": [
       "<div>\n",
       "<style scoped>\n",
       "    .dataframe tbody tr th:only-of-type {\n",
       "        vertical-align: middle;\n",
       "    }\n",
       "\n",
       "    .dataframe tbody tr th {\n",
       "        vertical-align: top;\n",
       "    }\n",
       "\n",
       "    .dataframe thead th {\n",
       "        text-align: right;\n",
       "    }\n",
       "</style>\n",
       "<table border=\"1\" class=\"dataframe\">\n",
       "  <thead>\n",
       "    <tr style=\"text-align: right;\">\n",
       "      <th></th>\n",
       "      <th>default</th>\n",
       "      <th>student</th>\n",
       "      <th>balance</th>\n",
       "      <th>income</th>\n",
       "    </tr>\n",
       "  </thead>\n",
       "  <tbody>\n",
       "    <tr>\n",
       "      <th>1</th>\n",
       "      <td>No</td>\n",
       "      <td>No</td>\n",
       "      <td>729.526495</td>\n",
       "      <td>44361.625074</td>\n",
       "    </tr>\n",
       "    <tr>\n",
       "      <th>2</th>\n",
       "      <td>No</td>\n",
       "      <td>Yes</td>\n",
       "      <td>817.180407</td>\n",
       "      <td>12106.134700</td>\n",
       "    </tr>\n",
       "  </tbody>\n",
       "</table>\n",
       "</div>"
      ],
      "text/plain": [
       "  default student     balance        income\n",
       "1      No      No  729.526495  44361.625074\n",
       "2      No     Yes  817.180407  12106.134700"
      ]
     },
     "execution_count": 3,
     "metadata": {},
     "output_type": "execute_result"
    }
   ],
   "source": [
    "df.head(2)"
   ]
  },
  {
   "cell_type": "code",
   "execution_count": 4,
   "metadata": {},
   "outputs": [],
   "source": [
    "X_train, X_test, y_train, y_test = train_test_split(df.drop('default', axis = 1), \n",
    "                                                    df['default'],\n",
    "                                                   random_state=42)"
   ]
  },
  {
   "cell_type": "markdown",
   "metadata": {
    "deletable": false,
    "editable": false,
    "nbgrader": {
     "cell_type": "markdown",
     "checksum": "a4c72f798ecf7bd9e8621f3ca25d53ec",
     "grade": false,
     "grade_id": "cell-f7072b73c70cd968",
     "locked": true,
     "schema_version": 3,
     "solution": false
    }
   },
   "source": [
    "[Back to top](#-Index)\n",
    "\n",
    "### Problem 1\n",
    "\n",
    "#### Baseline for Models\n",
    "\n",
    "**5 Points**\n",
    "\n",
    "Before starting the modeling process, you should have a baseline to determine whether your model is any good. \n",
    "\n",
    "Consider the `default` column of `df`. Perform a `value_counts` operation with the argument `normalize` equal to `True`. \n",
    "\n",
    "What would the accuracy of such a classifier be?  Enter your answer as a float to `baseline` below.\n",
    "\n"
   ]
  },
  {
   "cell_type": "code",
   "execution_count": 5,
   "metadata": {
    "deletable": false,
    "nbgrader": {
     "cell_type": "code",
     "checksum": "d17424a1b93c010a2e9415fc4210d2d8",
     "grade": false,
     "grade_id": "cell-c176ee67477c55e6",
     "locked": false,
     "schema_version": 3,
     "solution": true
    }
   },
   "outputs": [
    {
     "name": "stdout",
     "output_type": "stream",
     "text": [
      "0.9667\n"
     ]
    }
   ],
   "source": [
    "### GRADED\n",
    "\n",
    "baseline = df['default'].value_counts(normalize=True)['No']\n",
    "\n",
    "# Answer check\n",
    "print(baseline)"
   ]
  },
  {
   "cell_type": "code",
   "execution_count": null,
   "metadata": {
    "deletable": false,
    "editable": false,
    "nbgrader": {
     "cell_type": "code",
     "checksum": "8aa9e62193a3ff6013fc11988a7b87f4",
     "grade": true,
     "grade_id": "cell-907380b3b6381c0a",
     "locked": true,
     "points": 5,
     "schema_version": 3,
     "solution": false
    }
   },
   "outputs": [],
   "source": []
  },
  {
   "cell_type": "markdown",
   "metadata": {
    "deletable": false,
    "editable": false,
    "nbgrader": {
     "cell_type": "markdown",
     "checksum": "6b2fe046f1bd81f4afbf62e826292e5d",
     "grade": false,
     "grade_id": "cell-1dd40c4b785568a5",
     "locked": true,
     "schema_version": 3,
     "solution": false
    }
   },
   "source": [
    "[Back to top](#-Index)\n",
    "\n",
    "### Problem 2\n",
    "\n",
    "#### Column transforms and KNN\n",
    "\n",
    "**10 Points**\n",
    "\n",
    "Use the `make_column_transformer` to create a column `transformer`. Inside the `make_column_transformer` specify an instance of the `OneHotEncoder` transformer from scikit-learn. Inside `OneHotEncoder` set `drop` equal to `'if_binary'`. Apply this transformation to the `student` column. On the `remainder` columns, apply a `StandardScaler()` transformation.\n",
    " \n",
    "\n",
    "Next, build a `Pipeline` named `knn_pipe` with  steps `transform` and `knn`. Set `transform` equal to `transformer` and `knn` equal to `KNeighborsClassifier()`. Be sure to leave all the settings in `knn` as the default.  "
   ]
  },
  {
   "cell_type": "code",
   "execution_count": 6,
   "metadata": {
    "deletable": false,
    "nbgrader": {
     "cell_type": "code",
     "checksum": "9ec041987e5ffa085234fc123377f98b",
     "grade": false,
     "grade_id": "cell-ec78a85ab645b292",
     "locked": false,
     "schema_version": 3,
     "solution": true
    }
   },
   "outputs": [
    {
     "data": {
      "text/plain": [
       "Pipeline(steps=[('transform',\n",
       "                 ColumnTransformer(transformers=[('onehotencoder',\n",
       "                                                  OneHotEncoder(drop='if_binary'),\n",
       "                                                  ['student']),\n",
       "                                                 ('standardscaler',\n",
       "                                                  StandardScaler(),\n",
       "                                                  ['balance', 'income'])])),\n",
       "                ('knn', KNeighborsClassifier())])"
      ]
     },
     "execution_count": 6,
     "metadata": {},
     "output_type": "execute_result"
    }
   ],
   "source": [
    "### GRADED\n",
    "\n",
    "remainder = ['balance', 'income']\n",
    "\n",
    "transformer = make_column_transformer(\n",
    "    (OneHotEncoder(drop='if_binary'), ['student']),\n",
    "    (StandardScaler(), remainder) \n",
    ")\n",
    "\n",
    "# Create pipeline\n",
    "knn_pipe = Pipeline([\n",
    "    ('transform', transformer),\n",
    "    ('knn', KNeighborsClassifier())\n",
    "])\n",
    "\n",
    "# Answer check\n",
    "knn_pipe"
   ]
  },
  {
   "cell_type": "code",
   "execution_count": null,
   "metadata": {
    "deletable": false,
    "editable": false,
    "nbgrader": {
     "cell_type": "code",
     "checksum": "484afd4711eb4f0505aae6fda21656a1",
     "grade": true,
     "grade_id": "cell-08e27e48f4cdd8e7",
     "locked": true,
     "points": 10,
     "schema_version": 3,
     "solution": false
    }
   },
   "outputs": [],
   "source": []
  },
  {
   "cell_type": "markdown",
   "metadata": {
    "deletable": false,
    "editable": false,
    "nbgrader": {
     "cell_type": "markdown",
     "checksum": "8ebf0fc8553b5e689481d204b38b5ac7",
     "grade": false,
     "grade_id": "cell-6401f33e5bcd4eed",
     "locked": true,
     "schema_version": 3,
     "solution": false
    }
   },
   "source": [
    "[Back to top](#-Index)\n",
    "\n",
    "### Problem 3\n",
    "\n",
    "#### Parameter grid\n",
    "\n",
    "**10 Points**\n",
    "\n",
    "Now that your pipeline is ready, you are to construct a parameter grid to search over.  Consider two things:\n",
    "\n",
    "- You will not be able to predict on a test dataset where `n_neigbors > len(test_data)`.  This will limit our upper bound on `k`.  In this example, too high a `k` will slow down the computation, so only consider `k = [1, 3, 5, ..., 21]`. \n",
    "- Ties in voting are decided somewhat arbitrarily and for speed and clarity you should consider only odd values for number of neighbors\n",
    "\n",
    "Creating a dictionary called `params` that specifies hyperparameters for the KNN classifier. \n",
    "\n",
    "- The key of your dictionary will be `knn__n_neighbors`\n",
    "- The values in your dictionary will be `list(range(1, 22, 2))`\n",
    "\n"
   ]
  },
  {
   "cell_type": "code",
   "execution_count": 7,
   "metadata": {
    "deletable": false,
    "nbgrader": {
     "cell_type": "code",
     "checksum": "95431866279faae8da05e09d814f4be2",
     "grade": false,
     "grade_id": "cell-49c0659213e1b9b6",
     "locked": false,
     "schema_version": 3,
     "solution": true
    }
   },
   "outputs": [
    {
     "name": "stdout",
     "output_type": "stream",
     "text": [
      "Index(['student', 'balance', 'income'], dtype='object')\n"
     ]
    }
   ],
   "source": [
    "### GRADED\n",
    "k = list(range(1,22,2))\n",
    "params = {'knn__n_neighbors': k}\n",
    "\n",
    "# Answer check\n",
    "list(params.values())[0]\n",
    "\n",
    "print(X_train.columns)"
   ]
  },
  {
   "cell_type": "code",
   "execution_count": null,
   "metadata": {
    "deletable": false,
    "editable": false,
    "nbgrader": {
     "cell_type": "code",
     "checksum": "0733efc918295abb45debda297c2ba62",
     "grade": true,
     "grade_id": "cell-9778b1c93e3a9e60",
     "locked": true,
     "points": 10,
     "schema_version": 3,
     "solution": false
    }
   },
   "outputs": [],
   "source": []
  },
  {
   "cell_type": "markdown",
   "metadata": {
    "deletable": false,
    "editable": false,
    "nbgrader": {
     "cell_type": "markdown",
     "checksum": "516271b3c31ed8d9d87320c0a27e5bdc",
     "grade": false,
     "grade_id": "cell-1c309eac303dc895",
     "locked": true,
     "schema_version": 3,
     "solution": false
    }
   },
   "source": [
    "[Back to top](#-Index)\n",
    "\n",
    "### Problem 4\n",
    "\n",
    "#### Grid search `k`\n",
    "\n",
    "**10 Points**\n",
    "\n",
    "- Use `GridSearchCV` with the `knn_pipe` and `param_grid` equal to `params`. Assign the result to `knn_grid`.\n",
    "- Use the `fit` function on `knn_grid` to train your model on `X_train` and `y_train`.\n",
    "- Retrieve the best value for the hyperparameter `k` from the `best_params_` attribute of the grid search object `knn_grid`. Assign the result to `best_k`.\n",
    "- Use the `score` function to calculate the accuracy of the `knn_grid` classifier on a test dataset. Assign your best models accuracy on the test data as a float to `best_acc`\n",
    "\n"
   ]
  },
  {
   "cell_type": "code",
   "execution_count": 8,
   "metadata": {
    "deletable": false,
    "nbgrader": {
     "cell_type": "code",
     "checksum": "2a63a73b2ad7f486c1f6b32f60065cb3",
     "grade": false,
     "grade_id": "cell-2cd786c8b30044e8",
     "locked": false,
     "schema_version": 3,
     "solution": true
    }
   },
   "outputs": [
    {
     "name": "stdout",
     "output_type": "stream",
     "text": [
      "0.9708\n",
      "11\n"
     ]
    }
   ],
   "source": [
    "### GRADED\n",
    "knn_grid = GridSearchCV(knn_pipe, param_grid=params).fit(X_train, y_train)\n",
    "best_k = list(knn_grid.best_params_.values())[0]\n",
    "best_acc = knn_grid.score(X_test,y_test)\n",
    "\n",
    "# Answer check\n",
    "print(best_acc)\n",
    "print(best_k)"
   ]
  },
  {
   "cell_type": "code",
   "execution_count": null,
   "metadata": {
    "deletable": false,
    "editable": false,
    "nbgrader": {
     "cell_type": "code",
     "checksum": "d2258e8edab9cf871e97bbe9a095933f",
     "grade": true,
     "grade_id": "cell-72d7708f45a51216",
     "locked": true,
     "points": 10,
     "schema_version": 3,
     "solution": false
    }
   },
   "outputs": [],
   "source": []
  },
  {
   "cell_type": "markdown",
   "metadata": {
    "deletable": false,
    "editable": false,
    "nbgrader": {
     "cell_type": "markdown",
     "checksum": "c70a3a2dc1951b1698003cf203ef8345",
     "grade": false,
     "grade_id": "cell-915465698b91be8b",
     "locked": true,
     "schema_version": 3,
     "solution": false
    }
   },
   "source": [
    "[Back to top](#-Index)\n",
    "\n",
    "### Problem 5\n",
    "\n",
    "#### Other parameters to consider\n",
    "\n",
    "**10 Points**\n",
    "\n",
    "The number of neighbors is not the only parameter in the implementation from scikit-learn.  For example, you can also consider different weightings of points based on their distance, change the distance metric, and search over alternative versions of certain metrics like Minkowski.  See the docstring from `KNeighborsClassifier` below. \n",
    "\n",
    "```\n",
    "weights : {'uniform', 'distance'} or callable, default='uniform'\n",
    "    Weight function used in prediction.  Possible values:\n",
    "\n",
    "    - 'uniform' : uniform weights.  All points in each neighborhood\n",
    "      are weighted equally.\n",
    "    - 'distance' : weight points by the inverse of their distance.\n",
    "      in this case, closer neighbors of a query point will have a\n",
    "      greater influence than neighbors which are further away.\n",
    "    - [callable] : a user-defined function which accepts an\n",
    "      array of distances, and returns an array of the same shape\n",
    "      containing the weights.\n",
    "      \n",
    "===========================\n",
    "\n",
    "p : int, default=2\n",
    "    Power parameter for the Minkowski metric. When p = 1, this is\n",
    "    equivalent to using manhattan_distance (l1), and euclidean_distance\n",
    "    (l2) for p = 2. For arbitrary p, minkowski_distance (l_p) is used.\n",
    "    \n",
    "```\n",
    "\n",
    "Create a new parameter grid and consider both weightings as well as `p = [1, 2]`.  Assign this as a dictionary to `params2` below.  \n",
    "\n",
    "Search over these parameters in your `knn_pipe` with a `GridSearchCV` named `weight_grid` below. Also, consider `n_neighbors` as in [Problem 4](#-Problem-4).  Did your new grid search results perform better than earlier?  Assign this grid's accuracy to `weights_acc` below."
   ]
  },
  {
   "cell_type": "code",
   "execution_count": 9,
   "metadata": {
    "deletable": false,
    "nbgrader": {
     "cell_type": "code",
     "checksum": "b34884bc7ed7262ba57cb0cb8e75182f",
     "grade": false,
     "grade_id": "cell-a28b8c5d58df2812",
     "locked": false,
     "schema_version": 3,
     "solution": true
    }
   },
   "outputs": [
    {
     "name": "stdout",
     "output_type": "stream",
     "text": [
      "0.9708\n"
     ]
    }
   ],
   "source": [
    "### GRADED\n",
    "\n",
    "params2 = {\n",
    "    'knn__n_neighbors': list(range(1,22,2)),\n",
    "    'knn__weights': ['uniform', 'distance'], \n",
    "    'knn__p': [1, 2]                         \n",
    "}\n",
    "\n",
    "weight_grid = GridSearchCV(knn_pipe, param_grid=params2).fit(X_train, y_train)\n",
    "weights_acc = weight_grid.score(X_test, y_test)\n",
    "\n",
    "# Answer check\n",
    "print(weights_acc)"
   ]
  },
  {
   "cell_type": "code",
   "execution_count": null,
   "metadata": {
    "deletable": false,
    "editable": false,
    "nbgrader": {
     "cell_type": "code",
     "checksum": "62e21247acf84ba4ec8d2f2c931540b6",
     "grade": true,
     "grade_id": "cell-43cf49bd74485afb",
     "locked": true,
     "points": 10,
     "schema_version": 3,
     "solution": false
    }
   },
   "outputs": [],
   "source": []
  },
  {
   "cell_type": "markdown",
   "metadata": {
    "deletable": false,
    "editable": false,
    "nbgrader": {
     "cell_type": "markdown",
     "checksum": "4979623ed32b9003ea535867b6df213d",
     "grade": false,
     "grade_id": "cell-f9041e2db48f6fef",
     "locked": true,
     "schema_version": 3,
     "solution": false
    }
   },
   "source": [
    "[Back to top](#-Index)\n",
    "\n",
    "### Problem 6\n",
    "\n",
    "#### Further considerations\n",
    "\n",
    "**5 Points**\n",
    "\n",
    "When performing your grid search you want to also be sensitive to the amount of parameters you are searching and the number of different models being built.  How many models were constructed in [Problem 5](#-Problem-5)?  Enter your answer as an integer to `ans6` below.  You might use the grids `.cv_results_` attribute to determine this."
   ]
  },
  {
   "cell_type": "code",
   "execution_count": 12,
   "metadata": {
    "deletable": false,
    "nbgrader": {
     "cell_type": "code",
     "checksum": "5932a10fd3c15fc708bfbe32e7d07e73",
     "grade": false,
     "grade_id": "cell-08e9caf7dd03bc11",
     "locked": false,
     "schema_version": 3,
     "solution": true
    }
   },
   "outputs": [
    {
     "name": "stdout",
     "output_type": "stream",
     "text": [
      "220\n"
     ]
    }
   ],
   "source": [
    "### GRADED\n",
    "number_of_models = len(weight_grid.cv_results_['params'])\n",
    "number_of_cross_validations = 5\n",
    "ans6 = number_of_models * number_of_cross_validations\n",
    "\n",
    "# Answer check\n",
    "print(ans6)"
   ]
  },
  {
   "cell_type": "code",
   "execution_count": null,
   "metadata": {
    "deletable": false,
    "editable": false,
    "nbgrader": {
     "cell_type": "code",
     "checksum": "d4e2774b6de98a740edced63ddbafb40",
     "grade": true,
     "grade_id": "cell-7dcc2d070c4d297e",
     "locked": true,
     "points": 5,
     "schema_version": 3,
     "solution": false
    }
   },
   "outputs": [],
   "source": []
  },
  {
   "cell_type": "code",
   "execution_count": 13,
   "metadata": {},
   "outputs": [
    {
     "name": "stdout",
     "output_type": "stream",
     "text": [
      "\n",
      "PARAMETER COMBINATIONS TESTED:\n",
      "------------------------------\n",
      "\n",
      "Model 1:\n",
      "Parameters: {'knn__n_neighbors': 1, 'knn__p': 1, 'knn__weights': 'uniform'}\n",
      "Mean Test Score: 0.9557\n",
      "Standard Deviation: 0.0037\n",
      "Rank: 43\n",
      "Average Fit Time: 0.0195 seconds\n",
      "\n",
      "Model 2:\n",
      "Parameters: {'knn__n_neighbors': 1, 'knn__p': 1, 'knn__weights': 'distance'}\n",
      "Mean Test Score: 0.9557\n",
      "Standard Deviation: 0.0037\n",
      "Rank: 43\n",
      "Average Fit Time: 0.0200 seconds\n",
      "\n",
      "Model 3:\n",
      "Parameters: {'knn__n_neighbors': 1, 'knn__p': 2, 'knn__weights': 'uniform'}\n",
      "Mean Test Score: 0.9560\n",
      "Standard Deviation: 0.0034\n",
      "Rank: 41\n",
      "Average Fit Time: 0.0181 seconds\n",
      "\n",
      "Model 4:\n",
      "Parameters: {'knn__n_neighbors': 1, 'knn__p': 2, 'knn__weights': 'distance'}\n",
      "Mean Test Score: 0.9560\n",
      "Standard Deviation: 0.0034\n",
      "Rank: 41\n",
      "Average Fit Time: 0.0175 seconds\n",
      "\n",
      "Model 5:\n",
      "Parameters: {'knn__n_neighbors': 3, 'knn__p': 1, 'knn__weights': 'uniform'}\n",
      "Mean Test Score: 0.9644\n",
      "Standard Deviation: 0.0024\n",
      "Rank: 38\n",
      "Average Fit Time: 0.0177 seconds\n",
      "\n",
      "Model 6:\n",
      "Parameters: {'knn__n_neighbors': 3, 'knn__p': 1, 'knn__weights': 'distance'}\n",
      "Mean Test Score: 0.9611\n",
      "Standard Deviation: 0.0022\n",
      "Rank: 40\n",
      "Average Fit Time: 0.0180 seconds\n",
      "\n",
      "Model 7:\n",
      "Parameters: {'knn__n_neighbors': 3, 'knn__p': 2, 'knn__weights': 'uniform'}\n",
      "Mean Test Score: 0.9648\n",
      "Standard Deviation: 0.0027\n",
      "Rank: 37\n",
      "Average Fit Time: 0.0176 seconds\n",
      "\n",
      "Model 8:\n",
      "Parameters: {'knn__n_neighbors': 3, 'knn__p': 2, 'knn__weights': 'distance'}\n",
      "Mean Test Score: 0.9620\n",
      "Standard Deviation: 0.0023\n",
      "Rank: 39\n",
      "Average Fit Time: 0.0176 seconds\n",
      "\n",
      "Model 9:\n",
      "Parameters: {'knn__n_neighbors': 5, 'knn__p': 1, 'knn__weights': 'uniform'}\n",
      "Mean Test Score: 0.9693\n",
      "Standard Deviation: 0.0015\n",
      "Rank: 27\n",
      "Average Fit Time: 0.0179 seconds\n",
      "\n",
      "Model 10:\n",
      "Parameters: {'knn__n_neighbors': 5, 'knn__p': 1, 'knn__weights': 'distance'}\n",
      "Mean Test Score: 0.9657\n",
      "Standard Deviation: 0.0016\n",
      "Rank: 36\n",
      "Average Fit Time: 0.0175 seconds\n",
      "\n",
      "Model 11:\n",
      "Parameters: {'knn__n_neighbors': 5, 'knn__p': 2, 'knn__weights': 'uniform'}\n",
      "Mean Test Score: 0.9693\n",
      "Standard Deviation: 0.0013\n",
      "Rank: 27\n",
      "Average Fit Time: 0.0179 seconds\n",
      "\n",
      "Model 12:\n",
      "Parameters: {'knn__n_neighbors': 5, 'knn__p': 2, 'knn__weights': 'distance'}\n",
      "Mean Test Score: 0.9661\n",
      "Standard Deviation: 0.0019\n",
      "Rank: 35\n",
      "Average Fit Time: 0.0176 seconds\n",
      "\n",
      "Model 13:\n",
      "Parameters: {'knn__n_neighbors': 7, 'knn__p': 1, 'knn__weights': 'uniform'}\n",
      "Mean Test Score: 0.9711\n",
      "Standard Deviation: 0.0012\n",
      "Rank: 16\n",
      "Average Fit Time: 0.0177 seconds\n",
      "\n",
      "Model 14:\n",
      "Parameters: {'knn__n_neighbors': 7, 'knn__p': 1, 'knn__weights': 'distance'}\n",
      "Mean Test Score: 0.9668\n",
      "Standard Deviation: 0.0016\n",
      "Rank: 34\n",
      "Average Fit Time: 0.0176 seconds\n",
      "\n",
      "Model 15:\n",
      "Parameters: {'knn__n_neighbors': 7, 'knn__p': 2, 'knn__weights': 'uniform'}\n",
      "Mean Test Score: 0.9715\n",
      "Standard Deviation: 0.0030\n",
      "Rank: 14\n",
      "Average Fit Time: 0.0176 seconds\n",
      "\n",
      "Model 16:\n",
      "Parameters: {'knn__n_neighbors': 7, 'knn__p': 2, 'knn__weights': 'distance'}\n",
      "Mean Test Score: 0.9680\n",
      "Standard Deviation: 0.0007\n",
      "Rank: 33\n",
      "Average Fit Time: 0.0175 seconds\n",
      "\n",
      "Model 17:\n",
      "Parameters: {'knn__n_neighbors': 9, 'knn__p': 1, 'knn__weights': 'uniform'}\n",
      "Mean Test Score: 0.9716\n",
      "Standard Deviation: 0.0011\n",
      "Rank: 11\n",
      "Average Fit Time: 0.0178 seconds\n",
      "\n",
      "Model 18:\n",
      "Parameters: {'knn__n_neighbors': 9, 'knn__p': 1, 'knn__weights': 'distance'}\n",
      "Mean Test Score: 0.9684\n",
      "Standard Deviation: 0.0009\n",
      "Rank: 32\n",
      "Average Fit Time: 0.0175 seconds\n",
      "\n",
      "Model 19:\n",
      "Parameters: {'knn__n_neighbors': 9, 'knn__p': 2, 'knn__weights': 'uniform'}\n",
      "Mean Test Score: 0.9715\n",
      "Standard Deviation: 0.0015\n",
      "Rank: 13\n",
      "Average Fit Time: 0.0180 seconds\n",
      "\n",
      "Model 20:\n",
      "Parameters: {'knn__n_neighbors': 9, 'knn__p': 2, 'knn__weights': 'distance'}\n",
      "Mean Test Score: 0.9688\n",
      "Standard Deviation: 0.0017\n",
      "Rank: 31\n",
      "Average Fit Time: 0.0177 seconds\n",
      "\n",
      "Model 21:\n",
      "Parameters: {'knn__n_neighbors': 11, 'knn__p': 1, 'knn__weights': 'uniform'}\n",
      "Mean Test Score: 0.9717\n",
      "Standard Deviation: 0.0019\n",
      "Rank: 7\n",
      "Average Fit Time: 0.0176 seconds\n",
      "\n",
      "Model 22:\n",
      "Parameters: {'knn__n_neighbors': 11, 'knn__p': 1, 'knn__weights': 'distance'}\n",
      "Mean Test Score: 0.9692\n",
      "Standard Deviation: 0.0016\n",
      "Rank: 29\n",
      "Average Fit Time: 0.0178 seconds\n",
      "\n",
      "Model 23:\n",
      "Parameters: {'knn__n_neighbors': 11, 'knn__p': 2, 'knn__weights': 'uniform'}\n",
      "Mean Test Score: 0.9725\n",
      "Standard Deviation: 0.0015\n",
      "Rank: 1\n",
      "Average Fit Time: 0.0176 seconds\n",
      "\n",
      "Model 24:\n",
      "Parameters: {'knn__n_neighbors': 11, 'knn__p': 2, 'knn__weights': 'distance'}\n",
      "Mean Test Score: 0.9692\n",
      "Standard Deviation: 0.0021\n",
      "Rank: 29\n",
      "Average Fit Time: 0.0175 seconds\n",
      "\n",
      "Model 25:\n",
      "Parameters: {'knn__n_neighbors': 13, 'knn__p': 1, 'knn__weights': 'uniform'}\n",
      "Mean Test Score: 0.9720\n",
      "Standard Deviation: 0.0008\n",
      "Rank: 4\n",
      "Average Fit Time: 0.0175 seconds\n",
      "\n",
      "Model 26:\n",
      "Parameters: {'knn__n_neighbors': 13, 'knn__p': 1, 'knn__weights': 'distance'}\n",
      "Mean Test Score: 0.9701\n",
      "Standard Deviation: 0.0014\n",
      "Rank: 24\n",
      "Average Fit Time: 0.0176 seconds\n",
      "\n",
      "Model 27:\n",
      "Parameters: {'knn__n_neighbors': 13, 'knn__p': 2, 'knn__weights': 'uniform'}\n",
      "Mean Test Score: 0.9721\n",
      "Standard Deviation: 0.0005\n",
      "Rank: 2\n",
      "Average Fit Time: 0.0179 seconds\n",
      "\n",
      "Model 28:\n",
      "Parameters: {'knn__n_neighbors': 13, 'knn__p': 2, 'knn__weights': 'distance'}\n",
      "Mean Test Score: 0.9700\n",
      "Standard Deviation: 0.0018\n",
      "Rank: 25\n",
      "Average Fit Time: 0.0177 seconds\n",
      "\n",
      "Model 29:\n",
      "Parameters: {'knn__n_neighbors': 15, 'knn__p': 1, 'knn__weights': 'uniform'}\n",
      "Mean Test Score: 0.9716\n",
      "Standard Deviation: 0.0011\n",
      "Rank: 11\n",
      "Average Fit Time: 0.0176 seconds\n",
      "\n",
      "Model 30:\n",
      "Parameters: {'knn__n_neighbors': 15, 'knn__p': 1, 'knn__weights': 'distance'}\n",
      "Mean Test Score: 0.9705\n",
      "Standard Deviation: 0.0014\n",
      "Rank: 20\n",
      "Average Fit Time: 0.0175 seconds\n",
      "\n",
      "Model 31:\n",
      "Parameters: {'knn__n_neighbors': 15, 'knn__p': 2, 'knn__weights': 'uniform'}\n",
      "Mean Test Score: 0.9712\n",
      "Standard Deviation: 0.0011\n",
      "Rank: 15\n",
      "Average Fit Time: 0.0179 seconds\n",
      "\n",
      "Model 32:\n",
      "Parameters: {'knn__n_neighbors': 15, 'knn__p': 2, 'knn__weights': 'distance'}\n",
      "Mean Test Score: 0.9700\n",
      "Standard Deviation: 0.0013\n",
      "Rank: 25\n",
      "Average Fit Time: 0.0177 seconds\n",
      "\n",
      "Model 33:\n",
      "Parameters: {'knn__n_neighbors': 17, 'knn__p': 1, 'knn__weights': 'uniform'}\n",
      "Mean Test Score: 0.9717\n",
      "Standard Deviation: 0.0012\n",
      "Rank: 7\n",
      "Average Fit Time: 0.0177 seconds\n",
      "\n",
      "Model 34:\n",
      "Parameters: {'knn__n_neighbors': 17, 'knn__p': 1, 'knn__weights': 'distance'}\n",
      "Mean Test Score: 0.9709\n",
      "Standard Deviation: 0.0015\n",
      "Rank: 17\n",
      "Average Fit Time: 0.0175 seconds\n",
      "\n",
      "Model 35:\n",
      "Parameters: {'knn__n_neighbors': 17, 'knn__p': 2, 'knn__weights': 'uniform'}\n",
      "Mean Test Score: 0.9717\n",
      "Standard Deviation: 0.0012\n",
      "Rank: 9\n",
      "Average Fit Time: 0.0176 seconds\n",
      "\n",
      "Model 36:\n",
      "Parameters: {'knn__n_neighbors': 17, 'knn__p': 2, 'knn__weights': 'distance'}\n",
      "Mean Test Score: 0.9704\n",
      "Standard Deviation: 0.0012\n",
      "Rank: 21\n",
      "Average Fit Time: 0.0178 seconds\n",
      "\n",
      "Model 37:\n",
      "Parameters: {'knn__n_neighbors': 19, 'knn__p': 1, 'knn__weights': 'uniform'}\n",
      "Mean Test Score: 0.9719\n",
      "Standard Deviation: 0.0013\n",
      "Rank: 6\n",
      "Average Fit Time: 0.0176 seconds\n",
      "\n",
      "Model 38:\n",
      "Parameters: {'knn__n_neighbors': 19, 'knn__p': 1, 'knn__weights': 'distance'}\n",
      "Mean Test Score: 0.9704\n",
      "Standard Deviation: 0.0014\n",
      "Rank: 21\n",
      "Average Fit Time: 0.0183 seconds\n",
      "\n",
      "Model 39:\n",
      "Parameters: {'knn__n_neighbors': 19, 'knn__p': 2, 'knn__weights': 'uniform'}\n",
      "Mean Test Score: 0.9721\n",
      "Standard Deviation: 0.0009\n",
      "Rank: 2\n",
      "Average Fit Time: 0.0176 seconds\n",
      "\n",
      "Model 40:\n",
      "Parameters: {'knn__n_neighbors': 19, 'knn__p': 2, 'knn__weights': 'distance'}\n",
      "Mean Test Score: 0.9705\n",
      "Standard Deviation: 0.0010\n",
      "Rank: 19\n",
      "Average Fit Time: 0.0175 seconds\n",
      "\n",
      "Model 41:\n",
      "Parameters: {'knn__n_neighbors': 21, 'knn__p': 1, 'knn__weights': 'uniform'}\n",
      "Mean Test Score: 0.9720\n",
      "Standard Deviation: 0.0008\n",
      "Rank: 4\n",
      "Average Fit Time: 0.0174 seconds\n",
      "\n",
      "Model 42:\n",
      "Parameters: {'knn__n_neighbors': 21, 'knn__p': 1, 'knn__weights': 'distance'}\n",
      "Mean Test Score: 0.9707\n",
      "Standard Deviation: 0.0014\n",
      "Rank: 18\n",
      "Average Fit Time: 0.0176 seconds\n",
      "\n",
      "Model 43:\n",
      "Parameters: {'knn__n_neighbors': 21, 'knn__p': 2, 'knn__weights': 'uniform'}\n",
      "Mean Test Score: 0.9717\n",
      "Standard Deviation: 0.0014\n",
      "Rank: 9\n",
      "Average Fit Time: 0.0176 seconds\n",
      "\n",
      "Model 44:\n",
      "Parameters: {'knn__n_neighbors': 21, 'knn__p': 2, 'knn__weights': 'distance'}\n",
      "Mean Test Score: 0.9704\n",
      "Standard Deviation: 0.0010\n",
      "Rank: 23\n",
      "Average Fit Time: 0.0174 seconds\n"
     ]
    }
   ],
   "source": [
    "def print_cv_results(grid):\n",
    "    results = grid.cv_results_\n",
    "    \n",
    "    print(\"\\nPARAMETER COMBINATIONS TESTED:\")\n",
    "    print(\"-\" * 30)\n",
    "    for i, params in enumerate(results['params']):\n",
    "        print(f\"\\nModel {i+1}:\")\n",
    "        print(f\"Parameters: {params}\")\n",
    "        print(f\"Mean Test Score: {results['mean_test_score'][i]:.4f}\")\n",
    "        print(f\"Standard Deviation: {results['std_test_score'][i]:.4f}\")\n",
    "        print(f\"Rank: {results['rank_test_score'][i]}\")\n",
    "        print(f\"Average Fit Time: {results['mean_fit_time'][i]:.4f} seconds\")\n",
    "\n",
    "# Use it on your grid search results\n",
    "print_cv_results(weight_grid)"
   ]
  },
  {
   "cell_type": "code",
   "execution_count": null,
   "metadata": {},
   "outputs": [],
   "source": []
  }
 ],
 "metadata": {
  "kernelspec": {
   "display_name": "Python 3 (ipykernel)",
   "language": "python",
   "name": "python3"
  },
  "language_info": {
   "codemirror_mode": {
    "name": "ipython",
    "version": 3
   },
   "file_extension": ".py",
   "mimetype": "text/x-python",
   "name": "python",
   "nbconvert_exporter": "python",
   "pygments_lexer": "ipython3",
   "version": "3.9.11"
  },
  "widgets": {
   "application/vnd.jupyter.widget-state+json": {
    "state": {},
    "version_major": 2,
    "version_minor": 0
   }
  }
 },
 "nbformat": 4,
 "nbformat_minor": 4
}
