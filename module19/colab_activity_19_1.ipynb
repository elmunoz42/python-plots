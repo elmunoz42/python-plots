{
 "cells": [
  {
   "cell_type": "markdown",
   "metadata": {
    "id": "K_hWsEO7o9el",
    "nbgrader": {
     "grade": false,
     "grade_id": "cell-af56e50bd68d708f",
     "locked": true,
     "schema_version": 3,
     "solution": false,
     "task": false
    }
   },
   "source": [
    "###  Colab Activity 19.1: Regression Models for Prediction\n",
    "\n",
    "**Expected Time = 60 minutes**\n",
    "\n",
    "\n",
    "This activity will use regression models to provide scores for unseen content (albums).  Using these scores, you can make recommendations for unheard albums to users. You are also given similar information as to that from the lecture in terms of *lofi* and *slick* scores for each artist.\n",
    "\n",
    "#### Index\n",
    "\n",
    "- [Problem 1](#-Problem-1)\n",
    "- [Problem 2](#-Problem-2)\n",
    "- [Problem 3](#-Problem-3)\n",
    "- [Problem 4](#-Problem-4)\n",
    "- [Problem 5](#-Problem-5)"
   ]
  },
  {
   "cell_type": "code",
   "execution_count": 1,
   "metadata": {
    "id": "dlK3ZKfpo9en"
   },
   "outputs": [],
   "source": [
    "import os\n",
    "import matplotlib.pyplot as plt\n",
    "import pandas as pd\n",
    "import numpy as np\n",
    "\n",
    "from sklearn.linear_model import LinearRegression"
   ]
  },
  {
   "cell_type": "markdown",
   "metadata": {
    "id": "YUwKr3hSo9en",
    "nbgrader": {
     "grade": false,
     "grade_id": "cell-a4e416f01442e14f",
     "locked": true,
     "schema_version": 3,
     "solution": false,
     "task": false
    }
   },
   "source": [
    "#### Our Data\n",
    "\n",
    "This example uses a synthetic dataset of reviews from five individuals and five albums.  The dataset is loaded and displayed below. Two additional columns `lofi` and `slick` are included to rate the nature of the music.\n"
   ]
  },
  {
   "cell_type": "code",
   "execution_count": 2,
   "metadata": {
    "id": "nkY8plU_o9eo"
   },
   "outputs": [],
   "source": [
    "reviews = pd.read_csv('data/sample_reviews.csv', index_col=0)"
   ]
  },
  {
   "cell_type": "code",
   "execution_count": 3,
   "metadata": {
    "colab": {
     "base_uri": "https://localhost:8080/",
     "height": 206
    },
    "id": "DHvPkYvso9eo",
    "outputId": "4ba55f15-aaa9-412c-b058-2ae14303de82"
   },
   "outputs": [
    {
     "data": {
      "text/html": [
       "<div>\n",
       "<style scoped>\n",
       "    .dataframe tbody tr th:only-of-type {\n",
       "        vertical-align: middle;\n",
       "    }\n",
       "\n",
       "    .dataframe tbody tr th {\n",
       "        vertical-align: top;\n",
       "    }\n",
       "\n",
       "    .dataframe thead th {\n",
       "        text-align: right;\n",
       "    }\n",
       "</style>\n",
       "<table border=\"1\" class=\"dataframe\">\n",
       "  <thead>\n",
       "    <tr style=\"text-align: right;\">\n",
       "      <th></th>\n",
       "      <th>Alfred</th>\n",
       "      <th>Mandy</th>\n",
       "      <th>Lenny</th>\n",
       "      <th>Joan</th>\n",
       "      <th>Tino</th>\n",
       "      <th>slick</th>\n",
       "      <th>lofi</th>\n",
       "    </tr>\n",
       "  </thead>\n",
       "  <tbody>\n",
       "    <tr>\n",
       "      <th>Michael Jackson</th>\n",
       "      <td>3.0</td>\n",
       "      <td>NaN</td>\n",
       "      <td>2.0</td>\n",
       "      <td>3.0</td>\n",
       "      <td>1.0</td>\n",
       "      <td>8</td>\n",
       "      <td>2</td>\n",
       "    </tr>\n",
       "    <tr>\n",
       "      <th>Clint Black</th>\n",
       "      <td>4.0</td>\n",
       "      <td>9.0</td>\n",
       "      <td>5.0</td>\n",
       "      <td>NaN</td>\n",
       "      <td>1.0</td>\n",
       "      <td>8</td>\n",
       "      <td>2</td>\n",
       "    </tr>\n",
       "    <tr>\n",
       "      <th>Dropdead</th>\n",
       "      <td>NaN</td>\n",
       "      <td>NaN</td>\n",
       "      <td>8.0</td>\n",
       "      <td>9.0</td>\n",
       "      <td>NaN</td>\n",
       "      <td>2</td>\n",
       "      <td>9</td>\n",
       "    </tr>\n",
       "    <tr>\n",
       "      <th>Anti-Cimex</th>\n",
       "      <td>4.0</td>\n",
       "      <td>3.0</td>\n",
       "      <td>9.0</td>\n",
       "      <td>4.0</td>\n",
       "      <td>9.0</td>\n",
       "      <td>2</td>\n",
       "      <td>10</td>\n",
       "    </tr>\n",
       "    <tr>\n",
       "      <th>Cardi B</th>\n",
       "      <td>4.0</td>\n",
       "      <td>8.0</td>\n",
       "      <td>NaN</td>\n",
       "      <td>9.0</td>\n",
       "      <td>5.0</td>\n",
       "      <td>9</td>\n",
       "      <td>3</td>\n",
       "    </tr>\n",
       "  </tbody>\n",
       "</table>\n",
       "</div>"
      ],
      "text/plain": [
       "                 Alfred  Mandy  Lenny  Joan  Tino  slick  lofi\n",
       "Michael Jackson     3.0    NaN    2.0   3.0   1.0      8     2\n",
       "Clint Black         4.0    9.0    5.0   NaN   1.0      8     2\n",
       "Dropdead            NaN    NaN    8.0   9.0   NaN      2     9\n",
       "Anti-Cimex          4.0    3.0    9.0   4.0   9.0      2    10\n",
       "Cardi B             4.0    8.0    NaN   9.0   5.0      9     3"
      ]
     },
     "execution_count": 3,
     "metadata": {},
     "output_type": "execute_result"
    }
   ],
   "source": [
    "reviews.head()"
   ]
  },
  {
   "cell_type": "markdown",
   "metadata": {
    "id": "Gr6i-QCno9eo",
    "nbgrader": {
     "grade": false,
     "grade_id": "cell-9e923f03cdc9333d",
     "locked": true,
     "schema_version": 3,
     "solution": false,
     "task": false
    }
   },
   "source": [
    "[Back to top](#-Index)\n",
    "\n",
    "### Problem 1\n",
    "\n",
    "#### Considering Alfred\n",
    "\n",
    "Define `X` to contain only the `slick` and `lofi` columns of the `reviews` dataframe, with rows where the `Alfred` column had missing values removed. Define `y`  as a new series y that contains the non-missing values from the `Alfred` column in the `reviews` dataframe.\n",
    "\n",
    "Instantiate a new linear regression model and fit it to `X` and `y`. Assign this model to the variable `alfred_lr`.\n",
    "\n",
    "Next, create a new dataframe `newx` that contains only the rows from the `reviews` dataframe where the `Alfred` column has missing (NaN) values. Additionally, ensure that you are selecting only the `slick` and `lofi` columns from these rows.\n",
    "\n",
    "Finally, use the function `predict` on `alfred_lr` with argument equal to `newx` to calculate your predictions. Assign your result to `alfred_dd_predict`.\n"
   ]
  },
  {
   "cell_type": "code",
   "execution_count": 4,
   "metadata": {
    "colab": {
     "base_uri": "https://localhost:8080/",
     "height": 89
    },
    "id": "fOWUU50-o9eo",
    "nbgrader": {
     "grade": false,
     "grade_id": "cell-8dd3aaade5f4d254",
     "locked": false,
     "schema_version": 3,
     "solution": true,
     "task": false
    },
    "outputId": "7285d505-6ac1-4f93-de27-e9bc335b59ac"
   },
   "outputs": [
    {
     "data": {
      "text/html": [
       "<div>\n",
       "<style scoped>\n",
       "    .dataframe tbody tr th:only-of-type {\n",
       "        vertical-align: middle;\n",
       "    }\n",
       "\n",
       "    .dataframe tbody tr th {\n",
       "        vertical-align: top;\n",
       "    }\n",
       "\n",
       "    .dataframe thead th {\n",
       "        text-align: right;\n",
       "    }\n",
       "</style>\n",
       "<table border=\"1\" class=\"dataframe\">\n",
       "  <thead>\n",
       "    <tr style=\"text-align: right;\">\n",
       "      <th></th>\n",
       "      <th>Alfred</th>\n",
       "      <th>Mandy</th>\n",
       "      <th>Lenny</th>\n",
       "      <th>Joan</th>\n",
       "      <th>Tino</th>\n",
       "      <th>slick</th>\n",
       "      <th>lofi</th>\n",
       "      <th>predicted_rating</th>\n",
       "    </tr>\n",
       "  </thead>\n",
       "  <tbody>\n",
       "    <tr>\n",
       "      <th>Dropdead</th>\n",
       "      <td>NaN</td>\n",
       "      <td>NaN</td>\n",
       "      <td>8.0</td>\n",
       "      <td>9.0</td>\n",
       "      <td>NaN</td>\n",
       "      <td>2</td>\n",
       "      <td>9</td>\n",
       "      <td>3.75</td>\n",
       "    </tr>\n",
       "  </tbody>\n",
       "</table>\n",
       "</div>"
      ],
      "text/plain": [
       "          Alfred  Mandy  Lenny  Joan  Tino  slick  lofi  predicted_rating\n",
       "Dropdead     NaN    NaN    8.0   9.0   NaN      2     9              3.75"
      ]
     },
     "execution_count": 4,
     "metadata": {},
     "output_type": "execute_result"
    }
   ],
   "source": [
    "def get_predictions_and_coefficients(reviews_df, user, feature_columns):\n",
    "    \"\"\"\n",
    "    Creates a content-based filtering model for a specified user and returns predictions for unrated items.\n",
    "\n",
    "    Parameters:\n",
    "    ----------\n",
    "    reviews_df : pandas.DataFrame\n",
    "        DataFrame containing user ratings and item features\n",
    "    user : str\n",
    "        The name of the user column in the reviews DataFrame\n",
    "    feature_columns : list\n",
    "        List of column names representing the item features (e.g., ['slick', 'lofi'])\n",
    "\n",
    "    Returns:\n",
    "    -------\n",
    "    tuple\n",
    "        A tuple containing three elements:\n",
    "        - predictions_df: pandas.DataFrame\n",
    "            DataFrame with unrated items and their predicted ratings\n",
    "        - user_coefficients: numpy.ndarray\n",
    "            The learned coefficients (user factors) representing the user's preferences\n",
    "        - intercept: float\n",
    "            The intercept term from the linear regression model\n",
    "\n",
    "    Examples:\n",
    "    --------\n",
    "    >>> predictions_df, coef, intercept = get_predictions_and_coefficients(\n",
    "    ...     reviews, 'Alfred', ['slick', 'lofi'])\n",
    "    >>> print(f\"Alfred's preferences: {dict(zip(['slick', 'lofi'], coef))}\")\n",
    "    >>> print(f\"Intercept: {intercept}\")\n",
    "    >>> print(predictions_df.sort_values('predicted_rating', ascending=False).head())\n",
    "    \"\"\"\n",
    "    # Filter for items the user has rated\n",
    "    df_user_notnull = reviews_df[reviews_df[user].notnull()]\n",
    "\n",
    "    # Extract features and target for training\n",
    "    X = df_user_notnull[feature_columns]\n",
    "    y = df_user_notnull[user]\n",
    "\n",
    "    # Fit the linear regression model\n",
    "    user_lr = LinearRegression().fit(X, y)\n",
    "\n",
    "    # Get items the user hasn't rated\n",
    "    df_user_nulls = reviews_df[reviews_df[user].isnull()]\n",
    "\n",
    "    # If there are unrated items, predict ratings for them\n",
    "    if not df_user_nulls.empty:\n",
    "        newx = df_user_nulls[feature_columns]\n",
    "        predictions = user_lr.predict(newx)\n",
    "\n",
    "        # Create a DataFrame with the predictions\n",
    "        predictions_df = df_user_nulls.copy()\n",
    "        predictions_df['predicted_rating'] = predictions\n",
    "    else:\n",
    "        predictions_df = pd.DataFrame()  # Empty DataFrame if no predictions\n",
    "\n",
    "    return predictions_df, user_lr.coef_, user_lr.intercept_\n",
    "alfred_dd_predict, alfred_coefficients, _ = get_predictions_and_coefficients(reviews, 'Alfred', ['slick', 'lofi'])\n",
    "### ANSWER CHECK\n",
    "alfred_dd_predict"
   ]
  },
  {
   "cell_type": "markdown",
   "metadata": {
    "id": "0pHRAENHo9ep",
    "nbgrader": {
     "grade": false,
     "grade_id": "cell-a1c4b5a8d103ebb0",
     "locked": true,
     "schema_version": 3,
     "solution": false,
     "task": false
    }
   },
   "source": [
    "[Back to top](#-Index)\n",
    "\n",
    "### Problem 2\n",
    "\n",
    "#### User Vector for Alfred\n",
    "\n",
    "\n",
    "Assign the coefficients of the linear regressions model `alfred_lr` to `alfred_vector` below.\n"
   ]
  },
  {
   "cell_type": "code",
   "execution_count": 5,
   "metadata": {
    "colab": {
     "base_uri": "https://localhost:8080/",
     "height": 81
    },
    "id": "GOrIoZClo9ep",
    "nbgrader": {
     "grade": false,
     "grade_id": "cell-3b381e2375b1d33c",
     "locked": false,
     "schema_version": 3,
     "solution": true,
     "task": false
    },
    "outputId": "2455e832-c708-4ae2-d9e5-0099b68483da"
   },
   "outputs": [
    {
     "data": {
      "text/html": [
       "<div>\n",
       "<style scoped>\n",
       "    .dataframe tbody tr th:only-of-type {\n",
       "        vertical-align: middle;\n",
       "    }\n",
       "\n",
       "    .dataframe tbody tr th {\n",
       "        vertical-align: top;\n",
       "    }\n",
       "\n",
       "    .dataframe thead th {\n",
       "        text-align: right;\n",
       "    }\n",
       "</style>\n",
       "<table border=\"1\" class=\"dataframe\">\n",
       "  <thead>\n",
       "    <tr style=\"text-align: right;\">\n",
       "      <th></th>\n",
       "      <th>slick</th>\n",
       "      <th>lofi</th>\n",
       "    </tr>\n",
       "  </thead>\n",
       "  <tbody>\n",
       "    <tr>\n",
       "      <th>Alfred</th>\n",
       "      <td>0.25</td>\n",
       "      <td>0.25</td>\n",
       "    </tr>\n",
       "  </tbody>\n",
       "</table>\n",
       "</div>"
      ],
      "text/plain": [
       "        slick  lofi\n",
       "Alfred   0.25  0.25"
      ]
     },
     "execution_count": 5,
     "metadata": {},
     "output_type": "execute_result"
    }
   ],
   "source": [
    "\n",
    "alfred_vector = alfred_coefficients\n",
    "\n",
    "\n",
    "### ANSWER CHECK\n",
    "pd.DataFrame(alfred_vector.reshape(1, 2), columns = ['slick', 'lofi'], index = ['Alfred'])"
   ]
  },
  {
   "cell_type": "markdown",
   "metadata": {
    "id": "mazaSNzro9ep",
    "nbgrader": {
     "grade": false,
     "grade_id": "cell-464f03a653c20dd5",
     "locked": true,
     "schema_version": 3,
     "solution": false,
     "task": false
    }
   },
   "source": [
    "[Back to top](#-Index)\n",
    "\n",
    "### Problem 3\n",
    "\n",
    "#### Considering Tino\n",
    "\n",
    "\n",
    "Build a regression model `tino_lr` in a similar way as in Problem 1, but now for the user `Tino`.  Assign the prediction to `tino_dd_predict` as a numpy array below."
   ]
  },
  {
   "cell_type": "code",
   "execution_count": 6,
   "metadata": {
    "colab": {
     "base_uri": "https://localhost:8080/",
     "height": 89
    },
    "id": "rXym56Q9o9ep",
    "nbgrader": {
     "grade": false,
     "grade_id": "cell-933ef3c460668fc9",
     "locked": false,
     "schema_version": 3,
     "solution": true,
     "task": false
    },
    "outputId": "1942eaee-93b5-4f50-ef87-b88c5e36aa16"
   },
   "outputs": [
    {
     "data": {
      "text/html": [
       "<div>\n",
       "<style scoped>\n",
       "    .dataframe tbody tr th:only-of-type {\n",
       "        vertical-align: middle;\n",
       "    }\n",
       "\n",
       "    .dataframe tbody tr th {\n",
       "        vertical-align: top;\n",
       "    }\n",
       "\n",
       "    .dataframe thead th {\n",
       "        text-align: right;\n",
       "    }\n",
       "</style>\n",
       "<table border=\"1\" class=\"dataframe\">\n",
       "  <thead>\n",
       "    <tr style=\"text-align: right;\">\n",
       "      <th></th>\n",
       "      <th>Alfred</th>\n",
       "      <th>Mandy</th>\n",
       "      <th>Lenny</th>\n",
       "      <th>Joan</th>\n",
       "      <th>Tino</th>\n",
       "      <th>slick</th>\n",
       "      <th>lofi</th>\n",
       "      <th>predicted_rating</th>\n",
       "    </tr>\n",
       "  </thead>\n",
       "  <tbody>\n",
       "    <tr>\n",
       "      <th>Dropdead</th>\n",
       "      <td>NaN</td>\n",
       "      <td>NaN</td>\n",
       "      <td>8.0</td>\n",
       "      <td>9.0</td>\n",
       "      <td>NaN</td>\n",
       "      <td>2</td>\n",
       "      <td>9</td>\n",
       "      <td>6.714286</td>\n",
       "    </tr>\n",
       "  </tbody>\n",
       "</table>\n",
       "</div>"
      ],
      "text/plain": [
       "          Alfred  Mandy  Lenny  Joan  Tino  slick  lofi  predicted_rating\n",
       "Dropdead     NaN    NaN    8.0   9.0   NaN      2     9          6.714286"
      ]
     },
     "execution_count": 6,
     "metadata": {},
     "output_type": "execute_result"
    }
   ],
   "source": [
    "\n",
    "tino_dd_predict , tino_coefficients, _ = get_predictions_and_coefficients(reviews, 'Tino', ['slick', 'lofi'])\n",
    "\n",
    "\n",
    "\n",
    "### ANSWER CHECK\n",
    "tino_dd_predict"
   ]
  },
  {
   "cell_type": "markdown",
   "metadata": {
    "id": "0lpoRjlqo9ep",
    "nbgrader": {
     "grade": false,
     "grade_id": "cell-315271ffcff37e85",
     "locked": true,
     "schema_version": 3,
     "solution": false,
     "task": false
    }
   },
   "source": [
    "[Back to top](#-Index)\n",
    "\n",
    "### Problem 4\n",
    "\n",
    "#### Tino's user vector\n",
    "\n",
    "\n",
    "Assign the coefficients of the linear regressions model `tino_lr` to `tino_vector` below."
   ]
  },
  {
   "cell_type": "code",
   "execution_count": 7,
   "metadata": {
    "colab": {
     "base_uri": "https://localhost:8080/",
     "height": 81
    },
    "id": "skBV6Ejho9ep",
    "nbgrader": {
     "grade": false,
     "grade_id": "cell-36e0cafabb1c768f",
     "locked": false,
     "schema_version": 3,
     "solution": true,
     "task": false
    },
    "outputId": "92e81ba7-066a-4827-87cb-7499e5f91dea"
   },
   "outputs": [
    {
     "data": {
      "text/html": [
       "<div>\n",
       "<style scoped>\n",
       "    .dataframe tbody tr th:only-of-type {\n",
       "        vertical-align: middle;\n",
       "    }\n",
       "\n",
       "    .dataframe tbody tr th {\n",
       "        vertical-align: top;\n",
       "    }\n",
       "\n",
       "    .dataframe thead th {\n",
       "        text-align: right;\n",
       "    }\n",
       "</style>\n",
       "<table border=\"1\" class=\"dataframe\">\n",
       "  <thead>\n",
       "    <tr style=\"text-align: right;\">\n",
       "      <th></th>\n",
       "      <th>slick</th>\n",
       "      <th>lofi</th>\n",
       "    </tr>\n",
       "  </thead>\n",
       "  <tbody>\n",
       "    <tr>\n",
       "      <th>Tino</th>\n",
       "      <td>1.714286</td>\n",
       "      <td>2.285714</td>\n",
       "    </tr>\n",
       "  </tbody>\n",
       "</table>\n",
       "</div>"
      ],
      "text/plain": [
       "         slick      lofi\n",
       "Tino  1.714286  2.285714"
      ]
     },
     "execution_count": 7,
     "metadata": {},
     "output_type": "execute_result"
    }
   ],
   "source": [
    "\n",
    "tino_vector = tino_coefficients\n",
    "\n",
    "\n",
    "### ANSWER CHECK\n",
    "pd.DataFrame(tino_vector.reshape(1, 2), columns = ['slick', 'lofi'], index = ['Tino'])"
   ]
  },
  {
   "cell_type": "markdown",
   "metadata": {
    "id": "XMS29jl3o9eq",
    "nbgrader": {
     "grade": false,
     "grade_id": "cell-7726f1df1de0b11d",
     "locked": true,
     "schema_version": 3,
     "solution": false,
     "task": false
    }
   },
   "source": [
    "[Back to top](#-Index)\n",
    "\n",
    "### Problem 5\n",
    "\n",
    "#### Completing the Table\n",
    "\n",
    "\n",
    "Write a `for` loop to iterate over each column of `reviews` and perform the prediction process using the same columns of `slick` and `lofi` as inputs.\n",
    "\n",
    "Create a DataFrame called `reviews_df_full` and complete the scores for each individual."
   ]
  },
  {
   "cell_type": "code",
   "execution_count": 8,
   "metadata": {
    "colab": {
     "base_uri": "https://localhost:8080/"
    },
    "id": "UkEYWyBHZCBe",
    "outputId": "0237d6bf-fa95-4280-fdfc-4dc560c053cd"
   },
   "outputs": [
    {
     "data": {
      "text/plain": [
       "Index(['Alfred', 'Mandy', 'Lenny', 'Joan', 'Tino', 'slick', 'lofi'], dtype='object')"
      ]
     },
     "execution_count": 8,
     "metadata": {},
     "output_type": "execute_result"
    }
   ],
   "source": [
    "reviews.columns"
   ]
  },
  {
   "cell_type": "code",
   "execution_count": 9,
   "metadata": {
    "colab": {
     "base_uri": "https://localhost:8080/",
     "height": 206
    },
    "id": "1SvQVXIUo9eq",
    "nbgrader": {
     "grade": false,
     "grade_id": "cell-13ba7e6354620eac",
     "locked": false,
     "schema_version": 3,
     "solution": true,
     "task": false
    },
    "outputId": "23213d8f-a9f6-4e32-898a-7656291ce965"
   },
   "outputs": [
    {
     "data": {
      "text/html": [
       "<div>\n",
       "<style scoped>\n",
       "    .dataframe tbody tr th:only-of-type {\n",
       "        vertical-align: middle;\n",
       "    }\n",
       "\n",
       "    .dataframe tbody tr th {\n",
       "        vertical-align: top;\n",
       "    }\n",
       "\n",
       "    .dataframe thead th {\n",
       "        text-align: right;\n",
       "    }\n",
       "</style>\n",
       "<table border=\"1\" class=\"dataframe\">\n",
       "  <thead>\n",
       "    <tr style=\"text-align: right;\">\n",
       "      <th></th>\n",
       "      <th>Alfred</th>\n",
       "      <th>Mandy</th>\n",
       "      <th>Lenny</th>\n",
       "      <th>Joan</th>\n",
       "      <th>Tino</th>\n",
       "      <th>slick</th>\n",
       "      <th>lofi</th>\n",
       "    </tr>\n",
       "  </thead>\n",
       "  <tbody>\n",
       "    <tr>\n",
       "      <th>Michael Jackson</th>\n",
       "      <td>3.00</td>\n",
       "      <td>9.000000</td>\n",
       "      <td>2.000000</td>\n",
       "      <td>3.000000</td>\n",
       "      <td>1.000000</td>\n",
       "      <td>8</td>\n",
       "      <td>2</td>\n",
       "    </tr>\n",
       "    <tr>\n",
       "      <th>Clint Black</th>\n",
       "      <td>4.00</td>\n",
       "      <td>9.000000</td>\n",
       "      <td>5.000000</td>\n",
       "      <td>4.664444</td>\n",
       "      <td>1.000000</td>\n",
       "      <td>8</td>\n",
       "      <td>2</td>\n",
       "    </tr>\n",
       "    <tr>\n",
       "      <th>Dropdead</th>\n",
       "      <td>3.75</td>\n",
       "      <td>3.857143</td>\n",
       "      <td>8.000000</td>\n",
       "      <td>9.000000</td>\n",
       "      <td>6.714286</td>\n",
       "      <td>2</td>\n",
       "      <td>9</td>\n",
       "    </tr>\n",
       "    <tr>\n",
       "      <th>Anti-Cimex</th>\n",
       "      <td>4.00</td>\n",
       "      <td>3.000000</td>\n",
       "      <td>9.000000</td>\n",
       "      <td>4.000000</td>\n",
       "      <td>9.000000</td>\n",
       "      <td>2</td>\n",
       "      <td>10</td>\n",
       "    </tr>\n",
       "    <tr>\n",
       "      <th>Cardi B</th>\n",
       "      <td>4.00</td>\n",
       "      <td>8.000000</td>\n",
       "      <td>4.916667</td>\n",
       "      <td>9.000000</td>\n",
       "      <td>5.000000</td>\n",
       "      <td>9</td>\n",
       "      <td>3</td>\n",
       "    </tr>\n",
       "  </tbody>\n",
       "</table>\n",
       "</div>"
      ],
      "text/plain": [
       "                 Alfred     Mandy     Lenny      Joan      Tino  slick  lofi\n",
       "Michael Jackson    3.00  9.000000  2.000000  3.000000  1.000000      8     2\n",
       "Clint Black        4.00  9.000000  5.000000  4.664444  1.000000      8     2\n",
       "Dropdead           3.75  3.857143  8.000000  9.000000  6.714286      2     9\n",
       "Anti-Cimex         4.00  3.000000  9.000000  4.000000  9.000000      2    10\n",
       "Cardi B            4.00  8.000000  4.916667  9.000000  5.000000      9     3"
      ]
     },
     "execution_count": 9,
     "metadata": {},
     "output_type": "execute_result"
    }
   ],
   "source": [
    "users = ['Alfred', 'Mandy', 'Lenny', 'Joan', 'Tino']\n",
    "reviews_df_full = reviews.copy()\n",
    "for user in users:\n",
    "    predictions_df, _, _ = get_predictions_and_coefficients(reviews, user, ['slick', 'lofi'])\n",
    "    if not predictions_df.empty:\n",
    "        # Update existing columns with predicted values\n",
    "        reviews_df_full.loc[predictions_df.index, user] = predictions_df['predicted_rating']\n",
    "\n",
    "### ANSWER CHECK\n",
    "reviews_df_full"
   ]
  },
  {
   "cell_type": "markdown",
   "metadata": {
    "id": "RnNQnaWqo9eq"
   },
   "source": [
    "## Overall Assessment by Claude 3.7\n",
    "\n",
    "Your assignment shows a strong understanding of content-based filtering and effective implementation of the recommendation system. You've successfully:\n",
    "\n",
    "1. Created a reusable function that generalizes the recommendation process\n",
    "2. Applied the function to make predictions for multiple users\n",
    "3. Properly handled the mathematical foundations (linear regression, coefficients)\n",
    "4. Completed all the required problems in the assignment\n",
    "\n",
    "## Detailed Feedback by Problem\n",
    "\n",
    "### Problem 1: Considering Alfred\n",
    "✅ Correctly implemented. You've created a generalized function and used it to generate predictions for albums Alfred hasn't rated. Your approach of filtering for rated and unrated items is appropriate and follows the content-based filtering methodology described in your course materials.\n",
    "\n",
    "### Problem 2: User Vector for Alfred\n",
    "✅ Correctly implemented. You've properly extracted Alfred's coefficient vector (user factors) that represents his preferences for \"slick\" and \"lofi\" music features.\n",
    "\n",
    "### Problem 3: Considering Tino\n",
    "✅ Correctly implemented. You've reused your function to generate predictions for Tino's unrated albums, demonstrating the reusability of your approach.\n",
    "\n",
    "### Problem 4: Tino's User Vector\n",
    "✅ Correctly implemented. You've correctly extracted Tino's preference coefficients.\n",
    "\n",
    "### Problem 5: Completing the Table\n",
    "✅ Correctly implemented. Your for-loop effectively iterates through all users and fills in missing ratings with predicted values, creating a complete recommendation matrix.\n",
    "\n",
    "## Code Quality\n",
    "\n",
    "Your function `get_predictions_and_coefficients` is particularly well-designed:\n",
    "- Excellent docstring with clear parameter and return value descriptions\n",
    "- Good error handling for empty prediction cases\n",
    "- Appropriate return values that include predictions, coefficients, and intercept\n",
    "- Generalizable to different dataframes and feature sets\n",
    "\n",
    "## Areas for Improvement\n",
    "\n",
    "While your implementation is solid, here are a few suggestions for further enhancement:\n",
    "\n",
    "1. Consider adding a threshold parameter to filter recommendations (e.g., only recommend items with predicted ratings above 3)\n",
    "2. You could add a parameter to control whether to return the full predictions dataframe or just the predicted values\n",
    "3. Consider adding visualization of user preferences (e.g., plotting coefficients as a bar chart)\n",
    "\n",
    "## Final Grade\n",
    "\n",
    "Based on the requirements and your implementation, I would give this assignment an **A/Excellent** grade. You've demonstrated a thorough understanding of the content-based filtering approach and implemented an elegant, reusable solution that completes all required tasks.\n",
    "\n",
    "Your abstracted function shows excellent software engineering practices beyond what was strictly required for the assignment, which is commendable."
   ]
  },
  {
   "cell_type": "markdown",
   "metadata": {},
   "source": [
    "# Function improvement UNTESTED #1"
   ]
  },
  {
   "cell_type": "code",
   "execution_count": 10,
   "metadata": {},
   "outputs": [],
   "source": [
    "def get_predictions_and_coefficients(reviews_df, user, feature_columns, model_class=LinearRegression):\n",
    "    \"\"\"\n",
    "    Creates a content-based filtering model for a specified user and returns predictions for unrated items.\n",
    "    \n",
    "    Parameters:\n",
    "    ----------\n",
    "    reviews_df : pandas.DataFrame\n",
    "        DataFrame containing user ratings and item features\n",
    "    user : str\n",
    "        The name of the user column in the reviews DataFrame\n",
    "    feature_columns : list\n",
    "        List of column names representing the item features (e.g., ['slick', 'lofi'])\n",
    "    model_class : class, default=LinearRegression\n",
    "        The regression model class to instantiate. Must implement fit() and predict() methods\n",
    "        compatible with scikit-learn API\n",
    "        \n",
    "    Returns:\n",
    "    -------\n",
    "    tuple\n",
    "        A tuple containing three elements:\n",
    "        - predictions_df: pandas.DataFrame\n",
    "            DataFrame with unrated items and their predicted ratings\n",
    "        - coefficients: numpy.ndarray or None\n",
    "            The learned coefficients if available (may be None for some models)\n",
    "        - intercept: float or None\n",
    "            The intercept term if available (may be None for some models)\n",
    "    \n",
    "    Examples:\n",
    "    --------\n",
    "    >>> # With default LinearRegression\n",
    "    >>> predictions_df, coef, intercept = get_predictions_and_coefficients(\n",
    "    ...     reviews, 'Alfred', ['slick', 'lofi'])\n",
    "    >>> \n",
    "    >>> # With Ridge regression\n",
    "    >>> from sklearn.linear_model import Ridge\n",
    "    >>> predictions_df, coef, intercept = get_predictions_and_coefficients(\n",
    "    ...     reviews, 'Alfred', ['slick', 'lofi'], Ridge)\n",
    "    \"\"\"\n",
    "    # Filter for items the user has rated\n",
    "    df_user_notnull = reviews_df[reviews_df[user].notnull()]\n",
    "    \n",
    "    # Extract features and target for training\n",
    "    X = df_user_notnull[feature_columns]\n",
    "    y = df_user_notnull[user]\n",
    "    \n",
    "    # Instantiate and fit the model\n",
    "    model = model_class()\n",
    "    model.fit(X, y)\n",
    "    \n",
    "    # Get items the user hasn't rated\n",
    "    df_user_nulls = reviews_df[reviews_df[user].isnull()]\n",
    "    \n",
    "    # If there are unrated items, predict ratings for them\n",
    "    if not df_user_nulls.empty:\n",
    "        newx = df_user_nulls[feature_columns]\n",
    "        predictions = model.predict(newx)\n",
    "        \n",
    "        # Create a DataFrame with the predictions\n",
    "        predictions_df = df_user_nulls.copy()\n",
    "        predictions_df['predicted_rating'] = predictions\n",
    "    else:\n",
    "        predictions_df = pd.DataFrame()  # Empty DataFrame if no predictions\n",
    "    \n",
    "    # Try to get coefficients and intercept if available\n",
    "    try:\n",
    "        coefficients = model.coef_\n",
    "    except (AttributeError, KeyError):\n",
    "        coefficients = None\n",
    "        \n",
    "    try:\n",
    "        intercept = model.intercept_\n",
    "    except (AttributeError, KeyError):\n",
    "        intercept = None\n",
    "    \n",
    "    return predictions_df, coefficients, intercept"
   ]
  },
  {
   "cell_type": "markdown",
   "metadata": {},
   "source": [
    "# FUNCTION IMPROVEMENTS UNTESTED #2 "
   ]
  },
  {
   "cell_type": "code",
   "execution_count": 12,
   "metadata": {},
   "outputs": [],
   "source": [
    "def complete_recommendation_table(reviews_df, feature_columns, model_class=LinearRegression, **model_params):\n",
    "    \"\"\"\n",
    "    Completes a recommendation table by predicting missing ratings for all users.\n",
    "    \n",
    "    Parameters:\n",
    "    ----------\n",
    "    reviews_df : pandas.DataFrame\n",
    "        DataFrame containing user ratings and item features\n",
    "    feature_columns : list\n",
    "        List of column names representing the item features (e.g., ['slick', 'lofi'])\n",
    "    model_class : class, default=LinearRegression\n",
    "        The regression model class to instantiate\n",
    "    **model_params : \n",
    "        Additional parameters to pass to the model constructor\n",
    "        \n",
    "    Returns:\n",
    "    -------\n",
    "    pandas.DataFrame\n",
    "        A complete recommendation table with all missing values filled in with predictions\n",
    "    \n",
    "    Examples:\n",
    "    --------\n",
    "    >>> complete_df = complete_recommendation_table(reviews, ['slick', 'lofi'])\n",
    "    >>> # With Ridge regression and custom alpha\n",
    "    >>> from sklearn.linear_model import Ridge\n",
    "    >>> complete_df = complete_recommendation_table(reviews, ['slick', 'lofi'], Ridge, alpha=0.5)\n",
    "    \"\"\"\n",
    "    # Create a copy of the original dataframe\n",
    "    complete_df = reviews_df.copy()\n",
    "    \n",
    "    # Get all user columns (exclude feature columns)\n",
    "    user_columns = [col for col in reviews_df.columns if col not in feature_columns]\n",
    "    \n",
    "    # For each user, predict missing ratings\n",
    "    for user in user_columns:\n",
    "        # Filter for items the user has rated\n",
    "        df_user_notnull = reviews_df[reviews_df[user].notnull()]\n",
    "        \n",
    "        # Skip if user has no ratings\n",
    "        if df_user_notnull.empty:\n",
    "            continue\n",
    "            \n",
    "        # Extract features and target for training\n",
    "        X = df_user_notnull[feature_columns]\n",
    "        y = df_user_notnull[user]\n",
    "        \n",
    "        # Instantiate and fit the model\n",
    "        model = model_class(**model_params)\n",
    "        model.fit(X, y)\n",
    "        \n",
    "        # Get items the user hasn't rated\n",
    "        df_user_nulls = reviews_df[reviews_df[user].isnull()]\n",
    "        \n",
    "        # If there are unrated items, predict ratings for them\n",
    "        if not df_user_nulls.empty:\n",
    "            newx = df_user_nulls[feature_columns]\n",
    "            predictions = model.predict(newx)\n",
    "            \n",
    "            # Update the complete dataframe with predictions\n",
    "            complete_df.loc[df_user_nulls.index, user] = predictions\n",
    "    \n",
    "    return complete_df"
   ]
  },
  {
   "cell_type": "code",
   "execution_count": null,
   "metadata": {},
   "outputs": [],
   "source": []
  }
 ],
 "metadata": {
  "celltoolbar": "Create Assignment",
  "colab": {
   "provenance": []
  },
  "kernelspec": {
   "display_name": "Python 3 (ipykernel)",
   "language": "python",
   "name": "python3"
  },
  "language_info": {
   "codemirror_mode": {
    "name": "ipython",
    "version": 3
   },
   "file_extension": ".py",
   "mimetype": "text/x-python",
   "name": "python",
   "nbconvert_exporter": "python",
   "pygments_lexer": "ipython3",
   "version": "3.11.7"
  }
 },
 "nbformat": 4,
 "nbformat_minor": 4
}
