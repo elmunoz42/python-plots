{
 "cells": [
  {
   "attachments": {},
   "cell_type": "markdown",
   "metadata": {
    "nbgrader": {
     "grade": false,
     "grade_id": "cell-26a44638b4a3b84b",
     "locked": true,
     "schema_version": 3,
     "solution": false,
     "task": false
    }
   },
   "source": [
    "### Colab Activity 19.3: Implementing Funk SVD\n",
    "\n",
    "\n",
    "**Expected Time = 60 minutes**\n",
    "\n",
    "\n",
    "\n",
    "This activity focuses on using gradient descent to provide recommendations with collaborative filtering.  The purpose here is to get a high level introduction to the implementation of SVD Funk.  You will use the earlier ratings and a given user and item matrix to update the user factors.  In the next activity, you will implement the algorithms using `Surprise`.\n",
    "\n",
    "### Index\n",
    "\n",
    "\n",
    "- [Problem 1](#-Problem-1)\n",
    "- [Problem 2](#-Problem-2)\n",
    "- [Problem 3](#-Problem-3)\n",
    "- [Problem 4](#-Problem-4)"
   ]
  },
  {
   "cell_type": "code",
   "execution_count": 1,
   "metadata": {},
   "outputs": [],
   "source": [
    "import pandas as pd\n",
    "import numpy as np"
   ]
  },
  {
   "cell_type": "markdown",
   "metadata": {
    "nbgrader": {
     "grade": false,
     "grade_id": "cell-5b4fb622c8a8fcb3",
     "locked": true,
     "schema_version": 3,
     "solution": false,
     "task": false
    }
   },
   "source": [
    "#### The Data\n",
    "\n",
    "Below, the user reviews data is loaded as well as a $Q$ and $P$ matrix with some randomly built values from a similar process to the last activity."
   ]
  },
  {
   "cell_type": "code",
   "execution_count": 14,
   "metadata": {},
   "outputs": [],
   "source": [
    "reviews = pd.read_csv('data/user_rated.csv', index_col=0).iloc[:, :-2]\n",
    "Q = pd.read_csv('data/Q.csv', index_col=0)\n",
    "P = pd.read_csv('data/P.csv', index_col=0)\n",
    "Q = Q[['F1', 'F2']]\n",
    "P = P[['F1', 'F2']]"
   ]
  },
  {
   "cell_type": "code",
   "execution_count": 15,
   "metadata": {},
   "outputs": [
    {
     "data": {
      "text/html": [
       "<div>\n",
       "<style scoped>\n",
       "    .dataframe tbody tr th:only-of-type {\n",
       "        vertical-align: middle;\n",
       "    }\n",
       "\n",
       "    .dataframe tbody tr th {\n",
       "        vertical-align: top;\n",
       "    }\n",
       "\n",
       "    .dataframe thead th {\n",
       "        text-align: right;\n",
       "    }\n",
       "</style>\n",
       "<table border=\"1\" class=\"dataframe\">\n",
       "  <thead>\n",
       "    <tr style=\"text-align: right;\">\n",
       "      <th></th>\n",
       "      <th>Michael Jackson</th>\n",
       "      <th>Clint Black</th>\n",
       "      <th>Dropdead</th>\n",
       "      <th>Anti-Cimex</th>\n",
       "      <th>Cardi B</th>\n",
       "    </tr>\n",
       "  </thead>\n",
       "  <tbody>\n",
       "    <tr>\n",
       "      <th>Alfred</th>\n",
       "      <td>3.0</td>\n",
       "      <td>4.0</td>\n",
       "      <td>NaN</td>\n",
       "      <td>4.0</td>\n",
       "      <td>4.0</td>\n",
       "    </tr>\n",
       "    <tr>\n",
       "      <th>Mandy</th>\n",
       "      <td>NaN</td>\n",
       "      <td>9.0</td>\n",
       "      <td>NaN</td>\n",
       "      <td>3.0</td>\n",
       "      <td>8.0</td>\n",
       "    </tr>\n",
       "    <tr>\n",
       "      <th>Lenny</th>\n",
       "      <td>2.0</td>\n",
       "      <td>5.0</td>\n",
       "      <td>8.0</td>\n",
       "      <td>9.0</td>\n",
       "      <td>NaN</td>\n",
       "    </tr>\n",
       "    <tr>\n",
       "      <th>Joan</th>\n",
       "      <td>3.0</td>\n",
       "      <td>NaN</td>\n",
       "      <td>9.0</td>\n",
       "      <td>4.0</td>\n",
       "      <td>9.0</td>\n",
       "    </tr>\n",
       "    <tr>\n",
       "      <th>Tino</th>\n",
       "      <td>1.0</td>\n",
       "      <td>1.0</td>\n",
       "      <td>NaN</td>\n",
       "      <td>9.0</td>\n",
       "      <td>5.0</td>\n",
       "    </tr>\n",
       "  </tbody>\n",
       "</table>\n",
       "</div>"
      ],
      "text/plain": [
       "        Michael Jackson  Clint Black  Dropdead  Anti-Cimex  Cardi B\n",
       "Alfred              3.0          4.0       NaN         4.0      4.0\n",
       "Mandy               NaN          9.0       NaN         3.0      8.0\n",
       "Lenny               2.0          5.0       8.0         9.0      NaN\n",
       "Joan                3.0          NaN       9.0         4.0      9.0\n",
       "Tino                1.0          1.0       NaN         9.0      5.0"
      ]
     },
     "execution_count": 15,
     "metadata": {},
     "output_type": "execute_result"
    }
   ],
   "source": [
    "reviews.head()"
   ]
  },
  {
   "cell_type": "code",
   "execution_count": 4,
   "metadata": {},
   "outputs": [
    {
     "data": {
      "text/html": [
       "<div>\n",
       "<style scoped>\n",
       "    .dataframe tbody tr th:only-of-type {\n",
       "        vertical-align: middle;\n",
       "    }\n",
       "\n",
       "    .dataframe tbody tr th {\n",
       "        vertical-align: top;\n",
       "    }\n",
       "\n",
       "    .dataframe thead th {\n",
       "        text-align: right;\n",
       "    }\n",
       "</style>\n",
       "<table border=\"1\" class=\"dataframe\">\n",
       "  <thead>\n",
       "    <tr style=\"text-align: right;\">\n",
       "      <th></th>\n",
       "      <th>Michael Jackson</th>\n",
       "      <th>Clint Black</th>\n",
       "      <th>Dropdead</th>\n",
       "      <th>Anti-Cimex</th>\n",
       "      <th>Cardi B</th>\n",
       "    </tr>\n",
       "  </thead>\n",
       "  <tbody>\n",
       "    <tr>\n",
       "      <th>F1</th>\n",
       "      <td>-0.374013</td>\n",
       "      <td>0.073490</td>\n",
       "      <td>-0.046233</td>\n",
       "      <td>1.579452</td>\n",
       "      <td>0.281836</td>\n",
       "    </tr>\n",
       "    <tr>\n",
       "      <th>F2</th>\n",
       "      <td>0.158669</td>\n",
       "      <td>1.616899</td>\n",
       "      <td>0.150150</td>\n",
       "      <td>-0.426502</td>\n",
       "      <td>0.632869</td>\n",
       "    </tr>\n",
       "  </tbody>\n",
       "</table>\n",
       "</div>"
      ],
      "text/plain": [
       "    Michael Jackson  Clint Black  Dropdead  Anti-Cimex   Cardi B\n",
       "F1        -0.374013     0.073490 -0.046233    1.579452  0.281836\n",
       "F2         0.158669     1.616899  0.150150   -0.426502  0.632869"
      ]
     },
     "execution_count": 4,
     "metadata": {},
     "output_type": "execute_result"
    }
   ],
   "source": [
    "Q.T.head() #item factors"
   ]
  },
  {
   "cell_type": "code",
   "execution_count": 5,
   "metadata": {},
   "outputs": [
    {
     "data": {
      "text/html": [
       "<div>\n",
       "<style scoped>\n",
       "    .dataframe tbody tr th:only-of-type {\n",
       "        vertical-align: middle;\n",
       "    }\n",
       "\n",
       "    .dataframe tbody tr th {\n",
       "        vertical-align: top;\n",
       "    }\n",
       "\n",
       "    .dataframe thead th {\n",
       "        text-align: right;\n",
       "    }\n",
       "</style>\n",
       "<table border=\"1\" class=\"dataframe\">\n",
       "  <thead>\n",
       "    <tr style=\"text-align: right;\">\n",
       "      <th></th>\n",
       "      <th>F1</th>\n",
       "      <th>F2</th>\n",
       "    </tr>\n",
       "  </thead>\n",
       "  <tbody>\n",
       "    <tr>\n",
       "      <th>Alfred</th>\n",
       "      <td>3.820956</td>\n",
       "      <td>3.395762</td>\n",
       "    </tr>\n",
       "    <tr>\n",
       "      <th>Mandy</th>\n",
       "      <td>3.710347</td>\n",
       "      <td>7.006197</td>\n",
       "    </tr>\n",
       "    <tr>\n",
       "      <th>Lenny</th>\n",
       "      <td>7.113263</td>\n",
       "      <td>3.952502</td>\n",
       "    </tr>\n",
       "    <tr>\n",
       "      <th>Joan</th>\n",
       "      <td>5.240167</td>\n",
       "      <td>10.035759</td>\n",
       "    </tr>\n",
       "    <tr>\n",
       "      <th>Tino</th>\n",
       "      <td>5.863280</td>\n",
       "      <td>2.197482</td>\n",
       "    </tr>\n",
       "  </tbody>\n",
       "</table>\n",
       "</div>"
      ],
      "text/plain": [
       "              F1         F2\n",
       "Alfred  3.820956   3.395762\n",
       "Mandy   3.710347   7.006197\n",
       "Lenny   7.113263   3.952502\n",
       "Joan    5.240167  10.035759\n",
       "Tino    5.863280   2.197482"
      ]
     },
     "execution_count": 5,
     "metadata": {},
     "output_type": "execute_result"
    }
   ],
   "source": [
    "P.head() #user factors"
   ]
  },
  {
   "attachments": {},
   "cell_type": "markdown",
   "metadata": {
    "nbgrader": {
     "grade": false,
     "grade_id": "cell-7ee787d6a4d4157c",
     "locked": true,
     "schema_version": 3,
     "solution": false,
     "task": false
    }
   },
   "source": [
    "[Back to top](#-Index)\n",
    "\n",
    "### Problem 1\n",
    "\n",
    "\n",
    "#### Making Predictions\n",
    "\n",
    "To make predictions you multiply a given row of $P$ by a column of $Q$.  Perform this operation for all users and items and assign a DataFrame of predicted values to `pred_df` below.  \n",
    "\n",
    "HINT: For this step, use matrix multiplication rather than a nested loop. Matrix multiplication can be achieved using the `@` operator."
   ]
  },
  {
   "cell_type": "code",
   "execution_count": 9,
   "metadata": {
    "nbgrader": {
     "grade": false,
     "grade_id": "cell-be629e3f890eab99",
     "locked": false,
     "schema_version": 3,
     "solution": true,
     "task": false
    }
   },
   "outputs": [
    {
     "data": {
      "text/html": [
       "<div>\n",
       "<style scoped>\n",
       "    .dataframe tbody tr th:only-of-type {\n",
       "        vertical-align: middle;\n",
       "    }\n",
       "\n",
       "    .dataframe tbody tr th {\n",
       "        vertical-align: top;\n",
       "    }\n",
       "\n",
       "    .dataframe thead th {\n",
       "        text-align: right;\n",
       "    }\n",
       "</style>\n",
       "<table border=\"1\" class=\"dataframe\">\n",
       "  <thead>\n",
       "    <tr style=\"text-align: right;\">\n",
       "      <th></th>\n",
       "      <th>Michael Jackson</th>\n",
       "      <th>Clint Black</th>\n",
       "      <th>Dropdead</th>\n",
       "      <th>Anti-Cimex</th>\n",
       "      <th>Cardi B</th>\n",
       "    </tr>\n",
       "  </thead>\n",
       "  <tbody>\n",
       "    <tr>\n",
       "      <th>Alfred</th>\n",
       "      <td>-0.890284</td>\n",
       "      <td>5.771405</td>\n",
       "      <td>0.333221</td>\n",
       "      <td>4.586717</td>\n",
       "      <td>3.225954</td>\n",
       "    </tr>\n",
       "    <tr>\n",
       "      <th>Mandy</th>\n",
       "      <td>-0.276051</td>\n",
       "      <td>11.600983</td>\n",
       "      <td>0.880442</td>\n",
       "      <td>2.872159</td>\n",
       "      <td>5.479713</td>\n",
       "    </tr>\n",
       "    <tr>\n",
       "      <th>Lenny</th>\n",
       "      <td>-2.033312</td>\n",
       "      <td>6.913547</td>\n",
       "      <td>0.264603</td>\n",
       "      <td>9.549307</td>\n",
       "      <td>4.506187</td>\n",
       "    </tr>\n",
       "    <tr>\n",
       "      <th>Joan</th>\n",
       "      <td>-0.367525</td>\n",
       "      <td>16.611904</td>\n",
       "      <td>1.264603</td>\n",
       "      <td>3.996322</td>\n",
       "      <td>7.828187</td>\n",
       "    </tr>\n",
       "    <tr>\n",
       "      <th>Tino</th>\n",
       "      <td>-1.844270</td>\n",
       "      <td>3.983997</td>\n",
       "      <td>0.058877</td>\n",
       "      <td>8.323539</td>\n",
       "      <td>3.043199</td>\n",
       "    </tr>\n",
       "  </tbody>\n",
       "</table>\n",
       "</div>"
      ],
      "text/plain": [
       "        Michael Jackson  Clint Black  Dropdead  Anti-Cimex   Cardi B\n",
       "Alfred        -0.890284     5.771405  0.333221    4.586717  3.225954\n",
       "Mandy         -0.276051    11.600983  0.880442    2.872159  5.479713\n",
       "Lenny         -2.033312     6.913547  0.264603    9.549307  4.506187\n",
       "Joan          -0.367525    16.611904  1.264603    3.996322  7.828187\n",
       "Tino          -1.844270     3.983997  0.058877    8.323539  3.043199"
      ]
     },
     "execution_count": 9,
     "metadata": {},
     "output_type": "execute_result"
    }
   ],
   "source": [
    "\n",
    "pred_df = P @ Q.T\n",
    "# For example dot product of [F1, F2] in the Alfred row against [F1,F2] in the Michael Jackson column same for all combinations...\n",
    "\n",
    "\n",
    "### ANSWER CHECK\n",
    "pred_df"
   ]
  },
  {
   "attachments": {},
   "cell_type": "markdown",
   "metadata": {
    "nbgrader": {
     "grade": false,
     "grade_id": "cell-98dc70d0ae864f5f",
     "locked": true,
     "schema_version": 3,
     "solution": false,
     "task": false
    }
   },
   "source": [
    "### Problem 2\n",
    "\n",
    "\n",
    "#### Measuring Error\n",
    "\n",
    "Use your prediction for `Mandy` in terms of `Clint Black` to determine the error squared.  Assign this value to `ans2` below."
   ]
  },
  {
   "cell_type": "code",
   "execution_count": 11,
   "metadata": {
    "nbgrader": {
     "grade": false,
     "grade_id": "cell-416d6a3b48fcb950",
     "locked": false,
     "schema_version": 3,
     "solution": true,
     "task": false
    }
   },
   "outputs": [
    {
     "name": "stdout",
     "output_type": "stream",
     "text": [
      "6.765112566288996\n"
     ]
    }
   ],
   "source": [
    "r_pred = 11.600983\n",
    "r_actual = 9\n",
    "ans2 = (r_pred - r_actual)**2\n",
    "\n",
    "### ANSWER CHECK\n",
    "print(ans2)"
   ]
  },
  {
   "attachments": {},
   "cell_type": "markdown",
   "metadata": {
    "nbgrader": {
     "grade": false,
     "grade_id": "cell-cd46fa402c86c8b8",
     "locked": true,
     "schema_version": 3,
     "solution": false,
     "task": false
    }
   },
   "source": [
    "### Problem 3\n",
    "\n",
    "\n",
    "\n",
    "#### Error for all Mandy Predictions\n",
    "\n",
    "Now, compute the error squared for each of `Mandy`'s ratings where she had them -- `Clint Black`, `Anti-Cimex`, and `Cardi B`.  Assign these as a numpy array to `ans3`."
   ]
  },
  {
   "cell_type": "code",
   "execution_count": 16,
   "metadata": {
    "nbgrader": {
     "grade": false,
     "grade_id": "cell-a2f0cf8a4c175d99",
     "locked": false,
     "schema_version": 3,
     "solution": true,
     "task": false
    }
   },
   "outputs": [
    {
     "name": "stdout",
     "output_type": "stream",
     "text": [
      "[6.765112566288996, 0.016343321281000023, 6.351846562368999]\n"
     ]
    }
   ],
   "source": [
    "\n",
    "ans3 = [6.765112566288996, (2.872159 - 3)**2, (5.479713 - 8)**2]\n",
    "\n",
    "\n",
    "### ANSWER CHECK\n",
    "print(ans3)"
   ]
  },
  {
   "attachments": {},
   "cell_type": "markdown",
   "metadata": {
    "nbgrader": {
     "grade": false,
     "grade_id": "cell-18811dd0d2bedbb5",
     "locked": true,
     "schema_version": 3,
     "solution": false,
     "task": false
    }
   },
   "source": [
    "### Problem 4\n",
    "\n",
    "\n",
    "#### Updating the Values\n",
    "\n",
    "Now, perform the update for matrix $P$ based on the rule:\n",
    "\n",
    "$$P_{a,b} := P_{a,b} - \\alpha \\sum_{j \\in R_a}^N e_{a,j}Q_{b,j}$$\n",
    "\n",
    "You will do this for the first factor of Mandy.  This means:\n",
    "\n",
    "$$P_{1, 0} = -9.019710 - \\alpha(e_{1, 1}Q_{1, 0} + e_{1, 3}Q_{3, 0} + e_{1, 4}Q_{4, 0})$$\n",
    "\n",
    "Use $\\alpha = 0.1$, and assign this new value as a float to `P_new`."
   ]
  },
  {
   "cell_type": "code",
   "execution_count": 20,
   "metadata": {
    "nbgrader": {
     "grade": false,
     "grade_id": "cell-1e689e6ec6626132",
     "locked": false,
     "schema_version": 3,
     "solution": true,
     "task": false
    }
   },
   "outputs": [
    {
     "name": "stdout",
     "output_type": "stream",
     "text": [
      "3.7824552351265996\n"
     ]
    }
   ],
   "source": [
    "# Errors for Mandy's ratings\n",
    "e_clint = r_pred - r_actual  # 11.600983 - 9 = 2.600983\n",
    "e_anticimex = 2.872159 - 3   # -0.127841\n",
    "e_cardib = 5.479713 - 8      # -2.520287\n",
    "\n",
    "# Get Q values for the first factor (F1)\n",
    "q_clint = Q.loc['Clint Black', 'F1']    # 0.073490\n",
    "q_anticimex = Q.loc['Anti-Cimex', 'F1'] # 1.579452\n",
    "q_cardib = Q.loc['Cardi B', 'F1']       # 0.281836\n",
    "\n",
    "# Update P value\n",
    "P_new = P.loc['Mandy', 'F1'] - 0.1 * (e_clint * q_clint + e_anticimex * q_anticimex + e_cardib * q_cardib)\n",
    "\n",
    "### ANSWER CHECK\n",
    "print(P_new)"
   ]
  },
  {
   "cell_type": "markdown",
   "metadata": {
    "nbgrader": {
     "grade": false,
     "grade_id": "cell-b52c089b116642a1",
     "locked": true,
     "schema_version": 3,
     "solution": false,
     "task": false
    }
   },
   "source": [
    "As an extra exercise, consider how to modularize this for each value of $P$.  Further, the update for $Q$ that occurs consistent with that of $P$ -- consider working through the full update process and modularizing the update process."
   ]
  },
  {
   "cell_type": "code",
   "execution_count": null,
   "metadata": {},
   "outputs": [],
   "source": []
  }
 ],
 "metadata": {
  "celltoolbar": "Create Assignment",
  "kernelspec": {
   "display_name": "Python 3 (ipykernel)",
   "language": "python",
   "name": "python3"
  },
  "language_info": {
   "codemirror_mode": {
    "name": "ipython",
    "version": 3
   },
   "file_extension": ".py",
   "mimetype": "text/x-python",
   "name": "python",
   "nbconvert_exporter": "python",
   "pygments_lexer": "ipython3",
   "version": "3.11.7"
  },
  "widgets": {
   "application/vnd.jupyter.widget-state+json": {
    "state": {},
    "version_major": 2,
    "version_minor": 0
   }
  }
 },
 "nbformat": 4,
 "nbformat_minor": 4
}
