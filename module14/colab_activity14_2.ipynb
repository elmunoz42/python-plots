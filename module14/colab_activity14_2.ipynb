{
  "cells": [
    {
      "cell_type": "markdown",
      "metadata": {
        "nbgrader": {
          "grade": false,
          "grade_id": "cell-91022a1411040e34",
          "locked": true,
          "schema_version": 3,
          "solution": false
        },
        "id": "m-uA0VdOlzCU"
      },
      "source": [
        "### Colab Activity 14.2: Examining Purity\n",
        "\n",
        "**Expected Time = 60 minutes**\n",
        "\n",
        "\n",
        "By default, the metric in the `DecisionTreeClassifier` is the Gini Criterion.  This assigment introduces its use through a basic example.  Your goal is to minimize the impurity based on a range of split options.  In the following assignment you will explore the alternative notion of `entropy` that can also be used as a criterion.  \n",
        "\n",
        "\n",
        "#### Index\n",
        "\n",
        "- [Problem 1](#-Problem-1)\n",
        "- [Problem 2](#-Problem-2)\n",
        "- [Problem 3](#-Problem-3)\n",
        "- [Problem 4](#-Problem-4)\n",
        "- [Problem 5](#-Problem-5)"
      ]
    },
    {
      "cell_type": "markdown",
      "metadata": {
        "nbgrader": {
          "grade": false,
          "grade_id": "cell-f62ca59273e840c6",
          "locked": true,
          "schema_version": 3,
          "solution": false
        },
        "id": "E447yQoxlzCW"
      },
      "source": [
        "### Gini Impurity\n",
        "\n",
        "The Gini Criterion is used to identify the optimal place to make a decision for classification based on the purity of the results.  This is measured by a weighted sum of the node size and gini impurity of each split node defined as:\n",
        "\n",
        "$$\\sum_{k}p_{mk}(1 - p_{mk})$$\n",
        "\n",
        "where\n",
        "\n",
        "$$p_{mk} = \\frac{1}{N_m} \\sum_{y \\in Q_m} I(y = k)$$\n",
        "\n",
        "and $Q_m$ is the data at node $m$ with $N_m$ samples.  [source](https://scikit-learn.org/stable/modules/tree.html#mathematical-formulation)"
      ]
    },
    {
      "cell_type": "markdown",
      "metadata": {
        "nbgrader": {
          "grade": false,
          "grade_id": "cell-87e6e671d609f89c",
          "locked": true,
          "schema_version": 3,
          "solution": false
        },
        "id": "5cu66uWblzCW"
      },
      "source": [
        "### The Data\n",
        "\n",
        "Below, a small sample from the built in `titanic` dataset is loaded and displayed.  The classification problem is to predict survival on the ship.  You will use the `age` (age of passenger) and `pclass` (passenger class) features to explore the gini splitting criterion."
      ]
    },
    {
      "cell_type": "code",
      "execution_count": 2,
      "metadata": {
        "id": "BayjRzIQlzCW"
      },
      "outputs": [],
      "source": [
        "import pandas as pd\n",
        "import numpy as np\n",
        "import matplotlib.pyplot as plt\n",
        "import seaborn as sns\n",
        "\n",
        "from sklearn.tree import DecisionTreeClassifier, export_text, plot_tree\n",
        "from sklearn.model_selection import train_test_split"
      ]
    },
    {
      "cell_type": "code",
      "execution_count": 3,
      "metadata": {
        "id": "5vEadVnUlzCW"
      },
      "outputs": [],
      "source": [
        "# titanic = sns.load_dataset('titanic')[['age', 'pclass', 'survived']].head()\n",
        "\n",
        "import urllib\n",
        "\n",
        "titanic = None\n",
        "\n",
        "try:\n",
        "    titanic = sns.load_dataset('titanic')\n",
        "except:\n",
        "    titanic_dataset_uri = \"https://raw.githubusercontent.com/mwaskom/seaborn-data/master/titanic.csv\"\n",
        "    with urllib.request.urlopen(titanic_dataset_uri) as response:\n",
        "        titanic = pd.read_csv(response)\n",
        "\n",
        "titanic = titanic[['age', 'pclass', 'survived']].head()"
      ]
    },
    {
      "cell_type": "code",
      "execution_count": 4,
      "metadata": {
        "colab": {
          "base_uri": "https://localhost:8080/",
          "height": 206
        },
        "id": "B4PsvpWflzCX",
        "outputId": "8a12f7c6-1c4c-4474-b7ed-d2f59fb1a055"
      },
      "outputs": [
        {
          "output_type": "execute_result",
          "data": {
            "text/plain": [
              "    age  pclass  survived\n",
              "0  22.0       3         0\n",
              "1  38.0       1         1\n",
              "2  26.0       3         1\n",
              "3  35.0       1         1\n",
              "4  35.0       3         0"
            ],
            "text/html": [
              "\n",
              "  <div id=\"df-1fafd559-f208-4dbf-a757-2a5fe342600e\" class=\"colab-df-container\">\n",
              "    <div>\n",
              "<style scoped>\n",
              "    .dataframe tbody tr th:only-of-type {\n",
              "        vertical-align: middle;\n",
              "    }\n",
              "\n",
              "    .dataframe tbody tr th {\n",
              "        vertical-align: top;\n",
              "    }\n",
              "\n",
              "    .dataframe thead th {\n",
              "        text-align: right;\n",
              "    }\n",
              "</style>\n",
              "<table border=\"1\" class=\"dataframe\">\n",
              "  <thead>\n",
              "    <tr style=\"text-align: right;\">\n",
              "      <th></th>\n",
              "      <th>age</th>\n",
              "      <th>pclass</th>\n",
              "      <th>survived</th>\n",
              "    </tr>\n",
              "  </thead>\n",
              "  <tbody>\n",
              "    <tr>\n",
              "      <th>0</th>\n",
              "      <td>22.0</td>\n",
              "      <td>3</td>\n",
              "      <td>0</td>\n",
              "    </tr>\n",
              "    <tr>\n",
              "      <th>1</th>\n",
              "      <td>38.0</td>\n",
              "      <td>1</td>\n",
              "      <td>1</td>\n",
              "    </tr>\n",
              "    <tr>\n",
              "      <th>2</th>\n",
              "      <td>26.0</td>\n",
              "      <td>3</td>\n",
              "      <td>1</td>\n",
              "    </tr>\n",
              "    <tr>\n",
              "      <th>3</th>\n",
              "      <td>35.0</td>\n",
              "      <td>1</td>\n",
              "      <td>1</td>\n",
              "    </tr>\n",
              "    <tr>\n",
              "      <th>4</th>\n",
              "      <td>35.0</td>\n",
              "      <td>3</td>\n",
              "      <td>0</td>\n",
              "    </tr>\n",
              "  </tbody>\n",
              "</table>\n",
              "</div>\n",
              "    <div class=\"colab-df-buttons\">\n",
              "\n",
              "  <div class=\"colab-df-container\">\n",
              "    <button class=\"colab-df-convert\" onclick=\"convertToInteractive('df-1fafd559-f208-4dbf-a757-2a5fe342600e')\"\n",
              "            title=\"Convert this dataframe to an interactive table.\"\n",
              "            style=\"display:none;\">\n",
              "\n",
              "  <svg xmlns=\"http://www.w3.org/2000/svg\" height=\"24px\" viewBox=\"0 -960 960 960\">\n",
              "    <path d=\"M120-120v-720h720v720H120Zm60-500h600v-160H180v160Zm220 220h160v-160H400v160Zm0 220h160v-160H400v160ZM180-400h160v-160H180v160Zm440 0h160v-160H620v160ZM180-180h160v-160H180v160Zm440 0h160v-160H620v160Z\"/>\n",
              "  </svg>\n",
              "    </button>\n",
              "\n",
              "  <style>\n",
              "    .colab-df-container {\n",
              "      display:flex;\n",
              "      gap: 12px;\n",
              "    }\n",
              "\n",
              "    .colab-df-convert {\n",
              "      background-color: #E8F0FE;\n",
              "      border: none;\n",
              "      border-radius: 50%;\n",
              "      cursor: pointer;\n",
              "      display: none;\n",
              "      fill: #1967D2;\n",
              "      height: 32px;\n",
              "      padding: 0 0 0 0;\n",
              "      width: 32px;\n",
              "    }\n",
              "\n",
              "    .colab-df-convert:hover {\n",
              "      background-color: #E2EBFA;\n",
              "      box-shadow: 0px 1px 2px rgba(60, 64, 67, 0.3), 0px 1px 3px 1px rgba(60, 64, 67, 0.15);\n",
              "      fill: #174EA6;\n",
              "    }\n",
              "\n",
              "    .colab-df-buttons div {\n",
              "      margin-bottom: 4px;\n",
              "    }\n",
              "\n",
              "    [theme=dark] .colab-df-convert {\n",
              "      background-color: #3B4455;\n",
              "      fill: #D2E3FC;\n",
              "    }\n",
              "\n",
              "    [theme=dark] .colab-df-convert:hover {\n",
              "      background-color: #434B5C;\n",
              "      box-shadow: 0px 1px 3px 1px rgba(0, 0, 0, 0.15);\n",
              "      filter: drop-shadow(0px 1px 2px rgba(0, 0, 0, 0.3));\n",
              "      fill: #FFFFFF;\n",
              "    }\n",
              "  </style>\n",
              "\n",
              "    <script>\n",
              "      const buttonEl =\n",
              "        document.querySelector('#df-1fafd559-f208-4dbf-a757-2a5fe342600e button.colab-df-convert');\n",
              "      buttonEl.style.display =\n",
              "        google.colab.kernel.accessAllowed ? 'block' : 'none';\n",
              "\n",
              "      async function convertToInteractive(key) {\n",
              "        const element = document.querySelector('#df-1fafd559-f208-4dbf-a757-2a5fe342600e');\n",
              "        const dataTable =\n",
              "          await google.colab.kernel.invokeFunction('convertToInteractive',\n",
              "                                                    [key], {});\n",
              "        if (!dataTable) return;\n",
              "\n",
              "        const docLinkHtml = 'Like what you see? Visit the ' +\n",
              "          '<a target=\"_blank\" href=https://colab.research.google.com/notebooks/data_table.ipynb>data table notebook</a>'\n",
              "          + ' to learn more about interactive tables.';\n",
              "        element.innerHTML = '';\n",
              "        dataTable['output_type'] = 'display_data';\n",
              "        await google.colab.output.renderOutput(dataTable, element);\n",
              "        const docLink = document.createElement('div');\n",
              "        docLink.innerHTML = docLinkHtml;\n",
              "        element.appendChild(docLink);\n",
              "      }\n",
              "    </script>\n",
              "  </div>\n",
              "\n",
              "\n",
              "<div id=\"df-5b026ab5-4c4c-40e1-913c-4cdf61bdf039\">\n",
              "  <button class=\"colab-df-quickchart\" onclick=\"quickchart('df-5b026ab5-4c4c-40e1-913c-4cdf61bdf039')\"\n",
              "            title=\"Suggest charts\"\n",
              "            style=\"display:none;\">\n",
              "\n",
              "<svg xmlns=\"http://www.w3.org/2000/svg\" height=\"24px\"viewBox=\"0 0 24 24\"\n",
              "     width=\"24px\">\n",
              "    <g>\n",
              "        <path d=\"M19 3H5c-1.1 0-2 .9-2 2v14c0 1.1.9 2 2 2h14c1.1 0 2-.9 2-2V5c0-1.1-.9-2-2-2zM9 17H7v-7h2v7zm4 0h-2V7h2v10zm4 0h-2v-4h2v4z\"/>\n",
              "    </g>\n",
              "</svg>\n",
              "  </button>\n",
              "\n",
              "<style>\n",
              "  .colab-df-quickchart {\n",
              "      --bg-color: #E8F0FE;\n",
              "      --fill-color: #1967D2;\n",
              "      --hover-bg-color: #E2EBFA;\n",
              "      --hover-fill-color: #174EA6;\n",
              "      --disabled-fill-color: #AAA;\n",
              "      --disabled-bg-color: #DDD;\n",
              "  }\n",
              "\n",
              "  [theme=dark] .colab-df-quickchart {\n",
              "      --bg-color: #3B4455;\n",
              "      --fill-color: #D2E3FC;\n",
              "      --hover-bg-color: #434B5C;\n",
              "      --hover-fill-color: #FFFFFF;\n",
              "      --disabled-bg-color: #3B4455;\n",
              "      --disabled-fill-color: #666;\n",
              "  }\n",
              "\n",
              "  .colab-df-quickchart {\n",
              "    background-color: var(--bg-color);\n",
              "    border: none;\n",
              "    border-radius: 50%;\n",
              "    cursor: pointer;\n",
              "    display: none;\n",
              "    fill: var(--fill-color);\n",
              "    height: 32px;\n",
              "    padding: 0;\n",
              "    width: 32px;\n",
              "  }\n",
              "\n",
              "  .colab-df-quickchart:hover {\n",
              "    background-color: var(--hover-bg-color);\n",
              "    box-shadow: 0 1px 2px rgba(60, 64, 67, 0.3), 0 1px 3px 1px rgba(60, 64, 67, 0.15);\n",
              "    fill: var(--button-hover-fill-color);\n",
              "  }\n",
              "\n",
              "  .colab-df-quickchart-complete:disabled,\n",
              "  .colab-df-quickchart-complete:disabled:hover {\n",
              "    background-color: var(--disabled-bg-color);\n",
              "    fill: var(--disabled-fill-color);\n",
              "    box-shadow: none;\n",
              "  }\n",
              "\n",
              "  .colab-df-spinner {\n",
              "    border: 2px solid var(--fill-color);\n",
              "    border-color: transparent;\n",
              "    border-bottom-color: var(--fill-color);\n",
              "    animation:\n",
              "      spin 1s steps(1) infinite;\n",
              "  }\n",
              "\n",
              "  @keyframes spin {\n",
              "    0% {\n",
              "      border-color: transparent;\n",
              "      border-bottom-color: var(--fill-color);\n",
              "      border-left-color: var(--fill-color);\n",
              "    }\n",
              "    20% {\n",
              "      border-color: transparent;\n",
              "      border-left-color: var(--fill-color);\n",
              "      border-top-color: var(--fill-color);\n",
              "    }\n",
              "    30% {\n",
              "      border-color: transparent;\n",
              "      border-left-color: var(--fill-color);\n",
              "      border-top-color: var(--fill-color);\n",
              "      border-right-color: var(--fill-color);\n",
              "    }\n",
              "    40% {\n",
              "      border-color: transparent;\n",
              "      border-right-color: var(--fill-color);\n",
              "      border-top-color: var(--fill-color);\n",
              "    }\n",
              "    60% {\n",
              "      border-color: transparent;\n",
              "      border-right-color: var(--fill-color);\n",
              "    }\n",
              "    80% {\n",
              "      border-color: transparent;\n",
              "      border-right-color: var(--fill-color);\n",
              "      border-bottom-color: var(--fill-color);\n",
              "    }\n",
              "    90% {\n",
              "      border-color: transparent;\n",
              "      border-bottom-color: var(--fill-color);\n",
              "    }\n",
              "  }\n",
              "</style>\n",
              "\n",
              "  <script>\n",
              "    async function quickchart(key) {\n",
              "      const quickchartButtonEl =\n",
              "        document.querySelector('#' + key + ' button');\n",
              "      quickchartButtonEl.disabled = true;  // To prevent multiple clicks.\n",
              "      quickchartButtonEl.classList.add('colab-df-spinner');\n",
              "      try {\n",
              "        const charts = await google.colab.kernel.invokeFunction(\n",
              "            'suggestCharts', [key], {});\n",
              "      } catch (error) {\n",
              "        console.error('Error during call to suggestCharts:', error);\n",
              "      }\n",
              "      quickchartButtonEl.classList.remove('colab-df-spinner');\n",
              "      quickchartButtonEl.classList.add('colab-df-quickchart-complete');\n",
              "    }\n",
              "    (() => {\n",
              "      let quickchartButtonEl =\n",
              "        document.querySelector('#df-5b026ab5-4c4c-40e1-913c-4cdf61bdf039 button');\n",
              "      quickchartButtonEl.style.display =\n",
              "        google.colab.kernel.accessAllowed ? 'block' : 'none';\n",
              "    })();\n",
              "  </script>\n",
              "</div>\n",
              "\n",
              "  <div id=\"id_7ee7a748-c6d6-4198-adfd-17a0dce660cc\">\n",
              "    <style>\n",
              "      .colab-df-generate {\n",
              "        background-color: #E8F0FE;\n",
              "        border: none;\n",
              "        border-radius: 50%;\n",
              "        cursor: pointer;\n",
              "        display: none;\n",
              "        fill: #1967D2;\n",
              "        height: 32px;\n",
              "        padding: 0 0 0 0;\n",
              "        width: 32px;\n",
              "      }\n",
              "\n",
              "      .colab-df-generate:hover {\n",
              "        background-color: #E2EBFA;\n",
              "        box-shadow: 0px 1px 2px rgba(60, 64, 67, 0.3), 0px 1px 3px 1px rgba(60, 64, 67, 0.15);\n",
              "        fill: #174EA6;\n",
              "      }\n",
              "\n",
              "      [theme=dark] .colab-df-generate {\n",
              "        background-color: #3B4455;\n",
              "        fill: #D2E3FC;\n",
              "      }\n",
              "\n",
              "      [theme=dark] .colab-df-generate:hover {\n",
              "        background-color: #434B5C;\n",
              "        box-shadow: 0px 1px 3px 1px rgba(0, 0, 0, 0.15);\n",
              "        filter: drop-shadow(0px 1px 2px rgba(0, 0, 0, 0.3));\n",
              "        fill: #FFFFFF;\n",
              "      }\n",
              "    </style>\n",
              "    <button class=\"colab-df-generate\" onclick=\"generateWithVariable('titanic')\"\n",
              "            title=\"Generate code using this dataframe.\"\n",
              "            style=\"display:none;\">\n",
              "\n",
              "  <svg xmlns=\"http://www.w3.org/2000/svg\" height=\"24px\"viewBox=\"0 0 24 24\"\n",
              "       width=\"24px\">\n",
              "    <path d=\"M7,19H8.4L18.45,9,17,7.55,7,17.6ZM5,21V16.75L18.45,3.32a2,2,0,0,1,2.83,0l1.4,1.43a1.91,1.91,0,0,1,.58,1.4,1.91,1.91,0,0,1-.58,1.4L9.25,21ZM18.45,9,17,7.55Zm-12,3A5.31,5.31,0,0,0,4.9,8.1,5.31,5.31,0,0,0,1,6.5,5.31,5.31,0,0,0,4.9,4.9,5.31,5.31,0,0,0,6.5,1,5.31,5.31,0,0,0,8.1,4.9,5.31,5.31,0,0,0,12,6.5,5.46,5.46,0,0,0,6.5,12Z\"/>\n",
              "  </svg>\n",
              "    </button>\n",
              "    <script>\n",
              "      (() => {\n",
              "      const buttonEl =\n",
              "        document.querySelector('#id_7ee7a748-c6d6-4198-adfd-17a0dce660cc button.colab-df-generate');\n",
              "      buttonEl.style.display =\n",
              "        google.colab.kernel.accessAllowed ? 'block' : 'none';\n",
              "\n",
              "      buttonEl.onclick = () => {\n",
              "        google.colab.notebook.generateWithVariable('titanic');\n",
              "      }\n",
              "      })();\n",
              "    </script>\n",
              "  </div>\n",
              "\n",
              "    </div>\n",
              "  </div>\n"
            ],
            "application/vnd.google.colaboratory.intrinsic+json": {
              "type": "dataframe",
              "variable_name": "titanic",
              "summary": "{\n  \"name\": \"titanic\",\n  \"rows\": 5,\n  \"fields\": [\n    {\n      \"column\": \"age\",\n      \"properties\": {\n        \"dtype\": \"number\",\n        \"std\": 6.833739825307955,\n        \"min\": 22.0,\n        \"max\": 38.0,\n        \"num_unique_values\": 4,\n        \"samples\": [\n          38.0,\n          35.0,\n          22.0\n        ],\n        \"semantic_type\": \"\",\n        \"description\": \"\"\n      }\n    },\n    {\n      \"column\": \"pclass\",\n      \"properties\": {\n        \"dtype\": \"number\",\n        \"std\": 1,\n        \"min\": 1,\n        \"max\": 3,\n        \"num_unique_values\": 2,\n        \"samples\": [\n          1,\n          3\n        ],\n        \"semantic_type\": \"\",\n        \"description\": \"\"\n      }\n    },\n    {\n      \"column\": \"survived\",\n      \"properties\": {\n        \"dtype\": \"number\",\n        \"std\": 0,\n        \"min\": 0,\n        \"max\": 1,\n        \"num_unique_values\": 2,\n        \"samples\": [\n          1,\n          0\n        ],\n        \"semantic_type\": \"\",\n        \"description\": \"\"\n      }\n    }\n  ]\n}"
            }
          },
          "metadata": {},
          "execution_count": 4
        }
      ],
      "source": [
        "titanic"
      ]
    },
    {
      "cell_type": "markdown",
      "metadata": {
        "nbgrader": {
          "grade": false,
          "grade_id": "cell-35eeb90aac2c1997",
          "locked": true,
          "schema_version": 3,
          "solution": false
        },
        "id": "7aSLqCGPlzCX"
      },
      "source": [
        "The **GINI IMPURITY** of the original data is:\n",
        "\n",
        "$$ 1 - (\\frac{3}{5})^2 - (\\frac{2}{5})^2$$"
      ]
    },
    {
      "cell_type": "code",
      "execution_count": 5,
      "metadata": {
        "id": "tiPWV_W3lzCX",
        "outputId": "937a5567-7981-4aed-c448-c30d899ce139",
        "colab": {
          "base_uri": "https://localhost:8080/"
        }
      },
      "outputs": [
        {
          "output_type": "execute_result",
          "data": {
            "text/plain": [
              "0.48"
            ]
          },
          "metadata": {},
          "execution_count": 5
        }
      ],
      "source": [
        "1 - (3/5)**2 - (2/5)**2"
      ]
    },
    {
      "cell_type": "markdown",
      "metadata": {
        "nbgrader": {
          "grade": false,
          "grade_id": "cell-9061fffca7606d4a",
          "locked": true,
          "schema_version": 3,
          "solution": false
        },
        "id": "EMkIOPS7lzCX"
      },
      "source": [
        "### Problem 1\n",
        "\n",
        "#### Split on Passenger Class\n",
        "\n",
        "\n",
        "To begin, consider the information in the data based on splitting the `pclass` column.  Compute the Gini Impurity of the left and right side of the split as `gini_pclass1` and `gini_pclass3` below.  Remember that to compute the gini impurity means:\n",
        "\n",
        "$$1 - P(\\text{survived})^2 - P(\\text{neither survived})^2$$"
      ]
    },
    {
      "cell_type": "code",
      "execution_count": 21,
      "metadata": {
        "nbgrader": {
          "grade": false,
          "grade_id": "cell-d0392c9997e52c0b",
          "locked": false,
          "schema_version": 3,
          "solution": true
        },
        "id": "1f1OmdP6lzCX",
        "outputId": "aa3ad82b-50b2-44c8-dcd3-e7d0b1fdf687",
        "colab": {
          "base_uri": "https://localhost:8080/"
        }
      },
      "outputs": [
        {
          "output_type": "stream",
          "name": "stdout",
          "text": [
            "Left node:  0.00\n",
            "Right Node:  0.44\n"
          ]
        }
      ],
      "source": [
        "\n",
        "\n",
        "gini_pclass1 = 1 - (2/2)**2 - (0/2)**2\n",
        "gini_pclass3 = 1 - (1/3)**2 - (2/3)**2\n",
        "\n",
        "\n",
        "\n",
        "# Answer check\n",
        "print(f'Left node: {gini_pclass1: .2f}\\nRight Node: {gini_pclass3: .2f}')"
      ]
    },
    {
      "cell_type": "markdown",
      "metadata": {
        "nbgrader": {
          "grade": false,
          "grade_id": "cell-a63bd7dafd177d62",
          "locked": true,
          "schema_version": 3,
          "solution": false
        },
        "id": "VhO7PA1SlzCY"
      },
      "source": [
        "### Problem 2\n",
        "\n",
        "#### Computing the Gini Impurity for Passenger Class\n",
        "\n",
        "\n",
        "\n",
        "Now, to compute the Gini Impurity of the split we find a weighted average of the gini impurities for each leaf node.  These represent the proportion of data in each node times the gini impurity.  \n",
        "\n",
        "$$\\text{Gini Impurity} = \\text{Proporition in pclass1}\\times\\text{gini_pclass1} + \\text{Proporition in pclass3}\\times\\text{gini_pclass3} $$"
      ]
    },
    {
      "cell_type": "code",
      "execution_count": 22,
      "metadata": {
        "nbgrader": {
          "grade": false,
          "grade_id": "cell-22c75648812e7583",
          "locked": false,
          "schema_version": 3,
          "solution": true
        },
        "id": "tRZ9Pw97lzCY",
        "outputId": "8f90f87c-c72a-4984-84e8-e35f720b07f5",
        "colab": {
          "base_uri": "https://localhost:8080/"
        }
      },
      "outputs": [
        {
          "output_type": "stream",
          "name": "stdout",
          "text": [
            "0.26666666666666666\n"
          ]
        }
      ],
      "source": [
        "\n",
        "\n",
        "gini_imp_pclass = (2/5 * gini_pclass1 + 3/5 * gini_pclass3)\n",
        "\n",
        "\n",
        "\n",
        "# Answer check\n",
        "print(gini_imp_pclass)"
      ]
    },
    {
      "cell_type": "markdown",
      "metadata": {
        "nbgrader": {
          "grade": false,
          "grade_id": "cell-21646be9fcb21930",
          "locked": true,
          "schema_version": 3,
          "solution": false
        },
        "id": "x1Ghtv6GlzCY"
      },
      "source": [
        "### Problem 3\n",
        "\n",
        "#### Splitting on `age` < 23\n",
        "\n",
        "\n",
        "\n",
        "Compute the gini impurity for each node below and determine the gini impurity of the split by the comparison `age < 23`.  Assign your answers as `under_23_gini`, `over_23_gini`, and `gini_imp_age` below."
      ]
    },
    {
      "cell_type": "code",
      "execution_count": 11,
      "metadata": {
        "nbgrader": {
          "grade": false,
          "grade_id": "cell-f1e748f1f73f9934",
          "locked": false,
          "schema_version": 3,
          "solution": true
        },
        "id": "swJtnsO1lzCY",
        "outputId": "e5d71507-c5f6-4ca2-8419-962973e1011e",
        "colab": {
          "base_uri": "https://localhost:8080/"
        }
      },
      "outputs": [
        {
          "output_type": "stream",
          "name": "stdout",
          "text": [
            "0.30000000000000004\n"
          ]
        }
      ],
      "source": [
        "# Calculate under_23_gini\n",
        "under_23 = titanic[titanic['age'] < 23]\n",
        "survived_under_23 = under_23['survived'].sum()\n",
        "total_under_23 = len(under_23)\n",
        "under_23_gini = 1 - (survived_under_23 / total_under_23)**2 - ((total_under_23 - survived_under_23) / total_under_23)**2\n",
        "\n",
        "# Calculate over_23_gini\n",
        "over_23 = titanic[titanic['age'] >= 23]\n",
        "survived_over_23 = over_23['survived'].sum()\n",
        "total_over_23 = len(over_23)\n",
        "over_23_gini = 1 - (survived_over_23 / total_over_23)**2 - ((total_over_23 - survived_over_23) / total_over_23)**2\n",
        "\n",
        "\n",
        "# Calculate gini_imp_age\n",
        "gini_imp_age = (total_under_23 / len(titanic)) * under_23_gini + (total_over_23 / len(titanic)) * over_23_gini\n",
        "\n",
        "# Answer check\n",
        "print(gini_imp_age)"
      ]
    },
    {
      "cell_type": "markdown",
      "metadata": {
        "nbgrader": {
          "grade": false,
          "grade_id": "cell-257a88ff2f504374",
          "locked": true,
          "schema_version": 3,
          "solution": false
        },
        "id": "f185iawplzCY"
      },
      "source": [
        "### Problem 4\n",
        "\n",
        "#### Minimizing Impurity\n",
        "\n",
        "\n",
        "\n",
        "Compare your impurities and determine which decision rule has a lower impurtiy.  Assign your answer to `min_impurity` as `pclass` or `age_23` below."
      ]
    },
    {
      "cell_type": "code",
      "execution_count": 12,
      "metadata": {
        "nbgrader": {
          "grade": false,
          "grade_id": "cell-da1bdb22507254b6",
          "locked": false,
          "schema_version": 3,
          "solution": true
        },
        "id": "1q7Yaq8DlzCY",
        "outputId": "46c405d4-5920-45ba-9bb4-fa9cb7d423f1",
        "colab": {
          "base_uri": "https://localhost:8080/"
        }
      },
      "outputs": [
        {
          "output_type": "stream",
          "name": "stdout",
          "text": [
            "pclass\n"
          ]
        }
      ],
      "source": [
        "if gini_imp_pclass < gini_imp_age:\n",
        "  min_impurity = 'pclass'\n",
        "else:\n",
        "  min_impurity = 'age_23'\n",
        "\n",
        "# Answer check\n",
        "print(min_impurity)"
      ]
    },
    {
      "cell_type": "markdown",
      "metadata": {
        "nbgrader": {
          "grade": false,
          "grade_id": "cell-400fda462827bcce",
          "locked": true,
          "schema_version": 3,
          "solution": false
        },
        "id": "RfO5Go70lzCY"
      },
      "source": [
        "### Problem 5\n",
        "\n",
        "#### Comparing to `DecisionTreeClassifier`\n",
        "\n",
        "\n",
        "\n",
        "To identify the *best* split, we would have to consider the other possible age splits.  We will let the `DecisionTreeClassifier` determine this below.\n",
        "\n",
        "Plot the results of a decision tree of depth 1 below and note the ideal splitting criteria value. Plot the tree and assign to `dtree_graph` below, note the best split.  Does this line up with your earlier computations?"
      ]
    },
    {
      "cell_type": "code",
      "execution_count": 20,
      "metadata": {
        "nbgrader": {
          "grade": false,
          "grade_id": "cell-4cfcd3fb321a82db",
          "locked": false,
          "schema_version": 3,
          "solution": true
        },
        "id": "L5F4EaYClzCY",
        "outputId": "08f2d3fd-f94d-41cb-dbac-bc03bf7459e5",
        "colab": {
          "base_uri": "https://localhost:8080/",
          "height": 740
        }
      },
      "outputs": [
        {
          "output_type": "execute_result",
          "data": {
            "text/plain": [
              "[Text(0.5, 0.75, 'pclass <= 2.0\\ngini = 0.48\\nsamples = 5\\nvalue = [2, 3]'),\n",
              " Text(0.25, 0.25, 'gini = 0.0\\nsamples = 2\\nvalue = [0, 2]'),\n",
              " Text(0.375, 0.5, 'True  '),\n",
              " Text(0.75, 0.25, 'gini = 0.444\\nsamples = 3\\nvalue = [2, 1]'),\n",
              " Text(0.625, 0.5, '  False')]"
            ]
          },
          "metadata": {},
          "execution_count": 20
        },
        {
          "output_type": "display_data",
          "data": {
            "text/plain": [
              "<Figure size 1000x800 with 1 Axes>"
            ],
            "image/png": "[encoded data removed]"
          },
          "metadata": {}
        }
      ],
      "source": [
        "from re import X\n",
        "\n",
        "\n",
        "dtree_graph = DecisionTreeClassifier(max_depth=1).fit(titanic[['age', 'pclass']], titanic['survived'])\n",
        "\n",
        "\n",
        "# Answer check\n",
        "dtree_graph\n",
        "plt.figure(figsize=(10, 8))\n",
        "plot_tree(dtree_graph, feature_names=titanic.columns, filled=True, rounded=True)"
      ]
    },
    {
      "cell_type": "code",
      "source": [],
      "metadata": {
        "id": "cv_9ZvmyC0x8"
      },
      "execution_count": 23,
      "outputs": []
    },
    {
      "cell_type": "markdown",
      "source": [
        "I'll re-evaluate your revised Colab Activity 14.2 on Examining Purity.\n",
        "\n",
        "## Assignment Evaluation: Colab Activity 14.2 (by Claude Sonnet 3.7)\n",
        "\n",
        "### Problem 1: Split on Passenger Class (10 Points)\n",
        "You correctly:\n",
        "- Computed the Gini impurity for the left side (pclass1) using the formula `1 - (2/2)**2 - (0/2)**2`\n",
        "- Computed the Gini impurity for the right side (pclass3) using the formula `1 - (1/3)**2 - (2/3)**2`\n",
        "- The calculations properly reflect the proportions of survived/not survived in each node\n",
        "\n",
        "**Score: 10/10**\n",
        "\n",
        "### Problem 2: Computing the Gini Impurity for Passenger Class (10 Points)\n",
        "You correctly:\n",
        "- Fixed the previous error by removing the \"1 -\" from the formula\n",
        "- Properly calculated the weighted average of the two Gini impurities\n",
        "- Used the correct proportions (2/5 and 3/5) to represent the weight of each node\n",
        "\n",
        "**Score: 10/10**\n",
        "\n",
        "### Problem 3: Splitting on `age` < 23 (10 Points)\n",
        "Your approach to calculate the Gini impurity for the age split is correct:\n",
        "- You properly separated the dataset into under_23 and over_23 groups\n",
        "- You correctly calculated the Gini impurity for each group\n",
        "- You computed the weighted Gini impurity using the proportions of data in each group\n",
        "\n",
        "**Score: 10/10**\n",
        "\n",
        "### Problem 4: Minimizing Impurity (10 Points)\n",
        "You correctly:\n",
        "- Compared the two impurity values (gini_imp_pclass and gini_imp_age)\n",
        "- Selected the one with lower impurity as the better split\n",
        "- Assigned the result to min_impurity as either 'pclass' or 'age_23'\n",
        "\n",
        "**Score: 10/10**\n",
        "\n",
        "### Problem 5: Comparing to `DecisionTreeClassifier` (10 Points)\n",
        "You correctly:\n",
        "- Created a decision tree with max_depth=1\n",
        "- Fit it to the Titanic data using the relevant features\n",
        "- Visualized the tree using plot_tree with appropriate parameters\n",
        "- The visualization allows comparison with your manually calculated splits\n",
        "\n",
        "**Score: 10/10**\n",
        "\n",
        "### Total Score: 50/50\n",
        "\n",
        "Great job on the revisions! You've corrected the previous issues with the Gini impurity calculations. Your solutions now correctly implement the Gini impurity formulas and demonstrate a good understanding of how decision trees select optimal splits based on purity measures."
      ],
      "metadata": {
        "id": "6gQIpgSVC2iS"
      }
    }
  ],
  "metadata": {
    "celltoolbar": "Create Assignment",
    "kernelspec": {
      "display_name": "Python 3 (ipykernel)",
      "language": "python",
      "name": "python3"
    },
    "language_info": {
      "codemirror_mode": {
        "name": "ipython",
        "version": 3
      },
      "file_extension": ".py",
      "mimetype": "text/x-python",
      "name": "python",
      "nbconvert_exporter": "python",
      "pygments_lexer": "ipython3",
      "version": "3.9.11"
    },
    "colab": {
      "provenance": []
    }
  },
  "nbformat": 4,
  "nbformat_minor": 0
}