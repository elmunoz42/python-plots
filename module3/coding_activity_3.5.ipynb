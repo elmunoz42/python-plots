{
 "cells": [
  {
   "cell_type": "markdown",
   "metadata": {
    "deletable": false,
    "editable": false,
    "nbgrader": {
     "checksum": "bbfe196b88dd9580e8dbb31516887bbd",
     "grade": false,
     "grade_id": "cell-ea6adcdba6a15fba",
     "locked": true,
     "schema_version": 1,
     "solution": false
    }
   },
   "source": [
    "### Codio Activity 3.5: Sorting and Aggregating\n",
    "\n",
    "**Expected Time**: 60 Minutes\n",
    "\n",
    "**Total Points**: 10\n",
    "\n",
    "This activity focuses on sorting the results of a `groupby` operation. The dataset is again the `gapminder` data from plotly.  Your tasks involve aggregating and sorting as well as plotting summary results using `matplotlib`, `seaborn`, and `plotly`.\n",
    "\n",
    "#### Index:\n",
    "\n",
    "- [Problem 1](#Problem-1:-Lowest-to-Highest-Average-Life-Expectancy)\n",
    "- [Problem 2](#Problem-2:-Sorting-GDP)\n",
    "- [Problem 3](#Problem-3:-Sorting-Results-of-Multiple-Aggregates)\n",
    "- [Problem 4](#Problem-4:-Sorting-Custom-Outputs)\n",
    "- [Problem 5](#Problem-5:-Applying-the-\\`column_range\\`-function)"
   ]
  },
  {
   "cell_type": "code",
   "execution_count": null,
   "metadata": {
    "deletable": false,
    "editable": false,
    "nbgrader": {
     "checksum": "934299135ff1398c6885c26dbcb21477",
     "grade": false,
     "grade_id": "cell-3d34886fad60d0be",
     "locked": true,
     "schema_version": 1,
     "solution": false
    }
   },
   "outputs": [],
   "source": [
    "import plotly.express as px\n",
    "import pandas as pd\n",
    "import numpy as np\n",
    "import seaborn as sns\n",
    "import matplotlib.pyplot as plt"
   ]
  },
  {
   "cell_type": "code",
   "execution_count": null,
   "metadata": {
    "deletable": false,
    "editable": false,
    "nbgrader": {
     "checksum": "cb5ba86395f758190053c45714a410ea",
     "grade": false,
     "grade_id": "cell-76f0f79f7da57214",
     "locked": true,
     "schema_version": 1,
     "solution": false
    }
   },
   "outputs": [],
   "source": [
    "gapminder = px.data.gapminder()"
   ]
  },
  {
   "cell_type": "code",
   "execution_count": null,
   "metadata": {
    "deletable": false,
    "editable": false,
    "nbgrader": {
     "checksum": "ea7cd3e75bf399a8cabfa192b8bafd7e",
     "grade": false,
     "grade_id": "cell-d6b7f3d8a857ca14",
     "locked": true,
     "schema_version": 1,
     "solution": false
    }
   },
   "outputs": [],
   "source": [
    "gapminder.head(2)"
   ]
  },
  {
   "cell_type": "code",
   "execution_count": null,
   "metadata": {
    "deletable": false,
    "editable": false,
    "nbgrader": {
     "checksum": "a5de28d6649cc24b9801ffd59f2f49e9",
     "grade": false,
     "grade_id": "cell-954d081a14a46272",
     "locked": true,
     "schema_version": 1,
     "solution": false
    }
   },
   "outputs": [],
   "source": [
    "gapminder.info()"
   ]
  },
  {
   "cell_type": "markdown",
   "metadata": {
    "deletable": false,
    "editable": false,
    "nbgrader": {
     "checksum": "ffdab17d7a60cf64a0043282f7d1900e",
     "grade": false,
     "grade_id": "cell-9ae73b51a1f95520",
     "locked": true,
     "schema_version": 1,
     "solution": false
    }
   },
   "source": [
    "[Back to top](#Index:) \n",
    "\n",
    "### Problem 1: Highet to Lowest Average Life Expectancy\n",
    "\n",
    "**2 Points**\n",
    "\n",
    "\n",
    "Use the `groupby` method on the `gapminder` DataFrame to group the values in the `continent` column. Use a double square bracket notation to apply this operation on the `lifeExp` column. Next, use the pandas function `mean()` to compute the mean value. Finally, use the `sort_values()` function to sort your results by `lifeExp`. Inside the `sort_values()` function, set the `ascending` argument equal to `False`.\n",
    "\n",
    "Assign your results as a DataFrame to `ans1` below.  "
   ]
  },
  {
   "cell_type": "code",
   "execution_count": null,
   "metadata": {
    "deletable": false,
    "nbgrader": {
     "checksum": "8043793c75603cf1a49d20101ee3d7bf",
     "grade": false,
     "grade_id": "cell-9174b84554ea287c",
     "locked": false,
     "schema_version": 1,
     "solution": true
    }
   },
   "outputs": [],
   "source": [
    "### GRADED\n",
    "mean_life_expectency_by_continent = gapminder.groupby('continent')[['lifeExp']].agg('mean')\n",
    "ans1 = mean_life_expectency_by_continent.sort_values(by='lifeExp',ascending=False)\n",
    "# Answer check\n",
    "print(ans1)\n",
    "print(type(ans1))"
   ]
  },
  {
   "cell_type": "code",
   "execution_count": null,
   "metadata": {
    "deletable": false,
    "editable": false,
    "nbgrader": {
     "checksum": "a0d54576edd0d2ad73829c28d8bb404e",
     "grade": true,
     "grade_id": "cell-3667c338ac1d9a93",
     "locked": true,
     "points": 2,
     "schema_version": 1,
     "solution": false
    }
   },
   "outputs": [],
   "source": []
  },
  {
   "cell_type": "markdown",
   "metadata": {
    "deletable": false,
    "editable": false,
    "nbgrader": {
     "checksum": "5f5815977c97909a8f6c17cfe26f06b2",
     "grade": false,
     "grade_id": "cell-1bea53fc0d43687b",
     "locked": true,
     "schema_version": 1,
     "solution": false
    }
   },
   "source": [
    "[Back to top](#Index:) \n",
    "\n",
    "### Problem 2: Sorting GDP\n",
    "\n",
    "**2 Points**\n",
    "\n",
    "Which country has the highest `gdpPercap`?  Use `groupby` to answer this question and assign your answer as a one word string representing the name of the country to `ans2` below."
   ]
  },
  {
   "cell_type": "code",
   "execution_count": null,
   "metadata": {
    "deletable": false,
    "nbgrader": {
     "checksum": "3ee6e89996c6215a20850f1cec5400d0",
     "grade": false,
     "grade_id": "cell-53f700d04cb1c94e",
     "locked": false,
     "schema_version": 1,
     "solution": true
    }
   },
   "outputs": [],
   "source": [
    "### GRADED\n",
    "countries_with_highest_gdpPercap = gapminder.groupby('country')[['gdpPercap']].agg('mean').sort_values(by='gdpPercap', ascending=False)\n",
    "print(countries_with_highest_gdpPercap)\n",
    "ans2 = 'Kuwait'\n",
    "# Answer check\n",
    "print(ans2)\n",
    "print(type(ans2))"
   ]
  },
  {
   "cell_type": "code",
   "execution_count": null,
   "metadata": {
    "deletable": false,
    "editable": false,
    "nbgrader": {
     "checksum": "cccd30695dd88ca31fc1eaf39238f258",
     "grade": true,
     "grade_id": "cell-d18568269e3c1098",
     "locked": true,
     "points": 2,
     "schema_version": 1,
     "solution": false
    }
   },
   "outputs": [],
   "source": []
  },
  {
   "cell_type": "markdown",
   "metadata": {
    "deletable": false,
    "editable": false,
    "nbgrader": {
     "checksum": "76a246c9e2610281b3a71783d9c031f1",
     "grade": false,
     "grade_id": "cell-3ebc023b2b54189b",
     "locked": true,
     "schema_version": 1,
     "solution": false
    }
   },
   "source": [
    "[Back to top](#Index:) \n",
    "\n",
    "### Problem 3: Sorting Results of Multiple Aggregates\n",
    "\n",
    "**2 Points**\n",
    "\n",
    "Use the `groupby` method on the `gapminder` DataFrame to group the values in the `continent` column. Next, use the pandas function `agg()` with argument equal to `['mean', 'median', 'std']` to compute the mean, the median, and the standard deviation. Use a double square bracket notation to apply this operation on the `lifeExp` column.  Save this DataFrame to `ans3a` below.  \n",
    "\n",
    "\n",
    "\n",
    "\n",
    "To sort the resulting values by medians from greatest to least, first flatten and rename the columns using the code:\n",
    "\n",
    "```python\n",
    "ans3a.columns = [\" \".join(c) for c in ans3a.columns.to_flat_index()]\n",
    "```\n",
    "\n",
    "\n",
    "Finally, use the `sort_values` function on `ans3a` to sort the results by `lifeExp median`. Inside the `sort_values` function set the argument `ascending` equal to `False`. Assign your result to `ans3b`."
   ]
  },
  {
   "cell_type": "code",
   "execution_count": null,
   "metadata": {
    "deletable": false,
    "nbgrader": {
     "checksum": "c19bd7ab7342a19ee29b7665016bdeb9",
     "grade": false,
     "grade_id": "cell-52e240bec4e8a6a0",
     "locked": false,
     "schema_version": 1,
     "solution": true
    }
   },
   "outputs": [],
   "source": [
    "### GRADED\n",
    "\n",
    "ans3a = gapminder.groupby('continent').agg(['mean','std','median'])[['lifeExp']]\n",
    "ans3a.columns = [\" \".join(c) for c in ans3a.columns.to_flat_index()]\n",
    "ans3b = ans3a.sort_values(by='lifeExp median', ascending=False)\n",
    "\n",
    "# Answer check\n",
    "print(ans3a)\n",
    "print(ans3b)"
   ]
  },
  {
   "cell_type": "code",
   "execution_count": null,
   "metadata": {
    "deletable": false,
    "editable": false,
    "nbgrader": {
     "checksum": "66b237c58563cfe6006379177cd5a9e9",
     "grade": true,
     "grade_id": "cell-e472f07102714ee4",
     "locked": true,
     "points": 2,
     "schema_version": 1,
     "solution": false
    }
   },
   "outputs": [],
   "source": []
  },
  {
   "cell_type": "markdown",
   "metadata": {
    "deletable": false,
    "editable": false,
    "nbgrader": {
     "checksum": "fac0aaf8932e047ed6b54c81db2cbd01",
     "grade": false,
     "grade_id": "cell-96f7c21c0351e655",
     "locked": true,
     "schema_version": 1,
     "solution": false
    }
   },
   "source": [
    "[Back to top](#Index:) \n",
    "\n",
    "### Problem 4: Sorting Custom Outputs\n",
    "\n",
    "**2 Points**\n",
    "\n",
    "Complete the defintion of the function `column_range` according to the instructions below:\n",
    "\n",
    "- The `column_range` function should take `col` as input argument.\n",
    "- The `column_range` function should return the difference between the maximum and the minimum value of `col.\n"
   ]
  },
  {
   "cell_type": "code",
   "execution_count": null,
   "metadata": {
    "deletable": false,
    "nbgrader": {
     "checksum": "720d6644630df7c761ac7136d3fbdea9",
     "grade": false,
     "grade_id": "cell-ef54140f4c5e26da",
     "locked": false,
     "schema_version": 1,
     "solution": true
    }
   },
   "outputs": [],
   "source": [
    "### GRADED\n",
    "\n",
    "def column_range(col):\n",
    "    return col.max() - col.min() \n",
    "\n",
    "# Answer check\n",
    "column_range(gapminder['lifeExp'])"
   ]
  },
  {
   "cell_type": "code",
   "execution_count": null,
   "metadata": {
    "deletable": false,
    "editable": false,
    "nbgrader": {
     "checksum": "74a6f19efaf2a3667e04041865e2cc91",
     "grade": true,
     "grade_id": "cell-1f39c6bb5e22442b",
     "locked": true,
     "points": 2,
     "schema_version": 1,
     "solution": false
    }
   },
   "outputs": [],
   "source": []
  },
  {
   "cell_type": "markdown",
   "metadata": {
    "deletable": false,
    "editable": false,
    "nbgrader": {
     "checksum": "97d27027985fd9eebb5f484afff88e9e",
     "grade": false,
     "grade_id": "cell-d477c09a95ab23ab",
     "locked": true,
     "schema_version": 1,
     "solution": false
    }
   },
   "source": [
    "[Back to top](#Index:) \n",
    "\n",
    "### Problem 5: Applying the `column_range` function\n",
    "\n",
    "**2 Points**\n",
    "\n",
    "\n",
    "\n",
    "Use the `groupby` method on the `gapminder` DataFrame to group the values in the `continent` column.  Use a double square bracket notation to apply this operation on the `gdpPercap` column. Next, use the `apply()` function with argument equal to `column_range`. Finally, use the `sort_values()` function to sort the values by `gdpPercap`. Inside the `sort_values()` function set the argument `ascending` equal to `False`. Save this DataFrame to `ans5`. below.  "
   ]
  },
  {
   "cell_type": "code",
   "execution_count": null,
   "metadata": {
    "deletable": false,
    "nbgrader": {
     "checksum": "0d628107371d2038d326e1f4ef7fbdd2",
     "grade": false,
     "grade_id": "cell-c44321bb8f95b1c6",
     "locked": false,
     "schema_version": 1,
     "solution": true
    }
   },
   "outputs": [],
   "source": [
    "### GRADED\n",
    "\n",
    "ans5 = gapminder.groupby('continent')[['gdpPercap']].apply(column_range).sort_values(by='gdpPercap', ascending=False)\n",
    "\n",
    "# Answer check\n",
    "ans5"
   ]
  },
  {
   "cell_type": "code",
   "execution_count": null,
   "metadata": {
    "deletable": false,
    "editable": false,
    "nbgrader": {
     "checksum": "9f5bf04ad5f32bf413fa4a4b86d9520a",
     "grade": true,
     "grade_id": "cell-c48d7e9f2e76e4fb",
     "locked": true,
     "points": 2,
     "schema_version": 1,
     "solution": false
    }
   },
   "outputs": [],
   "source": []
  }
 ],
 "metadata": {
  "kernelspec": {
   "display_name": "Python 3",
   "language": "python",
   "name": "python3"
  },
  "language_info": {
   "codemirror_mode": {
    "name": "ipython",
    "version": 3
   },
   "file_extension": ".py",
   "mimetype": "text/x-python",
   "name": "python",
   "nbconvert_exporter": "python",
   "pygments_lexer": "ipython3",
   "version": "3.6.9"
  }
 },
 "nbformat": 4,
 "nbformat_minor": 4
}
