{
  "nbformat": 4,
  "nbformat_minor": 0,
  "metadata": {
    "colab": {
      "provenance": []
    },
    "kernelspec": {
      "name": "python3",
      "display_name": "Python 3"
    },
    "language_info": {
      "name": "python"
    }
  },
  "cells": [
    {
      "cell_type": "code",
      "execution_count": null,
      "metadata": {
        "id": "KXTil1kD2T33"
      },
      "outputs": [],
      "source": []
    },
    {
      "cell_type": "markdown",
      "source": [
        "# ✨ TF-IDF (Term Frequency–Inverse Document Frequency) in NLP\n",
        "\n",
        "## 📖 What is TF-IDF?\n",
        "\n",
        "**TF-IDF** is a statistical measure used in Natural Language Processing to evaluate how important a word is to a document **relative to a collection (corpus)**.\n",
        "\n",
        "It combines two components:\n",
        "\n",
        "- **TF**: Term Frequency\n",
        "- **IDF**: Inverse Document Frequency\n",
        "\n",
        "The intuition is:\n",
        "- Words that appear **frequently in a document** are important (TF)\n",
        "- But words that appear in **many documents** (like \"the\", \"is\") are less informative (IDF)\n",
        "\n",
        "---\n",
        "\n",
        "## TF: Term Frequency\n",
        "\n",
        "The **term frequency** is the number of times a word appears in a document, normalized by the total number of words in the document.\n",
        "\n",
        "For a word $w$ in document $d$:\n",
        "\n",
        "$$\n",
        "\\text{TF}(w, d) = \\frac{f_{w,d}}{\\sum_{k} f_{k,d}}\n",
        "$$\n",
        "\n",
        "Where:\n",
        "- $f_{w,d}$ is the number of times word $w$ appears in document $d$\n",
        "- The denominator is the total number of words in $d$\n",
        "\n",
        "---\n",
        "\n",
        "## IDF: Inverse Document Frequency\n",
        "\n",
        "The **inverse document frequency** downscales words that appear in many documents. It measures the **rarity** of a word.\n",
        "\n",
        "For a word $w$ in a corpus $D$:\n",
        "\n",
        "$$\n",
        "\\text{IDF}(w, D) = \\log\\left(\\frac{N}{1 + \\text{df}(w)}\\right)\n",
        "$$\n",
        "\n",
        "Where:\n",
        "- $N$ is the total number of documents in the corpus\n",
        "- $\\text{df}(w)$ is the number of documents containing the word $w$\n",
        "- $1$ is added to avoid division by zero\n",
        "\n",
        "---\n",
        "\n",
        "## TF-IDF Formula\n",
        "\n",
        "Combining TF and IDF:\n",
        "\n",
        "$$\n",
        "\\text{TF-IDF}(w, d, D) = \\text{TF}(w, d) \\times \\text{IDF}(w, D)\n",
        "$$\n",
        "\n",
        "This product gives a **weighted score** for each word in each document.\n",
        "\n",
        "---\n",
        "\n",
        "## 🔍 Example\n",
        "\n",
        "Suppose the word `\"machine\"` appears:\n",
        "- 5 times in document $d$\n",
        "- In 100 documents out of 10,000 in the corpus\n",
        "\n",
        "Then:\n",
        "- $\\text{TF}(\\text{\"machine\"}, d) = \\frac{5}{\\text{length of } d}$\n",
        "- $\\text{IDF}(\\text{\"machine\"}, D) = \\log\\left(\\frac{10000}{1 + 100}\\right)$\n",
        "\n",
        "---\n",
        "\n",
        "## Why Use TF-IDF?\n",
        "\n",
        "- Reduces the impact of **frequent but less informative words** (e.g., \"and\", \"the\")\n",
        "- Highlights **discriminative words** for a given document\n",
        "- Works well in:\n",
        "  - Document classification\n",
        "  - Text similarity\n",
        "  - Search and retrieval\n",
        "\n",
        "---\n",
        "\n",
        "## Summary\n",
        "\n",
        "| Component | Description                         |\n",
        "|-----------|-------------------------------------|\n",
        "| **TF**    | Local importance (in the document)  |\n",
        "| **IDF**   | Global rarity (across the corpus)   |\n",
        "| **TF-IDF**| Combined score for weighting terms  |\n",
        "\n",
        "> 💡 TF-IDF is a classic feature extraction technique in NLP. While not contextual like embeddings, it's fast, interpretable, and very effective for many baseline models.\n"
      ],
      "metadata": {
        "id": "Y5Z8gu0s2glA"
      }
    },
    {
      "cell_type": "code",
      "source": [],
      "metadata": {
        "id": "n6jrIb4O2gRu"
      },
      "execution_count": null,
      "outputs": []
    },
    {
      "cell_type": "markdown",
      "source": [
        "# ⚖️ TF-IDF vs. Bag of Words in NLP\n",
        "\n",
        "Both **TF-IDF** and **Bag of Words (BoW)** are fundamental text vectorization techniques used to represent documents numerically. While they are similar in structure, they differ in how they weight terms.\n",
        "\n",
        "---\n",
        "\n",
        "## Bag of Words (BoW)\n",
        "\n",
        "The **Bag of Words** model creates a feature vector by counting the **number of occurrences** of each word in a document.\n",
        "\n",
        "### Formula:\n",
        "For term $w$ in document $d$:\n",
        "\n",
        "$$\n",
        "\\text{BoW}(w, d) = f_{w,d}\n",
        "$$\n",
        "\n",
        "Where $f_{w,d}$ is the frequency of word $w$ in document $d$.\n",
        "\n",
        "---\n",
        "\n",
        "## ✨ TF-IDF: Term Frequency–Inverse Document Frequency\n",
        "\n",
        "The **TF-IDF** model weights each word based on its **term frequency in a document** and **inverse frequency across all documents**.\n",
        "\n",
        "### Formula:\n",
        "\n",
        "$$\n",
        "\\text{TF-IDF}(w, d, D) = \\text{TF}(w, d) \\times \\text{IDF}(w, D)\n",
        "$$\n",
        "\n",
        "Where:\n",
        "- $\\text{TF}(w, d)$ = frequency of $w$ in $d$ normalized by document length\n",
        "- $\\text{IDF}(w, D)$ = log-scaled inverse frequency of $w$ across all documents in corpus $D$\n",
        "\n",
        "---\n",
        "\n",
        "## Comparison Table\n",
        "\n",
        "| Feature                     | **Bag of Words (BoW)**                        | **TF-IDF**                                     |\n",
        "|-----------------------------|-----------------------------------------------|------------------------------------------------|\n",
        "| **Weighting**               | Raw word counts                              | Frequency + uniqueness                        |\n",
        "| **Common word penalty**     | ❌ No                                         | ✅ Yes (via IDF)                              |\n",
        "| **Vocabulary size**         | Large and sparse                             | Large and sparse                              |\n",
        "| **Context awareness**       | ❌ No                                         | ❌ No                                          |\n",
        "| **Semantic understanding**  | ❌ None                                       | ❌ None                                        |\n",
        "| **Discriminative power**    | Lower (common words dominate)                | Higher (rare but relevant words emphasized)   |\n",
        "| **Interpretability**        | ✅ Easy                                       | ✅ Easy (but more nuanced)                    |\n",
        "| **Computational cost**      | Low                                          | Slightly higher                               |\n",
        "\n",
        "---\n",
        "\n",
        "## Advantages of TF-IDF Over BoW\n",
        "\n",
        "- **Down-weights common words** (like \"the\", \"is\", \"and\") that appear in almost every document\n",
        "- **Highlights rare but important terms** that help distinguish documents\n",
        "- **Improves performance** in many tasks like:\n",
        "  - Text classification\n",
        "  - Document similarity\n",
        "  - Information retrieval\n",
        "\n",
        "---\n",
        "\n",
        "## Disadvantages of TF-IDF\n",
        "\n",
        "- Still **ignores word order** and **semantic meaning**\n",
        "- **Cannot handle polysemy** or **contextual variations**\n",
        "- **Sparse vectors**: Like BoW, it produces high-dimensional sparse vectors\n",
        "- **Not dynamic**: Once built, TF-IDF weights are fixed unless re-trained\n",
        "\n",
        "---\n",
        "\n",
        "## Summary\n",
        "\n",
        "| Technique | When to Use                             |\n",
        "|-----------|------------------------------------------|\n",
        "| **BoW**   | Simple models, small corpora, prototyping |\n",
        "| **TF-IDF**| When discriminative weighting matters, e.g., classification, search |\n",
        "\n",
        "> 💡 Use TF-IDF when you want a **better signal-to-noise ratio** than raw counts, but don't need contextual understanding like with BERT or Word2Vec.\n"
      ],
      "metadata": {
        "id": "qy75oNVo7WcB"
      }
    },
    {
      "cell_type": "code",
      "source": [
        "!pip install nltk"
      ],
      "metadata": {
        "colab": {
          "base_uri": "https://localhost:8080/"
        },
        "id": "cnvP2ent-TrI",
        "outputId": "3ce53100-defe-45b9-b30c-79cf6524a32a"
      },
      "execution_count": null,
      "outputs": [
        {
          "output_type": "stream",
          "name": "stdout",
          "text": [
            "Requirement already satisfied: nltk in /usr/local/lib/python3.11/dist-packages (3.9.1)\n",
            "Requirement already satisfied: click in /usr/local/lib/python3.11/dist-packages (from nltk) (8.1.8)\n",
            "Requirement already satisfied: joblib in /usr/local/lib/python3.11/dist-packages (from nltk) (1.4.2)\n",
            "Requirement already satisfied: regex>=2021.8.3 in /usr/local/lib/python3.11/dist-packages (from nltk) (2024.11.6)\n",
            "Requirement already satisfied: tqdm in /usr/local/lib/python3.11/dist-packages (from nltk) (4.67.1)\n"
          ]
        }
      ]
    },
    {
      "cell_type": "code",
      "source": [
        "# Re-import after kernel reset\n",
        "import pandas as pd\n",
        "import nltk # Import nltk before downloading\n",
        "nltk.download('stopwords') # Download stopwords\n",
        "from sklearn.feature_extraction.text import TfidfVectorizer, CountVectorizer\n",
        "from sklearn.model_selection import train_test_split\n",
        "from sklearn.pipeline import Pipeline\n",
        "from sklearn.naive_bayes import MultinomialNB\n",
        "from sklearn.metrics import accuracy_score\n",
        "nltk.download('wordnet')\n",
        "from nltk.stem import WordNetLemmatizer\n",
        "import re\n",
        "from nltk.corpus import stopwords\n",
        "from nltk.stem import WordNetLemmatizer\n",
        "wordlemmatize=WordNetLemmatizer()\n"
      ],
      "metadata": {
        "colab": {
          "base_uri": "https://localhost:8080/"
        },
        "id": "_aEJkoC07bfn",
        "outputId": "1b3ed272-e055-4e89-d2d7-4ca19d592eb1"
      },
      "execution_count": null,
      "outputs": [
        {
          "output_type": "stream",
          "name": "stderr",
          "text": [
            "[nltk_data] Downloading package stopwords to /root/nltk_data...\n",
            "[nltk_data]   Package stopwords is already up-to-date!\n",
            "[nltk_data] Downloading package wordnet to /root/nltk_data...\n",
            "[nltk_data]   Package wordnet is already up-to-date!\n"
          ]
        }
      ]
    },
    {
      "cell_type": "code",
      "source": [
        "import pandas as pd\n",
        "messages = pd.read_csv('SMSSpamCollection.txt', sep='\\t', names=[\"label\", \"message\"])\n"
      ],
      "metadata": {
        "id": "XIF72_Y6PbbW"
      },
      "execution_count": null,
      "outputs": []
    },
    {
      "cell_type": "code",
      "source": [
        "corpus = []\n",
        "for i in range(0, len(messages)):\n",
        "    review = re.sub('[^a-zA-z]', ' ', messages['message'][i])\n",
        "    review = review.lower()\n",
        "    review = review.split()\n",
        "    # Lemmatize words, excluding stopwords\n",
        "    review = [wordlemmatize.lemmatize(word) for word in review if not word in stopwords.words('english')]\n",
        "    review = ' '.join(review)\n",
        "    corpus.append(review)\n"
      ],
      "metadata": {
        "id": "S8-ytK959mhC"
      },
      "execution_count": null,
      "outputs": []
    },
    {
      "cell_type": "code",
      "source": [
        "# corpus"
      ],
      "metadata": {
        "id": "tj2TIkmUOxLH"
      },
      "execution_count": null,
      "outputs": []
    },
    {
      "cell_type": "markdown",
      "source": [
        "## Create TF-IDF And NGrams"
      ],
      "metadata": {
        "id": "IvDcBvYlQKUr"
      }
    },
    {
      "cell_type": "code",
      "source": [
        "from sklearn.feature_extraction.text import TfidfVectorizer"
      ],
      "metadata": {
        "id": "yU37rJyLQB2I"
      },
      "execution_count": null,
      "outputs": []
    },
    {
      "cell_type": "code",
      "source": [
        "tfidf = TfidfVectorizer(max_features=100)\n",
        "X = tfidf.fit_transform(corpus).toarray()"
      ],
      "metadata": {
        "id": "QGFRjoWOQSFT"
      },
      "execution_count": null,
      "outputs": []
    },
    {
      "cell_type": "code",
      "source": [
        "import numpy as np\n",
        "np.set_printoptions(edgeitems=30, linewidth=100000,\n",
        "    formatter=dict(float=lambda x: \"%.3g\" % x))"
      ],
      "metadata": {
        "id": "sypdjg6pQShd"
      },
      "execution_count": null,
      "outputs": []
    },
    {
      "cell_type": "code",
      "source": [
        "# X"
      ],
      "metadata": {
        "id": "QOBtJw-KQXiv"
      },
      "execution_count": null,
      "outputs": []
    },
    {
      "cell_type": "code",
      "source": [
        "tfidf=TfidfVectorizer(max_features=100,ngram_range=(2,2))\n",
        "X=tfidf.fit_transform(corpus).toarray()"
      ],
      "metadata": {
        "id": "M5GmP4FjQcH6"
      },
      "execution_count": null,
      "outputs": []
    },
    {
      "cell_type": "code",
      "source": [
        "tfidf.vocabulary_"
      ],
      "metadata": {
        "colab": {
          "base_uri": "https://localhost:8080/"
        },
        "id": "mXAB177sQgKn",
        "outputId": "41844946-c1e2-4d87-afa5-6d45fa9f84fe"
      },
      "execution_count": null,
      "outputs": [
        {
          "output_type": "execute_result",
          "data": {
            "text/plain": [
              "{'free entry': np.int64(31),\n",
              " 'claim call': np.int64(15),\n",
              " 'call claim': np.int64(3),\n",
              " 'free call': np.int64(30),\n",
              " 'chance win': np.int64(14),\n",
              " 'txt word': np.int64(89),\n",
              " 'let know': np.int64(52),\n",
              " 'mobile free': np.int64(57),\n",
              " 'please call': np.int64(67),\n",
              " 'lt gt': np.int64(56),\n",
              " 'want go': np.int64(97),\n",
              " 'like lt': np.int64(53),\n",
              " 'sorry call': np.int64(80),\n",
              " 'call later': np.int64(8),\n",
              " 'ur awarded': np.int64(90),\n",
              " 'hi hi': np.int64(45),\n",
              " 'call customer': np.int64(4),\n",
              " 'customer service': np.int64(22),\n",
              " 'guaranteed cash': np.int64(41),\n",
              " 'cash prize': np.int64(13),\n",
              " 'po box': np.int64(69),\n",
              " 'trying contact': np.int64(86),\n",
              " 'draw show': np.int64(27),\n",
              " 'show prize': np.int64(79),\n",
              " 'prize guaranteed': np.int64(73),\n",
              " 'guaranteed call': np.int64(40),\n",
              " 'valid hr': np.int64(95),\n",
              " 'selected receive': np.int64(76),\n",
              " 'private account': np.int64(71),\n",
              " 'account statement': np.int64(0),\n",
              " 'statement show': np.int64(81),\n",
              " 'call identifier': np.int64(5),\n",
              " 'identifier code': np.int64(48),\n",
              " 'code expires': np.int64(19),\n",
              " 'urgent mobile': np.int64(94),\n",
              " 'call landline': np.int64(7),\n",
              " 'wat time': np.int64(98),\n",
              " 'ur mob': np.int64(93),\n",
              " 'gud ni': np.int64(43),\n",
              " 'new year': np.int64(62),\n",
              " 'send stop': np.int64(78),\n",
              " 'co uk': np.int64(18),\n",
              " 'gud mrng': np.int64(42),\n",
              " 'nice day': np.int64(63),\n",
              " 'lt decimal': np.int64(55),\n",
              " 'decimal gt': np.int64(24),\n",
              " 'txt nokia': np.int64(87),\n",
              " 'good morning': np.int64(35),\n",
              " 'ur friend': np.int64(92),\n",
              " 'good night': np.int64(36),\n",
              " 'network min': np.int64(61),\n",
              " 'reply call': np.int64(75),\n",
              " 'last night': np.int64(51),\n",
              " 'camera phone': np.int64(12),\n",
              " 'pick phone': np.int64(66),\n",
              " 'pls send': np.int64(68),\n",
              " 'send message': np.int64(77),\n",
              " 'great day': np.int64(37),\n",
              " 'ur cash': np.int64(91),\n",
              " 'suite land': np.int64(83),\n",
              " 'land row': np.int64(50),\n",
              " 'good afternoon': np.int64(34),\n",
              " 'take care': np.int64(84),\n",
              " 'double min': np.int64(26),\n",
              " 'call mobileupd': np.int64(9),\n",
              " 'call optout': np.int64(10),\n",
              " 'gt min': np.int64(39),\n",
              " 'txt stop': np.int64(88),\n",
              " 'dating service': np.int64(23),\n",
              " 'pobox wq': np.int64(70),\n",
              " 'mobile number': np.int64(58),\n",
              " 'call land': np.int64(6),\n",
              " 'land line': np.int64(49),\n",
              " 'line claim': np.int64(54),\n",
              " 'claim valid': np.int64(17),\n",
              " 'gt lt': np.int64(38),\n",
              " 'hope good': np.int64(47),\n",
              " 'free text': np.int64(32),\n",
              " 'holiday cash': np.int64(46),\n",
              " 'prize claim': np.int64(72),\n",
              " 'nd attempt': np.int64(60),\n",
              " 'attempt contact': np.int64(1),\n",
              " 'claim ur': np.int64(16),\n",
              " 'redeemed point': np.int64(74),\n",
              " 'ok lor': np.int64(64),\n",
              " 'want come': np.int64(96),\n",
              " 'stop text': np.int64(82),\n",
              " 'every week': np.int64(29),\n",
              " 'come home': np.int64(21),\n",
              " 'happy new': np.int64(44),\n",
              " 'national rate': np.int64(59),\n",
              " 'week txt': np.int64(99),\n",
              " 'tell ur': np.int64(85),\n",
              " 'gift voucher': np.int64(33),\n",
              " 'await collection': np.int64(2),\n",
              " 'dont know': np.int64(25),\n",
              " 'come back': np.int64(20),\n",
              " 'call per': np.int64(11),\n",
              " 'per min': np.int64(65),\n",
              " 'dun wan': np.int64(28)}"
            ]
          },
          "metadata": {},
          "execution_count": 30
        }
      ]
    },
    {
      "cell_type": "code",
      "source": [
        "# X"
      ],
      "metadata": {
        "id": "FcAQZjP-Qiqo"
      },
      "execution_count": null,
      "outputs": []
    },
    {
      "cell_type": "code",
      "source": [],
      "metadata": {
        "id": "r4--EOckQnO4"
      },
      "execution_count": null,
      "outputs": []
    },
    {
      "cell_type": "code",
      "source": [],
      "metadata": {
        "id": "djKvsEevRj9D"
      },
      "execution_count": null,
      "outputs": []
    },
    {
      "cell_type": "code",
      "source": [],
      "metadata": {
        "id": "FyAp3IjhRj4K"
      },
      "execution_count": null,
      "outputs": []
    },
    {
      "cell_type": "code",
      "source": [
        "\n",
        "# Load SMS dataset\n",
        "df = pd.read_csv(\"SMSSpamCollection.txt\", sep=\"\\t\", header=None, names=[\"label\", \"message\"])\n",
        "df['label_num'] = df['label'].map({'ham': 0, 'spam': 1})\n",
        "\n",
        "# Define a simple tokenizer to mimic lemmatization (due to environment limitations)\n",
        "def mock_lemmatize(text):\n",
        "    return re.findall(r'\\b[a-z]+\\b', text.lower())\n",
        "\n",
        "# Train/test split\n",
        "X_train, X_test, y_train, y_test = train_test_split(df['message'], df['label_num'], test_size=0.2, random_state=42)\n",
        "\n",
        "# TF-IDF pipeline (with bigrams)\n",
        "tfidf_pipeline = Pipeline([\n",
        "    ('tfidf', TfidfVectorizer(tokenizer=mock_lemmatize, ngram_range=(1, 2))),\n",
        "    ('clf', MultinomialNB())\n",
        "])\n",
        "tfidf_pipeline.fit(X_train, y_train)\n",
        "y_pred_tfidf = tfidf_pipeline.predict(X_test)\n",
        "accuracy_tfidf = accuracy_score(y_test, y_pred_tfidf)\n",
        "\n",
        "# Bag of Words pipeline\n",
        "bow_pipeline = Pipeline([\n",
        "    ('bow', CountVectorizer(tokenizer=mock_lemmatize)),\n",
        "    ('clf', MultinomialNB())\n",
        "])\n",
        "bow_pipeline.fit(X_train, y_train)\n",
        "y_pred_bow = bow_pipeline.predict(X_test)\n",
        "accuracy_bow = accuracy_score(y_test, y_pred_bow)\n",
        "\n",
        "accuracy_tfidf, accuracy_bow\n"
      ],
      "metadata": {
        "colab": {
          "base_uri": "https://localhost:8080/"
        },
        "id": "wh860h_TRjtO",
        "outputId": "09172e84-2c24-4fb4-973d-3083a598cb0b"
      },
      "execution_count": null,
      "outputs": [
        {
          "output_type": "stream",
          "name": "stderr",
          "text": [
            "/usr/local/lib/python3.11/dist-packages/sklearn/feature_extraction/text.py:517: UserWarning: The parameter 'token_pattern' will not be used since 'tokenizer' is not None'\n",
            "  warnings.warn(\n",
            "/usr/local/lib/python3.11/dist-packages/sklearn/feature_extraction/text.py:517: UserWarning: The parameter 'token_pattern' will not be used since 'tokenizer' is not None'\n",
            "  warnings.warn(\n"
          ]
        },
        {
          "output_type": "execute_result",
          "data": {
            "text/plain": [
              "(0.9533632286995516, 0.9901345291479821)"
            ]
          },
          "metadata": {},
          "execution_count": 35
        }
      ]
    },
    {
      "cell_type": "markdown",
      "source": [
        "Bag of Words outperformed the TF-IDF + n-gram model in this case.\n",
        "\n",
        "This could be due to:\n",
        "\n",
        "Simpler models sometimes working better for short, domain-specific messages.\n",
        "\n",
        "TF-IDF down-weighting frequent but informative terms in a small dataset."
      ],
      "metadata": {
        "id": "GW_RrrVSTJk2"
      }
    },
    {
      "cell_type": "code",
      "source": [
        "import matplotlib.pyplot as plt\n",
        "import seaborn as sns\n",
        "from sklearn.metrics import confusion_matrix\n",
        "\n",
        "# Compute confusion matrices\n",
        "conf_matrix_tfidf = confusion_matrix(y_test, y_pred_tfidf)\n",
        "conf_matrix_bow = confusion_matrix(y_test, y_pred_bow)\n",
        "\n",
        "# Plotting function\n",
        "def plot_conf_matrix(cm, title):\n",
        "    plt.figure(figsize=(5, 4))\n",
        "    sns.heatmap(cm, annot=True, fmt='d', cmap='Blues',\n",
        "                xticklabels=[\"Ham\", \"Spam\"],\n",
        "                yticklabels=[\"Ham\", \"Spam\"])\n",
        "    plt.xlabel(\"Predicted Label\")\n",
        "    plt.ylabel(\"True Label\")\n",
        "    plt.title(title)\n",
        "    plt.show()\n",
        "\n",
        "# Visualize both confusion matrices\n",
        "plot_conf_matrix(conf_matrix_tfidf, \"TF-IDF + N-Gram Confusion Matrix\")\n",
        "plot_conf_matrix(conf_matrix_bow, \"Bag of Words Confusion Matrix\")\n"
      ],
      "metadata": {
        "colab": {
          "base_uri": "https://localhost:8080/",
          "height": 803
        },
        "id": "L4rkYNNURkyq",
        "outputId": "b0fd1d35-894a-480c-d8bb-382c89415ed8"
      },
      "execution_count": null,
      "outputs": [
        {
          "output_type": "display_data",
          "data": {
            "text/plain": [
              "<Figure size 500x400 with 2 Axes>"
            ],
            "image/png": "[encoded data removed]"
          },
          "metadata": {}
        },
        {
          "output_type": "display_data",
          "data": {
            "text/plain": [
              "<Figure size 500x400 with 2 Axes>"
            ],
            "image/png": "[encoded data removed]"
          },
          "metadata": {}
        }
      ]
    },
    {
      "cell_type": "markdown",
      "source": [
        "📊 TF-IDF + N-Gram Model\n",
        "Slightly more misclassifications (especially false negatives: spam misclassified as ham)\n",
        "\n",
        "📊 Bag of Words Model\n",
        "Fewer misclassifications\n",
        "\n",
        "Stronger performance across both classes, especially in identifying spam correctly"
      ],
      "metadata": {
        "id": "iKYj2hO9TBmL"
      }
    },
    {
      "cell_type": "code",
      "source": [
        "from sklearn.metrics import classification_report\n",
        "\n",
        "# Classification reports\n",
        "report_tfidf = classification_report(y_test, y_pred_tfidf, target_names=[\"Ham\", \"Spam\"], output_dict=True)\n",
        "report_bow = classification_report(y_test, y_pred_bow, target_names=[\"Ham\", \"Spam\"], output_dict=True)\n",
        "\n",
        "# Convert to DataFrames for easier comparison\n",
        "report_df_tfidf = pd.DataFrame(report_tfidf).transpose()\n",
        "report_df_bow = pd.DataFrame(report_bow).transpose()\n",
        "\n",
        "report_df_tfidf, report_df_bow\n"
      ],
      "metadata": {
        "colab": {
          "base_uri": "https://localhost:8080/"
        },
        "id": "ctojBJCHSfaM",
        "outputId": "0d7d4dda-a863-4022-8ac6-190b0da63cc1"
      },
      "execution_count": null,
      "outputs": [
        {
          "output_type": "execute_result",
          "data": {
            "text/plain": [
              "(              precision    recall  f1-score      support\n",
              " Ham            0.948919  1.000000  0.973790   966.000000\n",
              " Spam           1.000000  0.651007  0.788618   149.000000\n",
              " accuracy       0.953363  0.953363  0.953363     0.953363\n",
              " macro avg      0.974460  0.825503  0.881204  1115.000000\n",
              " weighted avg   0.955745  0.953363  0.949045  1115.000000,\n",
              "               precision    recall  f1-score      support\n",
              " Ham            0.990750  0.997930  0.994327   966.000000\n",
              " Spam           0.985915  0.939597  0.962199   149.000000\n",
              " accuracy       0.990135  0.990135  0.990135     0.990135\n",
              " macro avg      0.988333  0.968763  0.978263  1115.000000\n",
              " weighted avg   0.990104  0.990135  0.990034  1115.000000)"
            ]
          },
          "metadata": {},
          "execution_count": 37
        }
      ]
    },
    {
      "cell_type": "markdown",
      "source": [
        "TF-IDF + N-Gram has perfect precision for spam but low recall → it misses many actual spam messages.\n",
        "\n",
        "Bag of Words performs better overall, especially in recall and F1-score for spam.\n",
        "\n",
        "For spam detection, recall is critical to avoid letting spam slip through — BoW wins here."
      ],
      "metadata": {
        "id": "1UVPjOL9S73w"
      }
    },
    {
      "cell_type": "code",
      "source": [],
      "metadata": {
        "id": "LyZaAcepSwD4"
      },
      "execution_count": null,
      "outputs": []
    }
  ]
}