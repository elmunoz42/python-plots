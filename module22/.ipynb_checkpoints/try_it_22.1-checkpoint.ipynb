{
 "cells": [
  {
   "attachments": {},
   "cell_type": "markdown",
   "metadata": {},
   "source": [
    "### Try-It Activity 22.1: Visualizing Convolutional Layers\n",
    "\n",
    "This try-it offers the opportunity to explore the feature maps learned by a large convolutional network.  Any of the pre-trained networks available in the `keras.applications` or even a network you train yourself using convolutional layers can be interrogated to explore the learned feature maps.  Your goal is to use the documentation example from `keras` [here](https://keras.io/examples/vision/visualizing_what_convnets_learn/) to explore the layers of either a pre-trained convolutional network or one that you train yourself on a dataset of your choosing."
   ]
  },
  {
   "cell_type": "markdown",
   "metadata": {},
   "source": [
    "#### `ResNet50` Example\n",
    "\n",
    "Consult the documentation [here](https://keras.io/examples/vision/visualizing_what_convnets_learn/) to get started visualizing the feature maps from the `ResNet50` model.  Select a different pre-trained architecture from `keras.applications` (list [here](https://keras.io/api/applications/)), and try to replicate the layer visualizations.  Share your results with your classmates.  "
   ]
  },
  {
   "cell_type": "code",
   "execution_count": null,
   "metadata": {},
   "outputs": [],
   "source": []
  },
  {
   "cell_type": "code",
   "execution_count": null,
   "metadata": {},
   "outputs": [],
   "source": []
  },
  {
   "cell_type": "code",
   "execution_count": null,
   "metadata": {},
   "outputs": [],
   "source": []
  },
  {
   "cell_type": "code",
   "execution_count": null,
   "metadata": {},
   "outputs": [],
   "source": []
  }
 ],
 "metadata": {
  "kernelspec": {
   "display_name": "Python 3 (ipykernel)",
   "language": "python",
   "name": "python3"
  },
  "language_info": {
   "codemirror_mode": {
    "name": "ipython",
    "version": 3
   },
   "file_extension": ".py",
   "mimetype": "text/x-python",
   "name": "python",
   "nbconvert_exporter": "python",
   "pygments_lexer": "ipython3",
   "version": "3.11.7"
  }
 },
 "nbformat": 4,
 "nbformat_minor": 4
}
