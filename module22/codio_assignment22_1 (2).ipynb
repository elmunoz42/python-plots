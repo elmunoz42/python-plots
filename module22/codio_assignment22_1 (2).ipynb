{
 "cells": [
  {
   "cell_type": "markdown",
   "metadata": {
    "deletable": false,
    "editable": false,
    "nbgrader": {
     "cell_type": "markdown",
     "checksum": "a9a92f774ba70d8e96dc552ac2e8c4f2",
     "grade": false,
     "grade_id": "cell-243c49e5aa3b4b42",
     "locked": true,
     "schema_version": 3,
     "solution": false,
     "task": false
    }
   },
   "source": [
    "### Required Codio Assignment 22.1: Basic Neural Net for Image Data\n",
    "\n",
    "**Expected Time = 60 minutes**\n",
    "\n",
    "**Total Points = 30**\n",
    "\n",
    "This activity focuses on using a basic neural net architecture to predict handwritten digit labels.  Using the basic architecture you will also explore data augmentation using simple transformations of the images to create new data for the network.\n",
    "\n",
    "#### Index\n",
    "\n",
    "- [Problem 1](#-Problem-1)\n",
    "- [Problem 2](#-Problem-2)\n",
    "- [Problem 3](#-Problem-3)\n",
    "\n",
    "\n",
    "Run the code cell below to import the necessary libraries."
   ]
  },
  {
   "cell_type": "code",
   "execution_count": 2,
   "metadata": {},
   "outputs": [
    {
     "name": "stderr",
     "output_type": "stream",
     "text": [
      "2025-05-02 04:51:39.522770: W tensorflow/stream_executor/platform/default/dso_loader.cc:64] Could not load dynamic library 'libcudart.so.11.0'; dlerror: libcudart.so.11.0: cannot open shared object file: No such file or directory\n",
      "2025-05-02 04:51:39.522851: I tensorflow/stream_executor/cuda/cudart_stub.cc:29] Ignore above cudart dlerror if you do not have a GPU set up on your machine.\n"
     ]
    }
   ],
   "source": [
    "import numpy as np\n",
    "import pandas as pd\n",
    "import matplotlib.pyplot as plt\n",
    "import tensorflow as tf\n",
    "import warnings\n",
    "\n",
    "\n",
    "from tensorflow.keras.models import Sequential\n",
    "from tensorflow.keras.layers import Flatten, Dense\n",
    "from tensorflow.keras.utils import to_categorical\n",
    "from tensorflow.keras.datasets import mnist\n",
    "\n",
    "warnings.filterwarnings('ignore')"
   ]
  },
  {
   "cell_type": "markdown",
   "metadata": {
    "deletable": false,
    "editable": false,
    "nbgrader": {
     "cell_type": "markdown",
     "checksum": "38c6ff567753214aeffc5b9180bd2533",
     "grade": false,
     "grade_id": "cell-387a69cad332020a",
     "locked": true,
     "schema_version": 3,
     "solution": false,
     "task": false
    }
   },
   "source": [
    "### The Dataset\n",
    "\n",
    "You will be using the `mnist` dataset which is included in the `datasets` module of the `keras` library. This dataset contains observations that are 28 x 28 pixel images of handwritten digits.  The labels correspond to the actual digit, forming a 10 category classification problem for you.  Below, the data is loaded and reshaped in anticipation of the neural network architecture."
   ]
  },
  {
   "cell_type": "code",
   "execution_count": 3,
   "metadata": {},
   "outputs": [],
   "source": [
    "(X_train, y_train), (X_test, y_test) = mnist.load_data()\n",
    "X_train = X_train.reshape(X_train.shape[0], 28, 28, 1)\n",
    "X_test = X_test.reshape(X_test.shape[0], 28, 28, 1)\n",
    "Y_train = to_categorical(y_train)\n",
    "Y_test = to_categorical(y_test)"
   ]
  },
  {
   "cell_type": "code",
   "execution_count": 4,
   "metadata": {},
   "outputs": [
    {
     "data": {
      "image/png": "[encoded data removed]",
      "text/plain": [
       "<Figure size 432x288 with 1 Axes>"
      ]
     },
     "metadata": {
      "needs_background": "light"
     },
     "output_type": "display_data"
    }
   ],
   "source": [
    "plt.imshow(X_train[0])\n",
    "plt.title(f'Image of a handwritten {y_train[0]}');"
   ]
  },
  {
   "cell_type": "markdown",
   "metadata": {
    "deletable": false,
    "editable": false,
    "nbgrader": {
     "cell_type": "markdown",
     "checksum": "ec2d0a9859ab871af1e464a2a1d63daa",
     "grade": false,
     "grade_id": "cell-53f124e29bcf4258",
     "locked": true,
     "schema_version": 3,
     "solution": false,
     "task": false
    }
   },
   "source": [
    "[Back to top](#-Index)\n",
    "\n",
    "### Problem 1\n",
    "\n",
    "#### Using a Convolutional Architecture\n",
    "\n",
    "**10 Points**\n",
    "\n",
    "Below, use the TensorFlow function `Sequential()` to build a convolutional neural network using the following functions and configurations:\n",
    "\n",
    "- Use `Flatten` to flatten the images\n",
    "- Use a single `Dense` hidden layer with 60 nodes and a `relu` activation\n",
    "- Use a single `Dense` hidden layer with 10 nodes and a `softmax` activiation.\n",
    "\n",
    "Assign this network to the variable `model`.\n",
    "\n",
    "Compile `model` using `categorical_crossentropy` as your `loss` and  `accuracy` as your `metric`.\n",
    "\n",
    "Fit your model to the training data `X_train` and ` Y_train` including `X_test, Y_test` as your validation data. In this step, set the variable `verbose` equal to `0` and the number of `epochs` equal to 2.\n",
    "\n",
    "Assign the fit model to the `history` variable below.\n",
    "\n",
    "NOTE: This question is computationally expensive, so please be patient with the processing. It may take a few minutes based on your computing power. "
   ]
  },
  {
   "cell_type": "code",
   "execution_count": 5,
   "metadata": {},
   "outputs": [],
   "source": [
    "# Sequential?\n",
    "# Dense?"
   ]
  },
  {
   "cell_type": "code",
   "execution_count": 7,
   "metadata": {
    "deletable": false,
    "nbgrader": {
     "cell_type": "code",
     "checksum": "e94ac9391f78245c5ad248de6a5f395a",
     "grade": false,
     "grade_id": "cell-4632853de70a640a",
     "locked": false,
     "schema_version": 3,
     "solution": true,
     "task": false
    }
   },
   "outputs": [
    {
     "name": "stdout",
     "output_type": "stream",
     "text": [
      "0.9027500152587891\n",
      "0.9046000242233276\n"
     ]
    }
   ],
   "source": [
    "### GRADED\n",
    "tf.random.set_seed(42)\n",
    "model = Sequential()\n",
    "model.add(tf.keras.layers.Flatten(input_shape=(28, 28, 1)))\n",
    "model.add(tf.keras.layers.Dense(60,activation='relu'))\n",
    "model.add(tf.keras.layers.Dense(10,activation='softmax'))\n",
    "model.compile(metrics=['accuracy'], loss='categorical_crossentropy')\n",
    "history = model.fit(X_train, Y_train, epochs=2, validation_data=(X_test, Y_test), verbose=0)\n",
    "\n",
    "### ANSWER CHECK\n",
    "print(history.history['accuracy'][-1])\n",
    "print(history.history['val_accuracy'][-1])"
   ]
  },
  {
   "cell_type": "code",
   "execution_count": null,
   "metadata": {
    "deletable": false,
    "editable": false,
    "nbgrader": {
     "cell_type": "code",
     "checksum": "2a461bb127038a4088f4108f130b0164",
     "grade": true,
     "grade_id": "cell-56ce56b0129ae435",
     "locked": true,
     "points": 10,
     "schema_version": 3,
     "solution": false,
     "task": false
    }
   },
   "outputs": [],
   "source": []
  },
  {
   "cell_type": "markdown",
   "metadata": {
    "deletable": false,
    "editable": false,
    "nbgrader": {
     "cell_type": "markdown",
     "checksum": "4efd213011a1d4b84ababb6ccb5d68e4",
     "grade": false,
     "grade_id": "cell-db6ba3091836a103",
     "locked": true,
     "schema_version": 3,
     "solution": false,
     "task": false
    }
   },
   "source": [
    "[Back to top](#-Index)\n",
    "\n",
    "### Problem 2\n",
    "\n",
    "#### Data Augmentation\n",
    "\n",
    "**10 Points**\n",
    "\n",
    "One way to attempt a model improvement is to create new inputs to the network based on transformed versions of the original data.  \n",
    "\n",
    "\n",
    "In the code cell below, use the `ImageDataGenerator` function from `keras` with the arguments `horizontal_flip` and `vertical_flip` both equal to `True` to create a new version of the train and test data that performs both a horizontal and vertical flip of the images. Assign this new object to the variable `gen` below.  \n",
    "\n",
    "Perform the horizontal and vertical flips on the training sets by using the `.flow` method on `gen` with arguments `X_train` and `y_train`. Assign this new object to the variable `train_gen`.\n",
    "\n",
    "Perform the horizontal and vertical flips on the testing sets by using the `.flow` method on `gen` with arguments `X_test` and `y_test`. Assign this new object to the variable `test_gen`."
   ]
  },
  {
   "cell_type": "code",
   "execution_count": 9,
   "metadata": {},
   "outputs": [],
   "source": [
    "from tensorflow.keras.preprocessing.image import ImageDataGenerator\n",
    "ImageDataGenerator.flow?"
   ]
  },
  {
   "cell_type": "code",
   "execution_count": 10,
   "metadata": {
    "deletable": false,
    "nbgrader": {
     "cell_type": "code",
     "checksum": "c533aa49b3606f938a515049a352e980",
     "grade": false,
     "grade_id": "cell-eefcd1f11f2f6718",
     "locked": false,
     "schema_version": 3,
     "solution": true,
     "task": false
    }
   },
   "outputs": [
    {
     "data": {
      "image/png": "[encoded data removed]",
      "text/plain": [
       "<Figure size 1440x1008 with 36 Axes>"
      ]
     },
     "metadata": {
      "needs_background": "light"
     },
     "output_type": "display_data"
    }
   ],
   "source": [
    "### GRADED\n",
    "tf.random.set_seed(42)\n",
    "gen = ImageDataGenerator(horizontal_flip=True, vertical_flip=True)\n",
    "train_gen = gen.flow(X_train, y_train)\n",
    "test_gen = gen.flow(X_test,y_test)\n",
    "\n",
    "### ANSWER CHECK\n",
    "##UNCOMMENT TO VISUALIZE\n",
    "fig, ax = plt.subplots(6, 6, figsize = (20, 14))\n",
    "for i in range(6):\n",
    "    for j in range(6):\n",
    "        pic = train_gen.next()\n",
    "        ax[i, j].imshow(pic[0][0].reshape(28, 28))\n",
    "plt.suptitle(\"Augmented and Original Digit Data\", fontsize = 30);"
   ]
  },
  {
   "cell_type": "code",
   "execution_count": null,
   "metadata": {
    "deletable": false,
    "editable": false,
    "nbgrader": {
     "cell_type": "code",
     "checksum": "a1c4dec418db31fd33375ed61ca678fa",
     "grade": true,
     "grade_id": "cell-a843e7642b5e45ec",
     "locked": true,
     "points": 10,
     "schema_version": 3,
     "solution": false,
     "task": false
    }
   },
   "outputs": [],
   "source": []
  },
  {
   "cell_type": "markdown",
   "metadata": {
    "deletable": false,
    "editable": false,
    "nbgrader": {
     "cell_type": "markdown",
     "checksum": "1f3f6b4569d70ed1c893714250668e19",
     "grade": false,
     "grade_id": "cell-1a677cd10ec66bca",
     "locked": true,
     "schema_version": 3,
     "solution": false,
     "task": false
    }
   },
   "source": [
    "[Back to top](#-Index)\n",
    "\n",
    "### Problem 3\n",
    "\n",
    "#### Training a model on the augmented data\n",
    "\n",
    "**10 Points**\n",
    "\n",
    "Now, your aim is to compare the performance of the convolutional architecture on the augmented version of the data.  You can replace `X_train` and `X_test` in your model fitting with `train_gen` and `test_gen`.  \n",
    "\n",
    "Create a new model, `aug_model`, with the identical architecture to the first network in **Problem 1** and compile it using the same settings as in **Problem 1**.\n",
    "\n",
    "This time, fit your model to the data `train_gen` defined in **Problem 2** and use `test_gen` as `validation_data`. In this step, set the variable `verbose` equal to `0` and the number of `epochs` equal to 2.\n",
    "\n",
    "Assign the fit model to the `augmented_history` variable below.\n",
    "\n",
    "NOTE: This question is computationally expensive, so please be patient with the processing. It may take a few minutes based on your computing power.\n"
   ]
  },
  {
   "cell_type": "code",
   "execution_count": null,
   "metadata": {},
   "outputs": [],
   "source": []
  },
  {
   "cell_type": "code",
   "execution_count": 20,
   "metadata": {
    "deletable": false,
    "nbgrader": {
     "cell_type": "code",
     "checksum": "5ea90bd4e0051a64dedbf0f685e0b2bb",
     "grade": false,
     "grade_id": "cell-2058f00cf54b6027",
     "locked": false,
     "schema_version": 3,
     "solution": true,
     "task": false
    }
   },
   "outputs": [
    {
     "name": "stdout",
     "output_type": "stream",
     "text": [
      "0.5482666492462158\n",
      "0.5602999925613403\n"
     ]
    }
   ],
   "source": [
    "### GRADED\n",
    "tf.random.set_seed(42)\n",
    "aug_model = Sequential()\n",
    "aug_model.add(tf.keras.layers.Flatten(input_shape=(28, 28, 1)))\n",
    "aug_model.add(tf.keras.layers.Dense(60, activation='relu'))\n",
    "aug_model.add(tf.keras.layers.Dense(10, activation='softmax'))\n",
    "aug_model.compile(metrics=['accuracy'], loss='categorical_crossentropy')\n",
    "\n",
    "# Update your generators to use the one-hot encoded labels\n",
    "gen = ImageDataGenerator(horizontal_flip=True, vertical_flip=True)\n",
    "train_gen = gen.flow(X_train, Y_train)  # Use Y_train instead of y_train\n",
    "test_gen = gen.flow(X_test, Y_test)     # Use Y_test instead of y_test\n",
    "\n",
    "augmented_history = aug_model.fit(train_gen, epochs=2, validation_data=test_gen, verbose=0)\n",
    "\n",
    "### ANSWER CHECK\n",
    "print(augmented_history.history['accuracy'][-1])\n",
    "print(augmented_history.history['val_accuracy'][-1])"
   ]
  },
  {
   "cell_type": "code",
   "execution_count": null,
   "metadata": {
    "deletable": false,
    "editable": false,
    "nbgrader": {
     "cell_type": "code",
     "checksum": "ab2800b76879e5369d25b1d6ccf2d055",
     "grade": true,
     "grade_id": "cell-898cddcbb7c5af8c",
     "locked": true,
     "points": 10,
     "schema_version": 3,
     "solution": false,
     "task": false
    }
   },
   "outputs": [],
   "source": []
  },
  {
   "cell_type": "markdown",
   "metadata": {
    "deletable": false,
    "editable": false,
    "nbgrader": {
     "cell_type": "markdown",
     "checksum": "5e73ab37214426e0fc3976770b4dcafa",
     "grade": false,
     "grade_id": "cell-4e5311135bb2467c",
     "locked": true,
     "schema_version": 3,
     "solution": false,
     "task": false
    }
   },
   "source": [
    "Note the performance difference and think about why it either improved or declined after using the augmented data. "
   ]
  },
  {
   "cell_type": "markdown",
   "metadata": {},
   "source": [
    "## NOTE:\n",
    "\n",
    "The performence of this augmented model is much worse than the one in problem 1 why would that be?\n",
    "\n",
    "The performance decline we observing in Problem 3 (with the augmented data) compared to Problem 1 is interesting but not entirely unexpected. \n",
    "\n",
    "Let me explain the likely reasons:\n",
    "Why Data Augmentation Performed Worse in This Case\n",
    "\n",
    "Inappropriate Transformations for MNIST Digits\n",
    "The augmentation techniques you used (horizontal and vertical flipping) actually make digit recognition more difficult. When you flip digits horizontally or vertically:\n",
    "\n",
    "Some digits become unrecognizable or ambiguous (a flipped \"6\" might look like nothing familiar)\n",
    "Some digits transform into other digits (a flipped \"9\" looks like \"6\")\n",
    "Most importantly, these transformations create examples that don't exist in real-world handwritten digits\n",
    "\n",
    "\n",
    "Domain Knowledge Violation\n",
    "MNIST is a dataset where the orientation of the image carries critical meaning. Unlike general object recognition where an upside-down cat is still a cat, an upside-down \"6\" is not a valid representation of the digit \"6\" in most contexts.\n",
    "Training Confusion\n",
    "The model in Problem 3 is being trained on data that contradicts what it will be tested on. For example, it might learn that both an image of \"6\" and a flipped \"9\" should be classified as \"6\", which creates conflicting patterns that degrade performance.\n",
    "\n",
    "Better Augmentation Approaches for MNIST\n",
    "For digit recognition, more appropriate augmentation techniques would be:\n",
    "\n",
    "Small rotations (±10-15 degrees)\n",
    "Slight translations (shifting the digit within the image)\n",
    "Minor scaling (making the digit slightly larger or smaller)\n",
    "Adding small amounts of noise\n",
    "Slight elasticity/distortion (mimicking natural handwriting variation)\n",
    "\n",
    "These transformations preserve the essential characteristics of digits while still creating useful variation.\n",
    "Educational Purpose\n",
    "This exercise actually highlights an important lesson in machine learning: not all data augmentation techniques are appropriate for all tasks. Domain knowledge matters significantly when choosing augmentation methods. The assignment likely included this to demonstrate this very point - that blindly applying augmentation can sometimes hurt performance if the transformations don't respect the inherent constraints of the data.\n",
    "For handwritten digit recognition, flipping destroys the semantic meaning of the digits, illustrating why considering the nature of your data is crucial when designing augmentation strategies."
   ]
  },
  {
   "cell_type": "code",
   "execution_count": null,
   "metadata": {},
   "outputs": [],
   "source": []
  },
  {
   "cell_type": "code",
   "execution_count": null,
   "metadata": {},
   "outputs": [],
   "source": []
  }
 ],
 "metadata": {
  "kernelspec": {
   "display_name": "Python 3 (ipykernel)",
   "language": "python",
   "name": "python3"
  },
  "language_info": {
   "codemirror_mode": {
    "name": "ipython",
    "version": 3
   },
   "file_extension": ".py",
   "mimetype": "text/x-python",
   "name": "python",
   "nbconvert_exporter": "python",
   "pygments_lexer": "ipython3",
   "version": "3.9.11"
  },
  "widgets": {
   "application/vnd.jupyter.widget-state+json": {
    "state": {},
    "version_major": 2,
    "version_minor": 0
   }
  }
 },
 "nbformat": 4,
 "nbformat_minor": 4
}
