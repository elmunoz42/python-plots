{
 "cells": [
  {
   "attachments": {},
   "cell_type": "markdown",
   "metadata": {},
   "source": [
    "### Try-It Activity 22.2: Sequential Data Models with Keras [2:00:00]\n",
    "\n",
    "This try-it focuses on using `keras` to build models on sequential data.  This could either be sequential numeric data *or* you can consider text as sequential data.  `keras` contains both preprocessing tools similar to that of the `ImageDataGenerator` for time series and text data.  There are also various layer architectures to choose from including the `LSTM`, `GRU`, and even the `Conv1D`.  Below, you are to select a time series dataset using the `pandas.datareader` functionality or locate a text dataset from an external source to build the network."
   ]
  },
  {
   "cell_type": "markdown",
   "metadata": {},
   "source": [
    "#### Option 1: Time Series\n",
    "\n",
    "Use `pandas.datareader` to locate a ticker and be sure to format the data correctly.  Here, the idea is that the last few days of pricing data could be used to predict the following days price.  Note that you do not want to use the entire series, instead simply the previous few time steps.  `keras` has a utility for taking a typical time series dataset and converting it into stacks of *lags* or previous days data (docs [here](https://keras.io/api/preprocessing/timeseries/)).  You are to load the data and use the preprocessor to present the data to the network.  Your network architecture should use any of the sequential architectures to perform a binary classification problem to predict whether the ticker will go up or down on a given day.  \n",
    "\n",
    "\n",
    "**Note**: The sequential architecture is meant to refer to the hidden layers rather than the `Sequential` model object in `keras`.\n",
    "\n",
    "Potential Sequential Hidden Layers:\n",
    "\n",
    "- `SimpleRNN`\n",
    "- `LSTM`\n",
    "- `GRU`\n",
    "- `Conv1D`"
   ]
  },
  {
   "cell_type": "code",
   "execution_count": null,
   "metadata": {},
   "outputs": [],
   "source": []
  },
  {
   "cell_type": "code",
   "execution_count": null,
   "metadata": {},
   "outputs": [],
   "source": []
  },
  {
   "cell_type": "code",
   "execution_count": null,
   "metadata": {},
   "outputs": [],
   "source": []
  },
  {
   "cell_type": "code",
   "execution_count": null,
   "metadata": {},
   "outputs": [],
   "source": []
  },
  {
   "cell_type": "markdown",
   "metadata": {},
   "source": [
    "#### Option 2: Text Data\n",
    "\n",
    "Locate and identify a basic text classification dataset.  Explore the preprocessing tools from `keras` -- likely the `Tokenizer` and `pad_sequences` functions will be helpful here. ([docs](https://keras.io/api/preprocessing/text/))  Prepare you text data as sequences to present to the network, and use a sequential architecture for the hidden layers.  Build a classification model and compare the performance using a sequential hidden layer architecure compared to a conventional `Dense` layer architecture. \n",
    "\n",
    "**Note**: The sequential architecture is meant to refer to the hidden layers rather than the `Sequential` model object in `keras`.\n",
    "\n",
    "Potential Sequential Hidden Layers:\n",
    "\n",
    "- `SimpleRNN`\n",
    "- `LSTM`\n",
    "- `GRU`\n",
    "- `Conv1D`"
   ]
  },
  {
   "cell_type": "code",
   "execution_count": null,
   "metadata": {},
   "outputs": [],
   "source": []
  },
  {
   "cell_type": "code",
   "execution_count": null,
   "metadata": {},
   "outputs": [],
   "source": []
  },
  {
   "cell_type": "code",
   "execution_count": null,
   "metadata": {},
   "outputs": [],
   "source": []
  },
  {
   "cell_type": "code",
   "execution_count": null,
   "metadata": {},
   "outputs": [],
   "source": []
  },
  {
   "cell_type": "code",
   "execution_count": null,
   "metadata": {},
   "outputs": [],
   "source": []
  },
  {
   "cell_type": "code",
   "execution_count": null,
   "metadata": {},
   "outputs": [],
   "source": []
  }
 ],
 "metadata": {
  "kernelspec": {
   "display_name": "Python 3 (ipykernel)",
   "language": "python",
   "name": "python3"
  },
  "language_info": {
   "codemirror_mode": {
    "name": "ipython",
    "version": 3
   },
   "file_extension": ".py",
   "mimetype": "text/x-python",
   "name": "python",
   "nbconvert_exporter": "python",
   "pygments_lexer": "ipython3",
   "version": "3.11.7"
  }
 },
 "nbformat": 4,
 "nbformat_minor": 4
}
