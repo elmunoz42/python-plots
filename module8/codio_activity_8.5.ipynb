{
 "cells": [
  {
   "cell_type": "markdown",
   "metadata": {
    "deletable": false,
    "editable": false,
    "nbgrader": {
     "cell_type": "markdown",
     "checksum": "77c453c467cf3c57bd781b97b754f647",
     "grade": false,
     "grade_id": "cell-64c2053c73e13ffb",
     "locked": true,
     "schema_version": 3,
     "solution": false
    }
   },
   "source": [
    "### Codio Activity 8.5: Comparing Complexity and Variance\n",
    "\n",
    "**Expected Time: 60 Minutes**\n",
    "\n",
    "**Total Points: 35**\n",
    "\n",
    "In this activity, you will explore the effect of model complexity on the variance in predictions.  Continuing with the automotive data, you will build models on a subset of 10 vehicles.  You will compare the model error when used on the entire dataset, and investigate how variance changes with model complexity.\n",
    "\n",
    "#### Index:\n",
    "\n",
    "- [Problem 1](#Problem-1)\n",
    "- [Problem 2](#Problem-2)\n",
    "- [Problem 3](#Problem-3)\n",
    "- [Problem 4](#Problem-4)\n"
   ]
  },
  {
   "cell_type": "code",
   "execution_count": 5,
   "metadata": {
    "deletable": false,
    "editable": false,
    "nbgrader": {
     "cell_type": "code",
     "checksum": "fc3191833f940d789835416fb44eab33",
     "grade": false,
     "grade_id": "cell-3f3018c76c6cef71",
     "locked": true,
     "schema_version": 3,
     "solution": false
    }
   },
   "outputs": [],
   "source": [
    "import numpy as np\n",
    "import pandas as pd\n",
    "from sklearn.linear_model import LinearRegression\n",
    "from sklearn.preprocessing import PolynomialFeatures\n",
    "from sklearn.pipeline import Pipeline\n",
    "from sklearn.metrics import mean_squared_error\n",
    "import plotly.express as px"
   ]
  },
  {
   "cell_type": "code",
   "execution_count": 6,
   "metadata": {
    "deletable": false,
    "editable": false,
    "nbgrader": {
     "cell_type": "code",
     "checksum": "bd58e75527ae3b41fb8d29fe73ae8e0a",
     "grade": false,
     "grade_id": "cell-73ac6816c6e7d20b",
     "locked": true,
     "schema_version": 3,
     "solution": false
    }
   },
   "outputs": [],
   "source": [
    "auto = pd.read_csv('data/auto.csv')"
   ]
  },
  {
   "cell_type": "code",
   "execution_count": 7,
   "metadata": {
    "deletable": false,
    "editable": false,
    "nbgrader": {
     "cell_type": "code",
     "checksum": "4edee7d26d390b26f5bb75a1e8fef8e7",
     "grade": false,
     "grade_id": "cell-bef974eedda6777e",
     "locked": true,
     "schema_version": 3,
     "solution": false
    }
   },
   "outputs": [
    {
     "data": {
      "text/html": [
       "<div>\n",
       "<style scoped>\n",
       "    .dataframe tbody tr th:only-of-type {\n",
       "        vertical-align: middle;\n",
       "    }\n",
       "\n",
       "    .dataframe tbody tr th {\n",
       "        vertical-align: top;\n",
       "    }\n",
       "\n",
       "    .dataframe thead th {\n",
       "        text-align: right;\n",
       "    }\n",
       "</style>\n",
       "<table border=\"1\" class=\"dataframe\">\n",
       "  <thead>\n",
       "    <tr style=\"text-align: right;\">\n",
       "      <th></th>\n",
       "      <th>mpg</th>\n",
       "      <th>cylinders</th>\n",
       "      <th>displacement</th>\n",
       "      <th>horsepower</th>\n",
       "      <th>weight</th>\n",
       "      <th>acceleration</th>\n",
       "      <th>year</th>\n",
       "      <th>origin</th>\n",
       "      <th>name</th>\n",
       "    </tr>\n",
       "  </thead>\n",
       "  <tbody>\n",
       "    <tr>\n",
       "      <th>0</th>\n",
       "      <td>18.0</td>\n",
       "      <td>8</td>\n",
       "      <td>307.0</td>\n",
       "      <td>130.0</td>\n",
       "      <td>3504</td>\n",
       "      <td>12.0</td>\n",
       "      <td>70</td>\n",
       "      <td>1</td>\n",
       "      <td>chevrolet chevelle malibu</td>\n",
       "    </tr>\n",
       "    <tr>\n",
       "      <th>1</th>\n",
       "      <td>15.0</td>\n",
       "      <td>8</td>\n",
       "      <td>350.0</td>\n",
       "      <td>165.0</td>\n",
       "      <td>3693</td>\n",
       "      <td>11.5</td>\n",
       "      <td>70</td>\n",
       "      <td>1</td>\n",
       "      <td>buick skylark 320</td>\n",
       "    </tr>\n",
       "    <tr>\n",
       "      <th>2</th>\n",
       "      <td>18.0</td>\n",
       "      <td>8</td>\n",
       "      <td>318.0</td>\n",
       "      <td>150.0</td>\n",
       "      <td>3436</td>\n",
       "      <td>11.0</td>\n",
       "      <td>70</td>\n",
       "      <td>1</td>\n",
       "      <td>plymouth satellite</td>\n",
       "    </tr>\n",
       "    <tr>\n",
       "      <th>3</th>\n",
       "      <td>16.0</td>\n",
       "      <td>8</td>\n",
       "      <td>304.0</td>\n",
       "      <td>150.0</td>\n",
       "      <td>3433</td>\n",
       "      <td>12.0</td>\n",
       "      <td>70</td>\n",
       "      <td>1</td>\n",
       "      <td>amc rebel sst</td>\n",
       "    </tr>\n",
       "    <tr>\n",
       "      <th>4</th>\n",
       "      <td>17.0</td>\n",
       "      <td>8</td>\n",
       "      <td>302.0</td>\n",
       "      <td>140.0</td>\n",
       "      <td>3449</td>\n",
       "      <td>10.5</td>\n",
       "      <td>70</td>\n",
       "      <td>1</td>\n",
       "      <td>ford torino</td>\n",
       "    </tr>\n",
       "  </tbody>\n",
       "</table>\n",
       "</div>"
      ],
      "text/plain": [
       "    mpg  cylinders  displacement  horsepower  weight  acceleration  year  \\\n",
       "0  18.0          8         307.0       130.0    3504          12.0    70   \n",
       "1  15.0          8         350.0       165.0    3693          11.5    70   \n",
       "2  18.0          8         318.0       150.0    3436          11.0    70   \n",
       "3  16.0          8         304.0       150.0    3433          12.0    70   \n",
       "4  17.0          8         302.0       140.0    3449          10.5    70   \n",
       "\n",
       "   origin                       name  \n",
       "0       1  chevrolet chevelle malibu  \n",
       "1       1          buick skylark 320  \n",
       "2       1         plymouth satellite  \n",
       "3       1              amc rebel sst  \n",
       "4       1                ford torino  "
      ]
     },
     "execution_count": 7,
     "metadata": {},
     "output_type": "execute_result"
    }
   ],
   "source": [
    "auto.head()"
   ]
  },
  {
   "cell_type": "markdown",
   "metadata": {
    "deletable": false,
    "editable": false,
    "nbgrader": {
     "cell_type": "markdown",
     "checksum": "442b18269ea1568e9cc59ed6f63e6b5c",
     "grade": false,
     "grade_id": "cell-f93ddb19e0524747",
     "locked": true,
     "schema_version": 3,
     "solution": false
    }
   },
   "source": [
    "### The Sample\n",
    "\n",
    "Below, a sample of ten vehicles from the data is extracted.  These data are what will form our **training** data.  The data is subsequently split into `X_train` and `y_train`.  You are to use this smaller dataset to build your models on, and explore their performance using the entire dataset."
   ]
  },
  {
   "cell_type": "code",
   "execution_count": 8,
   "metadata": {
    "deletable": false,
    "editable": false,
    "nbgrader": {
     "cell_type": "code",
     "checksum": "2ad47fa94904271c916007a84d203be3",
     "grade": false,
     "grade_id": "cell-f70c1ab76af73290",
     "locked": true,
     "schema_version": 3,
     "solution": false
    }
   },
   "outputs": [],
   "source": [
    "X = auto.loc[:,['horsepower']]\n",
    "y = auto['mpg']\n",
    "sample = auto.sample(10, random_state = 22)\n",
    "X_train = sample.loc[:, ['horsepower']]\n",
    "y_train = sample['mpg']"
   ]
  },
  {
   "cell_type": "code",
   "execution_count": 9,
   "metadata": {
    "deletable": false,
    "editable": false,
    "nbgrader": {
     "cell_type": "code",
     "checksum": "52c2a5cfd0a7fcfdf92565ea55e5df5e",
     "grade": false,
     "grade_id": "cell-cf216c968b8942cf",
     "locked": true,
     "schema_version": 3,
     "solution": false
    }
   },
   "outputs": [
    {
     "data": {
      "text/html": [
       "<div>\n",
       "<style scoped>\n",
       "    .dataframe tbody tr th:only-of-type {\n",
       "        vertical-align: middle;\n",
       "    }\n",
       "\n",
       "    .dataframe tbody tr th {\n",
       "        vertical-align: top;\n",
       "    }\n",
       "\n",
       "    .dataframe thead th {\n",
       "        text-align: right;\n",
       "    }\n",
       "</style>\n",
       "<table border=\"1\" class=\"dataframe\">\n",
       "  <thead>\n",
       "    <tr style=\"text-align: right;\">\n",
       "      <th></th>\n",
       "      <th>horsepower</th>\n",
       "    </tr>\n",
       "  </thead>\n",
       "  <tbody>\n",
       "    <tr>\n",
       "      <th>280</th>\n",
       "      <td>88.0</td>\n",
       "    </tr>\n",
       "    <tr>\n",
       "      <th>57</th>\n",
       "      <td>80.0</td>\n",
       "    </tr>\n",
       "    <tr>\n",
       "      <th>46</th>\n",
       "      <td>100.0</td>\n",
       "    </tr>\n",
       "    <tr>\n",
       "      <th>223</th>\n",
       "      <td>110.0</td>\n",
       "    </tr>\n",
       "    <tr>\n",
       "      <th>303</th>\n",
       "      <td>90.0</td>\n",
       "    </tr>\n",
       "    <tr>\n",
       "      <th>73</th>\n",
       "      <td>140.0</td>\n",
       "    </tr>\n",
       "    <tr>\n",
       "      <th>98</th>\n",
       "      <td>100.0</td>\n",
       "    </tr>\n",
       "    <tr>\n",
       "      <th>250</th>\n",
       "      <td>105.0</td>\n",
       "    </tr>\n",
       "    <tr>\n",
       "      <th>254</th>\n",
       "      <td>100.0</td>\n",
       "    </tr>\n",
       "    <tr>\n",
       "      <th>337</th>\n",
       "      <td>110.0</td>\n",
       "    </tr>\n",
       "  </tbody>\n",
       "</table>\n",
       "</div>"
      ],
      "text/plain": [
       "     horsepower\n",
       "280        88.0\n",
       "57         80.0\n",
       "46        100.0\n",
       "223       110.0\n",
       "303        90.0\n",
       "73        140.0\n",
       "98        100.0\n",
       "250       105.0\n",
       "254       100.0\n",
       "337       110.0"
      ]
     },
     "execution_count": 9,
     "metadata": {},
     "output_type": "execute_result"
    }
   ],
   "source": [
    "X_train"
   ]
  },
  {
   "cell_type": "code",
   "execution_count": 10,
   "metadata": {
    "deletable": false,
    "editable": false,
    "nbgrader": {
     "cell_type": "code",
     "checksum": "af881d0a1e8e65f26a2af6bcae072b51",
     "grade": false,
     "grade_id": "cell-2fa050a0a64e7c6c",
     "locked": true,
     "schema_version": 3,
     "solution": false
    }
   },
   "outputs": [
    {
     "data": {
      "text/plain": [
       "280    22.3\n",
       "57     25.0\n",
       "46     19.0\n",
       "223    17.5\n",
       "303    28.4\n",
       "73     13.0\n",
       "98     18.0\n",
       "250    19.2\n",
       "254    20.5\n",
       "337    23.5\n",
       "Name: mpg, dtype: float64"
      ]
     },
     "execution_count": 10,
     "metadata": {},
     "output_type": "execute_result"
    }
   ],
   "source": [
    "y_train"
   ]
  },
  {
   "cell_type": "code",
   "execution_count": 11,
   "metadata": {
    "deletable": false,
    "editable": false,
    "nbgrader": {
     "cell_type": "code",
     "checksum": "9522ae88d5519bf43271ee9ccf9d0513",
     "grade": false,
     "grade_id": "cell-3fff97584257ebdb",
     "locked": true,
     "schema_version": 3,
     "solution": false
    }
   },
   "outputs": [
    {
     "data": {
      "text/plain": [
       "(392, 1)"
      ]
     },
     "execution_count": 11,
     "metadata": {},
     "output_type": "execute_result"
    }
   ],
   "source": [
    "X.shape"
   ]
  },
  {
   "cell_type": "markdown",
   "metadata": {
    "deletable": false,
    "editable": false,
    "nbgrader": {
     "cell_type": "markdown",
     "checksum": "5a932b880fc6aca1305d26ad14054808",
     "grade": false,
     "grade_id": "cell-c065614594f006da",
     "locked": true,
     "schema_version": 3,
     "solution": false
    }
   },
   "source": [
    "[Back to top](#Index:) \n",
    "\n",
    "### Problem 1\n",
    "\n",
    "#### Iterate on Models\n",
    "\n",
    "**20 Points**\n",
    "\n",
    "Complete the code below according to the instructions below:\n",
    "\n",
    "- Assign the values in the `horsepower` column of `auto` to the variable `X` below.\n",
    "- Assign the values in the `mpg` column of `auto` to the variable `y` below.\n",
    "\n",
    "Use a `for` loop to loop over the values from one to ten. For each iteration `i`:\n",
    "\n",
    "- Use `Pipeline` to create a pipeline object. Inside the pipeline object define a a tuple where the first element is a string identifier `quad_features'` and the second element is an instance of `PolynomialFeatures` of degree `i` with `include_bias = False`. Inside the pipeline define another tuple where the first element is a string identifier `quad_model`, and the second element is an instance of `LinearRegression`. Assign the pipeline object to the variable `pipe`.\n",
    "- Use the `fit` function on `pipe` to train your model on `X_train` and `y_train`. Assign the result to `preds`.\n",
    "- Use the `predict` function to predict the value of `X_train`. Assign the result to `preds`.\n",
    "- Assign the each `model_predictions` of degree `i` the corresponding `preds` value."
   ]
  },
  {
   "cell_type": "code",
   "execution_count": 16,
   "metadata": {
    "deletable": false,
    "nbgrader": {
     "cell_type": "code",
     "checksum": "08840d4e4bf772e7f3580618838123b5",
     "grade": false,
     "grade_id": "cell-5030deb704abdd79",
     "locked": false,
     "schema_version": 3,
     "solution": true
    }
   },
   "outputs": [
    {
     "data": {
      "text/plain": [
       "array([23.60120856, 25.25782873, 21.1162783 , 19.04550308, 23.18705352,\n",
       "       12.83317743, 21.1162783 , 20.08089069, 21.1162783 , 19.04550308])"
      ]
     },
     "execution_count": 16,
     "metadata": {},
     "output_type": "execute_result"
    }
   ],
   "source": [
    "### GRADED\n",
    "\n",
    "### YOUR SOLUTION HERE\n",
    "model_predictions = {f'degree_{i}': None for i in range(1, 11)}\n",
    "\n",
    "def predictions_for_range_of_degrees(X_train, y_train, X_pred, range_start, range_stop):\n",
    "    predictions = []\n",
    "    #for 1, 2, 3, ..., 10\n",
    "    for i in range(range_start, range_stop):\n",
    "        #create pipeline\n",
    "        pipe = Pipeline([\n",
    "            ('quad_features', PolynomialFeatures(degree=i, include_bias=False)),\n",
    "            ('quad_model', LinearRegression())\n",
    "        ])\n",
    "        #fit pipeline on training data\n",
    "        pipe.fit(X_train, y_train)\n",
    "        #make predictions on all data\n",
    "        preds = pipe.predict(X_pred)\n",
    "        #assign to model_predictions\n",
    "        predictions.append(preds)\n",
    "        \n",
    "    return predictions\n",
    "\n",
    "predictions = predictions_for_range_of_degrees(X_train, y_train, X_train, 1, 11)\n",
    "\n",
    "for key, value in zip(model_predictions.keys(), predictions):\n",
    "    model_predictions[key] = value\n",
    "    \n",
    "# Answer check\n",
    "model_predictions['degree_1'][:10]"
   ]
  },
  {
   "cell_type": "code",
   "execution_count": null,
   "metadata": {
    "deletable": false,
    "editable": false,
    "nbgrader": {
     "cell_type": "code",
     "checksum": "36d94f536f4058c3dca8c3305fd19e28",
     "grade": true,
     "grade_id": "cell-58b5c109b0fbde13",
     "locked": true,
     "points": 20,
     "schema_version": 3,
     "solution": false
    }
   },
   "outputs": [],
   "source": []
  },
  {
   "cell_type": "markdown",
   "metadata": {
    "deletable": false,
    "editable": false,
    "nbgrader": {
     "cell_type": "markdown",
     "checksum": "c5cb61b71beaf6789e427a5b75507747",
     "grade": false,
     "grade_id": "cell-0e3ae8957659f76d",
     "locked": true,
     "schema_version": 3,
     "solution": false
    }
   },
   "source": [
    "[Back to top](#Index:) \n",
    "\n",
    "### Problem 2\n",
    "\n",
    "#### DataFrame of Predictions\n",
    "\n",
    "**5 Points**\n",
    "\n",
    "Use the `model_predictions` dictionary to create a DataFrame of the 10 models predictions.  Assign your solution to `pred_df` below as a DataFrame. "
   ]
  },
  {
   "cell_type": "code",
   "execution_count": 13,
   "metadata": {
    "deletable": false,
    "nbgrader": {
     "cell_type": "code",
     "checksum": "9f1acd66cfe77ba2b907e7ba8f89055c",
     "grade": false,
     "grade_id": "cell-f410033f079f31d8",
     "locked": false,
     "schema_version": 3,
     "solution": true
    }
   },
   "outputs": [
    {
     "name": "stdout",
     "output_type": "stream",
     "text": [
      "<class 'pandas.core.frame.DataFrame'>\n",
      "    degree_1   degree_2   degree_3   degree_4   degree_5   degree_6  \\\n",
      "0  23.601209  23.730040  23.517217  25.640822  24.918036  25.051988   \n",
      "1  25.257829  25.669836  26.057265  24.755267  24.864116  24.841059   \n",
      "2  21.116278  20.981922  20.820752  19.496913  19.845537  19.808741   \n",
      "3  19.045503  18.839933  19.152249  20.457650  20.746899  20.716968   \n",
      "4  23.187054  23.258556  22.988407  24.670613  25.141244  25.029322   \n",
      "\n",
      "    degree_7   degree_8   degree_9  degree_10  \n",
      "0  25.171962  25.269558  25.350124  25.415930  \n",
      "1  24.826735  24.807184  24.787025  24.766287  \n",
      "2  19.770362  19.728813  19.686741  19.645249  \n",
      "3  20.686838  20.660395  20.636748  20.615915  \n",
      "4  24.952802  24.899243  24.867973  24.855330  \n"
     ]
    }
   ],
   "source": [
    "### GRADED\n",
    "\n",
    "### YOUR SOLUTION HERE\n",
    "pred_df = pd.DataFrame(model_predictions)\n",
    "\n",
    "# Answer check\n",
    "print(type(pred_df))\n",
    "print(pred_df.head())"
   ]
  },
  {
   "cell_type": "code",
   "execution_count": null,
   "metadata": {
    "deletable": false,
    "editable": false,
    "nbgrader": {
     "cell_type": "code",
     "checksum": "1118707222ecb6600a05720f5a443923",
     "grade": true,
     "grade_id": "cell-435b1c581d017378",
     "locked": true,
     "points": 5,
     "schema_version": 3,
     "solution": false
    }
   },
   "outputs": [],
   "source": []
  },
  {
   "cell_type": "markdown",
   "metadata": {
    "deletable": false,
    "editable": false,
    "nbgrader": {
     "cell_type": "markdown",
     "checksum": "2a606c827a6f3c154abe557cb96c600f",
     "grade": false,
     "grade_id": "cell-2fc5be6c21c2e393",
     "locked": true,
     "schema_version": 3,
     "solution": false
    }
   },
   "source": [
    "[Back to top](#Index:) \n",
    "\n",
    "### Problem 3\n",
    "\n",
    "#### DataFrame of Errors\n",
    "\n",
    "**5 Points**\n",
    "\n",
    "Now, determine the error for each model and create a DataFrame of these errors.  One way to do this is to use your prediction DataFrame's `.subtract` method to subtract `y` from each feature.  Assign the DataFrame of errors as `error_df` below.  "
   ]
  },
  {
   "cell_type": "code",
   "execution_count": 14,
   "metadata": {
    "deletable": false,
    "nbgrader": {
     "cell_type": "code",
     "checksum": "36de39066ef3dcbdb792ca0b74be329e",
     "grade": false,
     "grade_id": "cell-39bb57c061a5550e",
     "locked": false,
     "schema_version": 3,
     "solution": true
    }
   },
   "outputs": [
    {
     "name": "stdout",
     "output_type": "stream",
     "text": [
      "<class 'pandas.core.frame.DataFrame'>\n",
      "    degree_1   degree_2   degree_3  degree_4  degree_5  degree_6  degree_7  \\\n",
      "0   5.601209   5.730040   5.517217  7.640822  6.918036  7.051988  7.171962   \n",
      "1  10.257829  10.669836  11.057265  9.755267  9.864116  9.841059  9.826735   \n",
      "2   3.116278   2.981922   2.820752  1.496913  1.845537  1.808741  1.770362   \n",
      "3   3.045503   2.839933   3.152249  4.457650  4.746899  4.716968  4.686838   \n",
      "4   6.187054   6.258556   5.988407  7.670613  8.141244  8.029322  7.952802   \n",
      "\n",
      "   degree_8  degree_9  degree_10  \n",
      "0  7.269558  7.350124   7.415930  \n",
      "1  9.807184  9.787025   9.766287  \n",
      "2  1.728813  1.686741   1.645249  \n",
      "3  4.660395  4.636748   4.615915  \n",
      "4  7.899243  7.867973   7.855330  \n"
     ]
    }
   ],
   "source": [
    "### GRADED\n",
    "\n",
    "### YOUR SOLUTION HERE\n",
    "error_df = pred_df.subtract(y, axis=0)\n",
    "\n",
    "# Answer check\n",
    "print(type(error_df))\n",
    "print(error_df.head())"
   ]
  },
  {
   "cell_type": "code",
   "execution_count": null,
   "metadata": {
    "deletable": false,
    "editable": false,
    "nbgrader": {
     "cell_type": "code",
     "checksum": "1038610a6be8b0b6cf1ea1ebed1e54d2",
     "grade": true,
     "grade_id": "cell-f8eb586be93a6b46",
     "locked": true,
     "points": 5,
     "schema_version": 3,
     "solution": false
    }
   },
   "outputs": [],
   "source": []
  },
  {
   "cell_type": "markdown",
   "metadata": {
    "deletable": false,
    "editable": false,
    "nbgrader": {
     "cell_type": "markdown",
     "checksum": "70dbde216b02d9c1363cf9d262748583",
     "grade": false,
     "grade_id": "cell-ade7dbd628b3300f",
     "locked": true,
     "schema_version": 3,
     "solution": false
    }
   },
   "source": [
    "[Back to top](#Index:) \n",
    "\n",
    "### Problem 4\n",
    "\n",
    "#### Mean and Variance of Model Errors\n",
    "\n",
    "**5 Points**\n",
    "\n",
    "\n",
    "Using the DataFrame of errors, examine the mean and variance of each model's error.  What degree model has the highest variance?  Assign your response as an integer to `highest_var_degree` below."
   ]
  },
  {
   "cell_type": "code",
   "execution_count": 15,
   "metadata": {
    "deletable": false,
    "nbgrader": {
     "cell_type": "code",
     "checksum": "265b46010098a1b88d2b81d43a21310c",
     "grade": false,
     "grade_id": "cell-ef9bb67cd8c535da",
     "locked": false,
     "schema_version": 3,
     "solution": true
    }
   },
   "outputs": [
    {
     "name": "stdout",
     "output_type": "stream",
     "text": [
      "        degree_1   degree_2   degree_3   degree_4   degree_5   degree_6  \\\n",
      "count  10.000000  10.000000  10.000000  10.000000  10.000000  10.000000   \n",
      "mean    5.040000   5.040000   5.040000   5.040000   5.040000   5.040000   \n",
      "std     3.319434   3.315471   3.360741   3.315497   3.343652   3.327971   \n",
      "min    -2.166823  -1.778159  -1.878879  -1.996799  -2.001236  -1.988709   \n",
      "25%     3.348584   3.196424   3.402249   4.574252   3.772297   3.883876   \n",
      "50%     5.841050   5.812068   5.733226   5.477282   5.796218   5.762855   \n",
      "75%     6.883972   6.801080   6.612666   7.104845   6.649912   6.741177   \n",
      "max    10.257829  10.669836  11.057265   9.755267   9.864116   9.841059   \n",
      "var    11.018642  10.992348  11.294580  10.992521  11.180011  11.075388   \n",
      "\n",
      "        degree_7   degree_8   degree_9  degree_10  \n",
      "count  10.000000  10.000000  10.000000  10.000000  \n",
      "mean    5.040000   5.040000   5.040000   5.040000  \n",
      "std     3.324002   3.319023   3.316491   3.315892  \n",
      "min    -2.000648  -2.000498  -2.000356  -2.000240  \n",
      "25%     3.994999   4.103061   4.205322   4.300317  \n",
      "50%     5.728600   5.694604   5.661745   5.630582  \n",
      "75%     6.821562   6.884372   6.934278   6.973259  \n",
      "max     9.826735   9.807184   9.787025   9.766287  \n",
      "var    11.048993  11.015913  10.999112  10.995138  \n",
      "degree_3\n",
      "<class 'int'>\n",
      "3\n"
     ]
    }
   ],
   "source": [
    "### GRADED\n",
    "\n",
    "## Exploration of the data statistics\n",
    "error_stats = error_df.describe()\n",
    "# Calculate variance and create a DataFrame\n",
    "var_df = pd.DataFrame(error_df.var()).T\n",
    "var_df.index = ['var']\n",
    "\n",
    "# Concatenate the original DataFrame with the variance DataFrame\n",
    "error_stats = pd.concat([error_stats, var_df])\n",
    "\n",
    "print(error_stats)\n",
    "\n",
    "### YOUR SOLUTION HERE\n",
    "highest_degree_name = error_df.var().idxmax()\n",
    "print(highest_degree_name)\n",
    "highest_var_degree = 3\n",
    "\n",
    "# Answer check\n",
    "print(type(highest_var_degree))\n",
    "print(highest_var_degree)"
   ]
  },
  {
   "cell_type": "code",
   "execution_count": null,
   "metadata": {
    "deletable": false,
    "editable": false,
    "nbgrader": {
     "cell_type": "code",
     "checksum": "43175052dc6f16dc262452cfbdfc4c4b",
     "grade": true,
     "grade_id": "cell-ed6417d67b686a9e",
     "locked": true,
     "points": 5,
     "schema_version": 3,
     "solution": false
    }
   },
   "outputs": [],
   "source": []
  },
  {
   "cell_type": "code",
   "execution_count": null,
   "metadata": {},
   "outputs": [],
   "source": []
  }
 ],
 "metadata": {
  "kernelspec": {
   "display_name": "Python 3 (ipykernel)",
   "language": "python",
   "name": "python3"
  },
  "language_info": {
   "codemirror_mode": {
    "name": "ipython",
    "version": 3
   },
   "file_extension": ".py",
   "mimetype": "text/x-python",
   "name": "python",
   "nbconvert_exporter": "python",
   "pygments_lexer": "ipython3",
   "version": "3.11.7"
  },
  "widgets": {
   "application/vnd.jupyter.widget-state+json": {
    "state": {},
    "version_major": 2,
    "version_minor": 0
   }
  }
 },
 "nbformat": 4,
 "nbformat_minor": 4
}
