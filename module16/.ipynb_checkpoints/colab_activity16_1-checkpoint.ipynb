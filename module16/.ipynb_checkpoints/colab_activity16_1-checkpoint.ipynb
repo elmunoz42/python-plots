{
 "cells": [
  {
   "attachments": {},
   "cell_type": "markdown",
   "metadata": {
    "nbgrader": {
     "grade": false,
     "grade_id": "cell-76a2484725eec681",
     "locked": true,
     "schema_version": 3,
     "solution": false
    }
   },
   "source": [
    "### Colab Activity 16.1: Polynomial Features and Classification\n",
    "\n",
    "**Expected Time = 30 minutes** \n",
    "\n",
    "\n",
    "This activity focuses on comparing versions of logistic regression classifier on a wine dataset from Scikit-Learn.  Your goal is to understand how the performance changes and the decision boundary is effected.  \n",
    "\n",
    "\n",
    "#### Index\n",
    "\n",
    "- [Problem 1](#-Problem-1)\n",
    "- [Problem 2](#-Problem-2)\n",
    "- [Problem 3](#-Problem-3)\n",
    "\n",
    "\n",
    "Run the code cells below to import the necessary libraries and the dataset."
   ]
  },
  {
   "cell_type": "code",
   "execution_count": 1,
   "metadata": {},
   "outputs": [],
   "source": [
    "import numpy as np\n",
    "import pandas as pd\n",
    "import matplotlib.pyplot as plt\n",
    "\n",
    "from sklearn.datasets import load_wine\n",
    "from sklearn.linear_model import LogisticRegression\n",
    "from sklearn.preprocessing import StandardScaler, PolynomialFeatures\n",
    "from sklearn.pipeline import Pipeline\n",
    "\n",
    "from sklearn import set_config\n",
    "set_config(display=\"diagram\")\n",
    "import seaborn as sns"
   ]
  },
  {
   "cell_type": "code",
   "execution_count": 2,
   "metadata": {},
   "outputs": [],
   "source": [
    "X, y = load_wine(return_X_y=True, as_frame=True)"
   ]
  },
  {
   "cell_type": "code",
   "execution_count": 3,
   "metadata": {},
   "outputs": [
    {
     "data": {
      "text/html": [
       "<div>\n",
       "<style scoped>\n",
       "    .dataframe tbody tr th:only-of-type {\n",
       "        vertical-align: middle;\n",
       "    }\n",
       "\n",
       "    .dataframe tbody tr th {\n",
       "        vertical-align: top;\n",
       "    }\n",
       "\n",
       "    .dataframe thead th {\n",
       "        text-align: right;\n",
       "    }\n",
       "</style>\n",
       "<table border=\"1\" class=\"dataframe\">\n",
       "  <thead>\n",
       "    <tr style=\"text-align: right;\">\n",
       "      <th></th>\n",
       "      <th>alcohol</th>\n",
       "      <th>malic_acid</th>\n",
       "      <th>ash</th>\n",
       "      <th>alcalinity_of_ash</th>\n",
       "      <th>magnesium</th>\n",
       "      <th>total_phenols</th>\n",
       "      <th>flavanoids</th>\n",
       "      <th>nonflavanoid_phenols</th>\n",
       "      <th>proanthocyanins</th>\n",
       "      <th>color_intensity</th>\n",
       "      <th>hue</th>\n",
       "      <th>od280/od315_of_diluted_wines</th>\n",
       "      <th>proline</th>\n",
       "    </tr>\n",
       "  </thead>\n",
       "  <tbody>\n",
       "    <tr>\n",
       "      <th>0</th>\n",
       "      <td>14.23</td>\n",
       "      <td>1.71</td>\n",
       "      <td>2.43</td>\n",
       "      <td>15.6</td>\n",
       "      <td>127.0</td>\n",
       "      <td>2.80</td>\n",
       "      <td>3.06</td>\n",
       "      <td>0.28</td>\n",
       "      <td>2.29</td>\n",
       "      <td>5.64</td>\n",
       "      <td>1.04</td>\n",
       "      <td>3.92</td>\n",
       "      <td>1065.0</td>\n",
       "    </tr>\n",
       "    <tr>\n",
       "      <th>1</th>\n",
       "      <td>13.20</td>\n",
       "      <td>1.78</td>\n",
       "      <td>2.14</td>\n",
       "      <td>11.2</td>\n",
       "      <td>100.0</td>\n",
       "      <td>2.65</td>\n",
       "      <td>2.76</td>\n",
       "      <td>0.26</td>\n",
       "      <td>1.28</td>\n",
       "      <td>4.38</td>\n",
       "      <td>1.05</td>\n",
       "      <td>3.40</td>\n",
       "      <td>1050.0</td>\n",
       "    </tr>\n",
       "    <tr>\n",
       "      <th>2</th>\n",
       "      <td>13.16</td>\n",
       "      <td>2.36</td>\n",
       "      <td>2.67</td>\n",
       "      <td>18.6</td>\n",
       "      <td>101.0</td>\n",
       "      <td>2.80</td>\n",
       "      <td>3.24</td>\n",
       "      <td>0.30</td>\n",
       "      <td>2.81</td>\n",
       "      <td>5.68</td>\n",
       "      <td>1.03</td>\n",
       "      <td>3.17</td>\n",
       "      <td>1185.0</td>\n",
       "    </tr>\n",
       "    <tr>\n",
       "      <th>3</th>\n",
       "      <td>14.37</td>\n",
       "      <td>1.95</td>\n",
       "      <td>2.50</td>\n",
       "      <td>16.8</td>\n",
       "      <td>113.0</td>\n",
       "      <td>3.85</td>\n",
       "      <td>3.49</td>\n",
       "      <td>0.24</td>\n",
       "      <td>2.18</td>\n",
       "      <td>7.80</td>\n",
       "      <td>0.86</td>\n",
       "      <td>3.45</td>\n",
       "      <td>1480.0</td>\n",
       "    </tr>\n",
       "    <tr>\n",
       "      <th>4</th>\n",
       "      <td>13.24</td>\n",
       "      <td>2.59</td>\n",
       "      <td>2.87</td>\n",
       "      <td>21.0</td>\n",
       "      <td>118.0</td>\n",
       "      <td>2.80</td>\n",
       "      <td>2.69</td>\n",
       "      <td>0.39</td>\n",
       "      <td>1.82</td>\n",
       "      <td>4.32</td>\n",
       "      <td>1.04</td>\n",
       "      <td>2.93</td>\n",
       "      <td>735.0</td>\n",
       "    </tr>\n",
       "  </tbody>\n",
       "</table>\n",
       "</div>"
      ],
      "text/plain": [
       "   alcohol  malic_acid   ash  alcalinity_of_ash  magnesium  total_phenols  \\\n",
       "0    14.23        1.71  2.43               15.6      127.0           2.80   \n",
       "1    13.20        1.78  2.14               11.2      100.0           2.65   \n",
       "2    13.16        2.36  2.67               18.6      101.0           2.80   \n",
       "3    14.37        1.95  2.50               16.8      113.0           3.85   \n",
       "4    13.24        2.59  2.87               21.0      118.0           2.80   \n",
       "\n",
       "   flavanoids  nonflavanoid_phenols  proanthocyanins  color_intensity   hue  \\\n",
       "0        3.06                  0.28             2.29             5.64  1.04   \n",
       "1        2.76                  0.26             1.28             4.38  1.05   \n",
       "2        3.24                  0.30             2.81             5.68  1.03   \n",
       "3        3.49                  0.24             2.18             7.80  0.86   \n",
       "4        2.69                  0.39             1.82             4.32  1.04   \n",
       "\n",
       "   od280/od315_of_diluted_wines  proline  \n",
       "0                          3.92   1065.0  \n",
       "1                          3.40   1050.0  \n",
       "2                          3.17   1185.0  \n",
       "3                          3.45   1480.0  \n",
       "4                          2.93    735.0  "
      ]
     },
     "execution_count": 3,
     "metadata": {},
     "output_type": "execute_result"
    }
   ],
   "source": [
    "X.head()"
   ]
  },
  {
   "cell_type": "code",
   "execution_count": 4,
   "metadata": {},
   "outputs": [],
   "source": [
    "X1 = X[['total_phenols', 'color_intensity']]"
   ]
  },
  {
   "cell_type": "code",
   "execution_count": 5,
   "metadata": {},
   "outputs": [
    {
     "data": {
      "text/plain": [
       "<AxesSubplot:xlabel='total_phenols', ylabel='color_intensity'>"
      ]
     },
     "execution_count": 5,
     "metadata": {},
     "output_type": "execute_result"
    },
    {
     "data": {
      "image/png": "[encoded data removed]",
      "text/plain": [
       "<Figure size 432x288 with 1 Axes>"
      ]
     },
     "metadata": {
      "needs_background": "light"
     },
     "output_type": "display_data"
    }
   ],
   "source": [
    "sns.scatterplot(data = X1, x = 'total_phenols', y = 'color_intensity', hue = y)"
   ]
  },
  {
   "attachments": {},
   "cell_type": "markdown",
   "metadata": {
    "nbgrader": {
     "grade": false,
     "grade_id": "cell-7a26570baa6de026",
     "locked": true,
     "schema_version": 3,
     "solution": false
    }
   },
   "source": [
    "[Back to top](#-Index)\n",
    "\n",
    "### Problem 1\n",
    "\n",
    "#### Logistic Regression\n",
    "\n",
    "\n",
    "\n",
    "Below, fit a `LogisticRegression` estimator with `multi_class = 'multinomial'` on `X1` and `y`. Assign the result to `lgr`.\n",
    "\n",
    "Uncomment the code to visualize the decision boundary of the resulting estimator assigned to `lgr` below."
   ]
  },
  {
   "cell_type": "code",
   "execution_count": null,
   "metadata": {
    "nbgrader": {
     "grade": false,
     "grade_id": "cell-812e567b9c1fb163",
     "locked": false,
     "schema_version": 3,
     "solution": true
    }
   },
   "outputs": [
    {
     "data": {
      "text/html": [
       "<style>#sk-85d42f4b-64ed-4862-b2d2-bcc9028d420b {color: black;background-color: white;}#sk-85d42f4b-64ed-4862-b2d2-bcc9028d420b pre{padding: 0;}#sk-85d42f4b-64ed-4862-b2d2-bcc9028d420b div.sk-toggleable {background-color: white;}#sk-85d42f4b-64ed-4862-b2d2-bcc9028d420b label.sk-toggleable__label {cursor: pointer;display: block;width: 100%;margin-bottom: 0;padding: 0.3em;box-sizing: border-box;text-align: center;}#sk-85d42f4b-64ed-4862-b2d2-bcc9028d420b label.sk-toggleable__label-arrow:before {content: \"▸\";float: left;margin-right: 0.25em;color: #696969;}#sk-85d42f4b-64ed-4862-b2d2-bcc9028d420b label.sk-toggleable__label-arrow:hover:before {color: black;}#sk-85d42f4b-64ed-4862-b2d2-bcc9028d420b div.sk-estimator:hover label.sk-toggleable__label-arrow:before {color: black;}#sk-85d42f4b-64ed-4862-b2d2-bcc9028d420b div.sk-toggleable__content {max-height: 0;max-width: 0;overflow: hidden;text-align: left;background-color: #f0f8ff;}#sk-85d42f4b-64ed-4862-b2d2-bcc9028d420b div.sk-toggleable__content pre {margin: 0.2em;color: black;border-radius: 0.25em;background-color: #f0f8ff;}#sk-85d42f4b-64ed-4862-b2d2-bcc9028d420b input.sk-toggleable__control:checked~div.sk-toggleable__content {max-height: 200px;max-width: 100%;overflow: auto;}#sk-85d42f4b-64ed-4862-b2d2-bcc9028d420b input.sk-toggleable__control:checked~label.sk-toggleable__label-arrow:before {content: \"▾\";}#sk-85d42f4b-64ed-4862-b2d2-bcc9028d420b div.sk-estimator input.sk-toggleable__control:checked~label.sk-toggleable__label {background-color: #d4ebff;}#sk-85d42f4b-64ed-4862-b2d2-bcc9028d420b div.sk-label input.sk-toggleable__control:checked~label.sk-toggleable__label {background-color: #d4ebff;}#sk-85d42f4b-64ed-4862-b2d2-bcc9028d420b input.sk-hidden--visually {border: 0;clip: rect(1px 1px 1px 1px);clip: rect(1px, 1px, 1px, 1px);height: 1px;margin: -1px;overflow: hidden;padding: 0;position: absolute;width: 1px;}#sk-85d42f4b-64ed-4862-b2d2-bcc9028d420b div.sk-estimator {font-family: monospace;background-color: #f0f8ff;border: 1px dotted black;border-radius: 0.25em;box-sizing: border-box;margin-bottom: 0.5em;}#sk-85d42f4b-64ed-4862-b2d2-bcc9028d420b div.sk-estimator:hover {background-color: #d4ebff;}#sk-85d42f4b-64ed-4862-b2d2-bcc9028d420b div.sk-parallel-item::after {content: \"\";width: 100%;border-bottom: 1px solid gray;flex-grow: 1;}#sk-85d42f4b-64ed-4862-b2d2-bcc9028d420b div.sk-label:hover label.sk-toggleable__label {background-color: #d4ebff;}#sk-85d42f4b-64ed-4862-b2d2-bcc9028d420b div.sk-serial::before {content: \"\";position: absolute;border-left: 1px solid gray;box-sizing: border-box;top: 2em;bottom: 0;left: 50%;}#sk-85d42f4b-64ed-4862-b2d2-bcc9028d420b div.sk-serial {display: flex;flex-direction: column;align-items: center;background-color: white;padding-right: 0.2em;padding-left: 0.2em;}#sk-85d42f4b-64ed-4862-b2d2-bcc9028d420b div.sk-item {z-index: 1;}#sk-85d42f4b-64ed-4862-b2d2-bcc9028d420b div.sk-parallel {display: flex;align-items: stretch;justify-content: center;background-color: white;}#sk-85d42f4b-64ed-4862-b2d2-bcc9028d420b div.sk-parallel::before {content: \"\";position: absolute;border-left: 1px solid gray;box-sizing: border-box;top: 2em;bottom: 0;left: 50%;}#sk-85d42f4b-64ed-4862-b2d2-bcc9028d420b div.sk-parallel-item {display: flex;flex-direction: column;position: relative;background-color: white;}#sk-85d42f4b-64ed-4862-b2d2-bcc9028d420b div.sk-parallel-item:first-child::after {align-self: flex-end;width: 50%;}#sk-85d42f4b-64ed-4862-b2d2-bcc9028d420b div.sk-parallel-item:last-child::after {align-self: flex-start;width: 50%;}#sk-85d42f4b-64ed-4862-b2d2-bcc9028d420b div.sk-parallel-item:only-child::after {width: 0;}#sk-85d42f4b-64ed-4862-b2d2-bcc9028d420b div.sk-dashed-wrapped {border: 1px dashed gray;margin: 0 0.4em 0.5em 0.4em;box-sizing: border-box;padding-bottom: 0.4em;background-color: white;position: relative;}#sk-85d42f4b-64ed-4862-b2d2-bcc9028d420b div.sk-label label {font-family: monospace;font-weight: bold;background-color: white;display: inline-block;line-height: 1.2em;}#sk-85d42f4b-64ed-4862-b2d2-bcc9028d420b div.sk-label-container {position: relative;z-index: 2;text-align: center;}#sk-85d42f4b-64ed-4862-b2d2-bcc9028d420b div.sk-container {/* jupyter's `normalize.less` sets `[hidden] { display: none; }` but bootstrap.min.css set `[hidden] { display: none !important; }` so we also need the `!important` here to be able to override the default hidden behavior on the sphinx rendered scikit-learn.org. See: https://github.com/scikit-learn/scikit-learn/issues/21755 */display: inline-block !important;position: relative;}#sk-85d42f4b-64ed-4862-b2d2-bcc9028d420b div.sk-text-repr-fallback {display: none;}</style><div id=\"sk-85d42f4b-64ed-4862-b2d2-bcc9028d420b\" class=\"sk-top-container\"><div class=\"sk-text-repr-fallback\"><pre>LogisticRegression(multi_class=&#x27;multinomial&#x27;)</pre><b>Please rerun this cell to show the HTML repr or trust the notebook.</b></div><div class=\"sk-container\" hidden><div class=\"sk-item\"><div class=\"sk-estimator sk-toggleable\"><input class=\"sk-toggleable__control sk-hidden--visually\" id=\"b1f209d3-a2a7-49ba-9471-e417c9b5686d\" type=\"checkbox\" checked><label for=\"b1f209d3-a2a7-49ba-9471-e417c9b5686d\" class=\"sk-toggleable__label sk-toggleable__label-arrow\">LogisticRegression</label><div class=\"sk-toggleable__content\"><pre>LogisticRegression(multi_class=&#x27;multinomial&#x27;)</pre></div></div></div></div></div>"
      ],
      "text/plain": [
       "LogisticRegression(multi_class='multinomial')"
      ]
     },
     "execution_count": 7,
     "metadata": {},
     "output_type": "execute_result"
    }
   ],
   "source": [
    "\n",
    "lgr = ''\n",
    "    \n",
    "\n",
    "\n",
    "### ANSWER CHECK\n",
    "lgr"
   ]
  },
  {
   "cell_type": "code",
   "execution_count": 8,
   "metadata": {},
   "outputs": [],
   "source": [
    "## Uncomment to visualize the decision boundary for lgr\n",
    "# xx = np.linspace(X1.iloc[:, 0].min(), X1.iloc[:, 0].max(), 50)\n",
    "# yy = np.linspace(X1.iloc[:, 1].min(), X1.iloc[:, 1].max(), 50)\n",
    "# XX, YY = np.meshgrid(xx, yy)\n",
    "# grid = np.c_[XX.ravel(), YY.ravel()]\n",
    "# labels = pd.factorize(lgr.predict(grid))[0]\n",
    "\n",
    "# plt.contourf(xx, yy, labels.reshape(XX.shape), cmap = 'tab10', alpha = 0.3)\n",
    "# sns.scatterplot(data = X1, x = 'total_phenols', y = 'color_intensity', hue = y,  palette = 'bright')"
   ]
  },
  {
   "attachments": {},
   "cell_type": "markdown",
   "metadata": {
    "nbgrader": {
     "grade": false,
     "grade_id": "cell-642c26e8466ac7f2",
     "locked": true,
     "schema_version": 3,
     "solution": false
    }
   },
   "source": [
    "[Back to top](#-Index)\n",
    "\n",
    "### Problem 2\n",
    "\n",
    "#### Logistic Regression with Quadratic Features\n",
    "\n",
    "\n",
    "\n",
    "Below, create and fit a `Pipeline` named `quad_pipe` with steps: \n",
    "\n",
    "- `poly`: Create quadratic features with `PolynomialFeatures` with `degree` equal to 2.\n",
    "- `scale`: `StandardScaler` applied to polynomial features\n",
    "- `lgr`: `LogisticRegression` with `multi_class = 'multinomial'`\n",
    "\n",
    "Fit this pipeline to the data `X1` and `y`.\n",
    "\n",
    "Visualize the decision boundary by uncommenting the code below."
   ]
  },
  {
   "cell_type": "code",
   "execution_count": null,
   "metadata": {
    "nbgrader": {
     "grade": false,
     "grade_id": "cell-6fca31908e56a0a1",
     "locked": false,
     "schema_version": 3,
     "solution": true
    }
   },
   "outputs": [
    {
     "data": {
      "text/html": [
       "<style>#sk-d182c583-e646-4dea-9d8a-e90983b04981 {color: black;background-color: white;}#sk-d182c583-e646-4dea-9d8a-e90983b04981 pre{padding: 0;}#sk-d182c583-e646-4dea-9d8a-e90983b04981 div.sk-toggleable {background-color: white;}#sk-d182c583-e646-4dea-9d8a-e90983b04981 label.sk-toggleable__label {cursor: pointer;display: block;width: 100%;margin-bottom: 0;padding: 0.3em;box-sizing: border-box;text-align: center;}#sk-d182c583-e646-4dea-9d8a-e90983b04981 label.sk-toggleable__label-arrow:before {content: \"▸\";float: left;margin-right: 0.25em;color: #696969;}#sk-d182c583-e646-4dea-9d8a-e90983b04981 label.sk-toggleable__label-arrow:hover:before {color: black;}#sk-d182c583-e646-4dea-9d8a-e90983b04981 div.sk-estimator:hover label.sk-toggleable__label-arrow:before {color: black;}#sk-d182c583-e646-4dea-9d8a-e90983b04981 div.sk-toggleable__content {max-height: 0;max-width: 0;overflow: hidden;text-align: left;background-color: #f0f8ff;}#sk-d182c583-e646-4dea-9d8a-e90983b04981 div.sk-toggleable__content pre {margin: 0.2em;color: black;border-radius: 0.25em;background-color: #f0f8ff;}#sk-d182c583-e646-4dea-9d8a-e90983b04981 input.sk-toggleable__control:checked~div.sk-toggleable__content {max-height: 200px;max-width: 100%;overflow: auto;}#sk-d182c583-e646-4dea-9d8a-e90983b04981 input.sk-toggleable__control:checked~label.sk-toggleable__label-arrow:before {content: \"▾\";}#sk-d182c583-e646-4dea-9d8a-e90983b04981 div.sk-estimator input.sk-toggleable__control:checked~label.sk-toggleable__label {background-color: #d4ebff;}#sk-d182c583-e646-4dea-9d8a-e90983b04981 div.sk-label input.sk-toggleable__control:checked~label.sk-toggleable__label {background-color: #d4ebff;}#sk-d182c583-e646-4dea-9d8a-e90983b04981 input.sk-hidden--visually {border: 0;clip: rect(1px 1px 1px 1px);clip: rect(1px, 1px, 1px, 1px);height: 1px;margin: -1px;overflow: hidden;padding: 0;position: absolute;width: 1px;}#sk-d182c583-e646-4dea-9d8a-e90983b04981 div.sk-estimator {font-family: monospace;background-color: #f0f8ff;border: 1px dotted black;border-radius: 0.25em;box-sizing: border-box;margin-bottom: 0.5em;}#sk-d182c583-e646-4dea-9d8a-e90983b04981 div.sk-estimator:hover {background-color: #d4ebff;}#sk-d182c583-e646-4dea-9d8a-e90983b04981 div.sk-parallel-item::after {content: \"\";width: 100%;border-bottom: 1px solid gray;flex-grow: 1;}#sk-d182c583-e646-4dea-9d8a-e90983b04981 div.sk-label:hover label.sk-toggleable__label {background-color: #d4ebff;}#sk-d182c583-e646-4dea-9d8a-e90983b04981 div.sk-serial::before {content: \"\";position: absolute;border-left: 1px solid gray;box-sizing: border-box;top: 2em;bottom: 0;left: 50%;}#sk-d182c583-e646-4dea-9d8a-e90983b04981 div.sk-serial {display: flex;flex-direction: column;align-items: center;background-color: white;padding-right: 0.2em;padding-left: 0.2em;}#sk-d182c583-e646-4dea-9d8a-e90983b04981 div.sk-item {z-index: 1;}#sk-d182c583-e646-4dea-9d8a-e90983b04981 div.sk-parallel {display: flex;align-items: stretch;justify-content: center;background-color: white;}#sk-d182c583-e646-4dea-9d8a-e90983b04981 div.sk-parallel::before {content: \"\";position: absolute;border-left: 1px solid gray;box-sizing: border-box;top: 2em;bottom: 0;left: 50%;}#sk-d182c583-e646-4dea-9d8a-e90983b04981 div.sk-parallel-item {display: flex;flex-direction: column;position: relative;background-color: white;}#sk-d182c583-e646-4dea-9d8a-e90983b04981 div.sk-parallel-item:first-child::after {align-self: flex-end;width: 50%;}#sk-d182c583-e646-4dea-9d8a-e90983b04981 div.sk-parallel-item:last-child::after {align-self: flex-start;width: 50%;}#sk-d182c583-e646-4dea-9d8a-e90983b04981 div.sk-parallel-item:only-child::after {width: 0;}#sk-d182c583-e646-4dea-9d8a-e90983b04981 div.sk-dashed-wrapped {border: 1px dashed gray;margin: 0 0.4em 0.5em 0.4em;box-sizing: border-box;padding-bottom: 0.4em;background-color: white;position: relative;}#sk-d182c583-e646-4dea-9d8a-e90983b04981 div.sk-label label {font-family: monospace;font-weight: bold;background-color: white;display: inline-block;line-height: 1.2em;}#sk-d182c583-e646-4dea-9d8a-e90983b04981 div.sk-label-container {position: relative;z-index: 2;text-align: center;}#sk-d182c583-e646-4dea-9d8a-e90983b04981 div.sk-container {/* jupyter's `normalize.less` sets `[hidden] { display: none; }` but bootstrap.min.css set `[hidden] { display: none !important; }` so we also need the `!important` here to be able to override the default hidden behavior on the sphinx rendered scikit-learn.org. See: https://github.com/scikit-learn/scikit-learn/issues/21755 */display: inline-block !important;position: relative;}#sk-d182c583-e646-4dea-9d8a-e90983b04981 div.sk-text-repr-fallback {display: none;}</style><div id=\"sk-d182c583-e646-4dea-9d8a-e90983b04981\" class=\"sk-top-container\"><div class=\"sk-text-repr-fallback\"><pre>Pipeline(steps=[(&#x27;poly&#x27;, PolynomialFeatures()), (&#x27;scale&#x27;, StandardScaler()),\n",
       "                (&#x27;lgr&#x27;, LogisticRegression(multi_class=&#x27;multinomial&#x27;))])</pre><b>Please rerun this cell to show the HTML repr or trust the notebook.</b></div><div class=\"sk-container\" hidden><div class=\"sk-item sk-dashed-wrapped\"><div class=\"sk-label-container\"><div class=\"sk-label sk-toggleable\"><input class=\"sk-toggleable__control sk-hidden--visually\" id=\"98e9dfc2-8c3b-44ca-9acb-59a4abfa27c8\" type=\"checkbox\" ><label for=\"98e9dfc2-8c3b-44ca-9acb-59a4abfa27c8\" class=\"sk-toggleable__label sk-toggleable__label-arrow\">Pipeline</label><div class=\"sk-toggleable__content\"><pre>Pipeline(steps=[(&#x27;poly&#x27;, PolynomialFeatures()), (&#x27;scale&#x27;, StandardScaler()),\n",
       "                (&#x27;lgr&#x27;, LogisticRegression(multi_class=&#x27;multinomial&#x27;))])</pre></div></div></div><div class=\"sk-serial\"><div class=\"sk-item\"><div class=\"sk-estimator sk-toggleable\"><input class=\"sk-toggleable__control sk-hidden--visually\" id=\"8f4fb850-a48a-456e-b7df-3f45da5a2e6c\" type=\"checkbox\" ><label for=\"8f4fb850-a48a-456e-b7df-3f45da5a2e6c\" class=\"sk-toggleable__label sk-toggleable__label-arrow\">PolynomialFeatures</label><div class=\"sk-toggleable__content\"><pre>PolynomialFeatures()</pre></div></div></div><div class=\"sk-item\"><div class=\"sk-estimator sk-toggleable\"><input class=\"sk-toggleable__control sk-hidden--visually\" id=\"1223aafd-7669-4156-8856-4ccd40c1e30c\" type=\"checkbox\" ><label for=\"1223aafd-7669-4156-8856-4ccd40c1e30c\" class=\"sk-toggleable__label sk-toggleable__label-arrow\">StandardScaler</label><div class=\"sk-toggleable__content\"><pre>StandardScaler()</pre></div></div></div><div class=\"sk-item\"><div class=\"sk-estimator sk-toggleable\"><input class=\"sk-toggleable__control sk-hidden--visually\" id=\"83536d90-3c8a-4a9e-a65e-c9a9cf71ab4e\" type=\"checkbox\" ><label for=\"83536d90-3c8a-4a9e-a65e-c9a9cf71ab4e\" class=\"sk-toggleable__label sk-toggleable__label-arrow\">LogisticRegression</label><div class=\"sk-toggleable__content\"><pre>LogisticRegression(multi_class=&#x27;multinomial&#x27;)</pre></div></div></div></div></div></div></div>"
      ],
      "text/plain": [
       "Pipeline(steps=[('poly', PolynomialFeatures()), ('scale', StandardScaler()),\n",
       "                ('lgr', LogisticRegression(multi_class='multinomial'))])"
      ]
     },
     "execution_count": 10,
     "metadata": {},
     "output_type": "execute_result"
    }
   ],
   "source": [
    "\n",
    "quad_pipe = ''\n",
    "    \n",
    "\n",
    "\n",
    "### ANSWER CHECK\n",
    "quad_pipe"
   ]
  },
  {
   "cell_type": "code",
   "execution_count": 11,
   "metadata": {},
   "outputs": [],
   "source": [
    "## Uncomment to visualize pipeline boundary\n",
    "# labels = pd.factorize(quad_pipe.predict(grid))[0]\n",
    "# plt.contourf(xx, yy, labels.reshape(XX.shape), cmap = 'tab10', alpha = 0.3)\n",
    "# sns.scatterplot(data = X1, x = 'total_phenols', y = 'color_intensity', hue = y, palette = 'dark')"
   ]
  },
  {
   "cell_type": "code",
   "execution_count": 13,
   "metadata": {},
   "outputs": [],
   "source": [
    "## Uncomment to visualize the decision boundary for quad_pipe\n",
    "# labels = pd.factorize(quad_pipe.predict(grid))[0]\n",
    "\n",
    "# plt.contourf(xx, yy, labels.reshape(XX.shape), cmap = 'tab10', alpha = 0.3)\n",
    "# sns.scatterplot(data = X1, x = 'total_phenols', y = 'color_intensity', hue = y,  palette = 'bright')"
   ]
  },
  {
   "attachments": {},
   "cell_type": "markdown",
   "metadata": {
    "nbgrader": {
     "grade": false,
     "grade_id": "cell-73baac80160abf76",
     "locked": true,
     "schema_version": 3,
     "solution": false
    }
   },
   "source": [
    "[Back to top](#-Index)\n",
    "\n",
    "### Problem 3\n",
    "\n",
    "#### Logistic Regression with Degree 5 features\n",
    "\n",
    "\n",
    "\n",
    "Below, create and fit a `Pipeline` named `quintic_pipe` with steps: \n",
    "\n",
    "- `poly`: Create quadratic features with `PolynomialFeatures` with `degree` equal to 5.\n",
    "- `scale`: `StandardScaler` applied to polynomial features\n",
    "- `lgr`: `LogisticRegression` with `multi_class = 'multinomial'`\n",
    "\n",
    "Fit this pipeline to the data `X1` and `y`.\n",
    "\n"
   ]
  },
  {
   "cell_type": "code",
   "execution_count": null,
   "metadata": {
    "nbgrader": {
     "grade": false,
     "grade_id": "cell-23348684d7285aa3",
     "locked": false,
     "schema_version": 3,
     "solution": true
    }
   },
   "outputs": [
    {
     "data": {
      "text/html": [
       "<style>#sk-4965140c-c1e8-4d1e-82e7-5767facf381b {color: black;background-color: white;}#sk-4965140c-c1e8-4d1e-82e7-5767facf381b pre{padding: 0;}#sk-4965140c-c1e8-4d1e-82e7-5767facf381b div.sk-toggleable {background-color: white;}#sk-4965140c-c1e8-4d1e-82e7-5767facf381b label.sk-toggleable__label {cursor: pointer;display: block;width: 100%;margin-bottom: 0;padding: 0.3em;box-sizing: border-box;text-align: center;}#sk-4965140c-c1e8-4d1e-82e7-5767facf381b label.sk-toggleable__label-arrow:before {content: \"▸\";float: left;margin-right: 0.25em;color: #696969;}#sk-4965140c-c1e8-4d1e-82e7-5767facf381b label.sk-toggleable__label-arrow:hover:before {color: black;}#sk-4965140c-c1e8-4d1e-82e7-5767facf381b div.sk-estimator:hover label.sk-toggleable__label-arrow:before {color: black;}#sk-4965140c-c1e8-4d1e-82e7-5767facf381b div.sk-toggleable__content {max-height: 0;max-width: 0;overflow: hidden;text-align: left;background-color: #f0f8ff;}#sk-4965140c-c1e8-4d1e-82e7-5767facf381b div.sk-toggleable__content pre {margin: 0.2em;color: black;border-radius: 0.25em;background-color: #f0f8ff;}#sk-4965140c-c1e8-4d1e-82e7-5767facf381b input.sk-toggleable__control:checked~div.sk-toggleable__content {max-height: 200px;max-width: 100%;overflow: auto;}#sk-4965140c-c1e8-4d1e-82e7-5767facf381b input.sk-toggleable__control:checked~label.sk-toggleable__label-arrow:before {content: \"▾\";}#sk-4965140c-c1e8-4d1e-82e7-5767facf381b div.sk-estimator input.sk-toggleable__control:checked~label.sk-toggleable__label {background-color: #d4ebff;}#sk-4965140c-c1e8-4d1e-82e7-5767facf381b div.sk-label input.sk-toggleable__control:checked~label.sk-toggleable__label {background-color: #d4ebff;}#sk-4965140c-c1e8-4d1e-82e7-5767facf381b input.sk-hidden--visually {border: 0;clip: rect(1px 1px 1px 1px);clip: rect(1px, 1px, 1px, 1px);height: 1px;margin: -1px;overflow: hidden;padding: 0;position: absolute;width: 1px;}#sk-4965140c-c1e8-4d1e-82e7-5767facf381b div.sk-estimator {font-family: monospace;background-color: #f0f8ff;border: 1px dotted black;border-radius: 0.25em;box-sizing: border-box;margin-bottom: 0.5em;}#sk-4965140c-c1e8-4d1e-82e7-5767facf381b div.sk-estimator:hover {background-color: #d4ebff;}#sk-4965140c-c1e8-4d1e-82e7-5767facf381b div.sk-parallel-item::after {content: \"\";width: 100%;border-bottom: 1px solid gray;flex-grow: 1;}#sk-4965140c-c1e8-4d1e-82e7-5767facf381b div.sk-label:hover label.sk-toggleable__label {background-color: #d4ebff;}#sk-4965140c-c1e8-4d1e-82e7-5767facf381b div.sk-serial::before {content: \"\";position: absolute;border-left: 1px solid gray;box-sizing: border-box;top: 2em;bottom: 0;left: 50%;}#sk-4965140c-c1e8-4d1e-82e7-5767facf381b div.sk-serial {display: flex;flex-direction: column;align-items: center;background-color: white;padding-right: 0.2em;padding-left: 0.2em;}#sk-4965140c-c1e8-4d1e-82e7-5767facf381b div.sk-item {z-index: 1;}#sk-4965140c-c1e8-4d1e-82e7-5767facf381b div.sk-parallel {display: flex;align-items: stretch;justify-content: center;background-color: white;}#sk-4965140c-c1e8-4d1e-82e7-5767facf381b div.sk-parallel::before {content: \"\";position: absolute;border-left: 1px solid gray;box-sizing: border-box;top: 2em;bottom: 0;left: 50%;}#sk-4965140c-c1e8-4d1e-82e7-5767facf381b div.sk-parallel-item {display: flex;flex-direction: column;position: relative;background-color: white;}#sk-4965140c-c1e8-4d1e-82e7-5767facf381b div.sk-parallel-item:first-child::after {align-self: flex-end;width: 50%;}#sk-4965140c-c1e8-4d1e-82e7-5767facf381b div.sk-parallel-item:last-child::after {align-self: flex-start;width: 50%;}#sk-4965140c-c1e8-4d1e-82e7-5767facf381b div.sk-parallel-item:only-child::after {width: 0;}#sk-4965140c-c1e8-4d1e-82e7-5767facf381b div.sk-dashed-wrapped {border: 1px dashed gray;margin: 0 0.4em 0.5em 0.4em;box-sizing: border-box;padding-bottom: 0.4em;background-color: white;position: relative;}#sk-4965140c-c1e8-4d1e-82e7-5767facf381b div.sk-label label {font-family: monospace;font-weight: bold;background-color: white;display: inline-block;line-height: 1.2em;}#sk-4965140c-c1e8-4d1e-82e7-5767facf381b div.sk-label-container {position: relative;z-index: 2;text-align: center;}#sk-4965140c-c1e8-4d1e-82e7-5767facf381b div.sk-container {/* jupyter's `normalize.less` sets `[hidden] { display: none; }` but bootstrap.min.css set `[hidden] { display: none !important; }` so we also need the `!important` here to be able to override the default hidden behavior on the sphinx rendered scikit-learn.org. See: https://github.com/scikit-learn/scikit-learn/issues/21755 */display: inline-block !important;position: relative;}#sk-4965140c-c1e8-4d1e-82e7-5767facf381b div.sk-text-repr-fallback {display: none;}</style><div id=\"sk-4965140c-c1e8-4d1e-82e7-5767facf381b\" class=\"sk-top-container\"><div class=\"sk-text-repr-fallback\"><pre>Pipeline(steps=[(&#x27;poly&#x27;, PolynomialFeatures(degree=5)),\n",
       "                (&#x27;scale&#x27;, StandardScaler()),\n",
       "                (&#x27;lgr&#x27;, LogisticRegression(multi_class=&#x27;multinomial&#x27;))])</pre><b>Please rerun this cell to show the HTML repr or trust the notebook.</b></div><div class=\"sk-container\" hidden><div class=\"sk-item sk-dashed-wrapped\"><div class=\"sk-label-container\"><div class=\"sk-label sk-toggleable\"><input class=\"sk-toggleable__control sk-hidden--visually\" id=\"539b75d5-840a-4e11-9f7d-e966933469b5\" type=\"checkbox\" ><label for=\"539b75d5-840a-4e11-9f7d-e966933469b5\" class=\"sk-toggleable__label sk-toggleable__label-arrow\">Pipeline</label><div class=\"sk-toggleable__content\"><pre>Pipeline(steps=[(&#x27;poly&#x27;, PolynomialFeatures(degree=5)),\n",
       "                (&#x27;scale&#x27;, StandardScaler()),\n",
       "                (&#x27;lgr&#x27;, LogisticRegression(multi_class=&#x27;multinomial&#x27;))])</pre></div></div></div><div class=\"sk-serial\"><div class=\"sk-item\"><div class=\"sk-estimator sk-toggleable\"><input class=\"sk-toggleable__control sk-hidden--visually\" id=\"11f07f0a-5921-40e3-b4dc-868d0a135e24\" type=\"checkbox\" ><label for=\"11f07f0a-5921-40e3-b4dc-868d0a135e24\" class=\"sk-toggleable__label sk-toggleable__label-arrow\">PolynomialFeatures</label><div class=\"sk-toggleable__content\"><pre>PolynomialFeatures(degree=5)</pre></div></div></div><div class=\"sk-item\"><div class=\"sk-estimator sk-toggleable\"><input class=\"sk-toggleable__control sk-hidden--visually\" id=\"02d3a734-9e4f-4736-b66a-a9ce37eda58f\" type=\"checkbox\" ><label for=\"02d3a734-9e4f-4736-b66a-a9ce37eda58f\" class=\"sk-toggleable__label sk-toggleable__label-arrow\">StandardScaler</label><div class=\"sk-toggleable__content\"><pre>StandardScaler()</pre></div></div></div><div class=\"sk-item\"><div class=\"sk-estimator sk-toggleable\"><input class=\"sk-toggleable__control sk-hidden--visually\" id=\"eabc50e4-d940-4e4e-8d4a-b78a23e93fe6\" type=\"checkbox\" ><label for=\"eabc50e4-d940-4e4e-8d4a-b78a23e93fe6\" class=\"sk-toggleable__label sk-toggleable__label-arrow\">LogisticRegression</label><div class=\"sk-toggleable__content\"><pre>LogisticRegression(multi_class=&#x27;multinomial&#x27;)</pre></div></div></div></div></div></div></div>"
      ],
      "text/plain": [
       "Pipeline(steps=[('poly', PolynomialFeatures(degree=5)),\n",
       "                ('scale', StandardScaler()),\n",
       "                ('lgr', LogisticRegression(multi_class='multinomial'))])"
      ]
     },
     "execution_count": 14,
     "metadata": {},
     "output_type": "execute_result"
    }
   ],
   "source": [
    "\n",
    "quintic_pipe = ''\n",
    "    \n",
    "\n",
    "\n",
    "### ANSWER CHECK\n",
    "quintic_pipe"
   ]
  },
  {
   "cell_type": "code",
   "execution_count": null,
   "metadata": {},
   "outputs": [],
   "source": [
    "## Uncomment to visualize the decision boundary for quintic_pipe\n",
    "# labels = pd.factorize(quintic_pipe.predict(grid))[0]\n",
    "\n",
    "# plt.contourf(xx, yy, labels.reshape(XX.shape), cmap = 'tab10', alpha = 0.3)\n",
    "# sns.scatterplot(data = X1, x = 'total_phenols', y = 'color_intensity', hue = y,  palette = 'bright')"
   ]
  }
 ],
 "metadata": {
  "celltoolbar": "Create Assignment",
  "kernelspec": {
   "display_name": "Python 3 (ipykernel)",
   "language": "python",
   "name": "python3"
  },
  "language_info": {
   "codemirror_mode": {
    "name": "ipython",
    "version": 3
   },
   "file_extension": ".py",
   "mimetype": "text/x-python",
   "name": "python",
   "nbconvert_exporter": "python",
   "pygments_lexer": "ipython3",
   "version": "3.9.11"
  }
 },
 "nbformat": 4,
 "nbformat_minor": 4
}
