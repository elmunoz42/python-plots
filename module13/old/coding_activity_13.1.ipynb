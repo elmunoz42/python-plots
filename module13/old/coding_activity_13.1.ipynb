{
 "cells": [
  {
   "cell_type": "markdown",
   "metadata": {
    "deletable": false,
    "editable": false,
    "nbgrader": {
     "cell_type": "markdown",
     "checksum": "9b8118aab66f1a1053098a06b3efcd55",
     "grade": false,
     "grade_id": "cell-aafa2f5ce15a3b89",
     "locked": true,
     "schema_version": 3,
     "solution": false
    }
   },
   "source": [
    "### Codio Activity 13.1: Binary Classification with Regression\n",
    "\n",
    "**Expected Time = 60 minutes** \n",
    "\n",
    "**Total Points = 45**\n",
    "\n",
    "This activity motivates the later work with logistic regression.  To begin, you will build a linear regression model to solve a binary classification problem.  In order to use the model, you will have to determine a threshold for the single input feature.  Using this model you will determine its accuracy on a test set.   \n",
    "\n",
    "#### Index \n",
    "\n",
    "- [Problem 1](#Problem-1)\n",
    "- [Problem 2](#Problem-2)\n",
    "- [Problem 3](#Problem-3)\n",
    "- [Problem 4](#Problem-4)\n",
    "- [Problem 5](#Problem-5)\n"
   ]
  },
  {
   "cell_type": "code",
   "execution_count": null,
   "metadata": {},
   "outputs": [],
   "source": [
    "import pandas as pd\n",
    "import numpy as np\n",
    "import matplotlib.pyplot as plt\n",
    "\n",
    "from sklearn.linear_model import LinearRegression\n",
    "\n",
    "import seaborn as sns"
   ]
  },
  {
   "cell_type": "markdown",
   "metadata": {
    "deletable": false,
    "editable": false,
    "nbgrader": {
     "cell_type": "markdown",
     "checksum": "9f16bae418d0fe8dc2f8659c8f326c0c",
     "grade": false,
     "grade_id": "cell-dc8ac552c0d54a9a",
     "locked": true,
     "schema_version": 3,
     "solution": false
    }
   },
   "source": [
    "### The Data\n",
    "\n",
    "The dataset used in this activity is similar to that from the videos, containing body information on three different kinds of penguins in Antarctica.  The task is to differentiate between these classes using the body measurements, sex, and location data. "
   ]
  },
  {
   "cell_type": "code",
   "execution_count": null,
   "metadata": {},
   "outputs": [],
   "source": [
    "penguins = sns.load_dataset('penguins').dropna()"
   ]
  },
  {
   "cell_type": "code",
   "execution_count": null,
   "metadata": {},
   "outputs": [],
   "source": [
    "penguins.head()"
   ]
  },
  {
   "cell_type": "code",
   "execution_count": null,
   "metadata": {},
   "outputs": [],
   "source": [
    "sns.pairplot(penguins, hue = 'species');\n",
    "plt.title('')"
   ]
  },
  {
   "cell_type": "markdown",
   "metadata": {
    "deletable": false,
    "editable": false,
    "nbgrader": {
     "cell_type": "markdown",
     "checksum": "685fe89926f2aa8598bdb56f0d7f3d21",
     "grade": false,
     "grade_id": "cell-7c557be0544e4d6f",
     "locked": true,
     "schema_version": 3,
     "solution": false
    }
   },
   "source": [
    "[Back to top](#-Index)\n",
    "\n",
    "### Problem 1\n",
    "\n",
    "#### Binarizing the Problem\n",
    "\n",
    "**5 Points**\n",
    "\n",
    "Use the function `loc()` on the `penguins` dataframe to subset only penguins belonging to `species` `Adelie` and `Gentoo`.  \n",
    "\n",
    "Assign your DataFrame to `binary_penguins` below.  "
   ]
  },
  {
   "cell_type": "code",
   "execution_count": null,
   "metadata": {
    "deletable": false,
    "nbgrader": {
     "cell_type": "code",
     "checksum": "e247535128a05e2500e5bbe0e53cf249",
     "grade": false,
     "grade_id": "cell-a4d4d16d37e4ebcd",
     "locked": false,
     "schema_version": 3,
     "solution": true
    }
   },
   "outputs": [],
   "source": [
    "### GRADED\n",
    "\n",
    "binary_penguins = ''\n",
    "\n",
    "# YOUR CODE HERE\n",
    "raise NotImplementedError()\n",
    "\n",
    "# Answer check\n",
    "binary_penguins.head()"
   ]
  },
  {
   "cell_type": "code",
   "execution_count": null,
   "metadata": {
    "deletable": false,
    "editable": false,
    "nbgrader": {
     "cell_type": "code",
     "checksum": "954f764fc8aed8196820d8d373f01b02",
     "grade": true,
     "grade_id": "cell-bf99430e162f2d79",
     "locked": true,
     "points": 5,
     "schema_version": 3,
     "solution": false
    }
   },
   "outputs": [],
   "source": []
  },
  {
   "cell_type": "markdown",
   "metadata": {
    "deletable": false,
    "editable": false,
    "nbgrader": {
     "cell_type": "markdown",
     "checksum": "5d4780b7dc3c07a2fc66039951f64595",
     "grade": false,
     "grade_id": "cell-2be5dcb41a7f738e",
     "locked": true,
     "schema_version": 3,
     "solution": false
    }
   },
   "source": [
    "[Back to top](#-Index)\n",
    "\n",
    "### Problem 2\n",
    "\n",
    "#### Building a Regression Model\n",
    "\n",
    "**10 Points**\n",
    "\n",
    "<center>\n",
    "    <img src = 'images/lr.png'/>\n",
    "</center>\n",
    "\n",
    "In this question, you will instantiate a linear regression model.\n",
    "\n",
    "To begin, assign the `flipper_length_mm` column of the `penguis` dataframe to the variable `X`. Next, assign a numeric representation of the `species` column with `Adelie` = 0 and `Gentoo` = 1 to the variable `y`.  \n",
    "\n",
    "Finally, instantiate a linear regression model to the variable `lr_flipped` and fit it to the variable `X` and `y`.\n",
    "\n",
    "HINT: To create the binary numeric values for `y`, use the function `.map()`."
   ]
  },
  {
   "cell_type": "code",
   "execution_count": null,
   "metadata": {
    "deletable": false,
    "nbgrader": {
     "cell_type": "code",
     "checksum": "a7aadf01a687c2e5759eacf58c1d7b21",
     "grade": false,
     "grade_id": "cell-f7c7ed84ea4ff266",
     "locked": false,
     "schema_version": 3,
     "solution": true
    }
   },
   "outputs": [],
   "source": [
    "### GRADED\n",
    "\n",
    "X = ''\n",
    "y = ''\n",
    "lr_flipper = ''\n",
    "\n",
    "# YOUR CODE HERE\n",
    "raise NotImplementedError()\n",
    "\n",
    "# Answer check\n",
    "print(lr_flipper)"
   ]
  },
  {
   "cell_type": "code",
   "execution_count": null,
   "metadata": {
    "deletable": false,
    "editable": false,
    "nbgrader": {
     "cell_type": "code",
     "checksum": "33dfcd6826126e63391865eb4104f86a",
     "grade": true,
     "grade_id": "cell-833ec1fb0780f990",
     "locked": true,
     "points": 10,
     "schema_version": 3,
     "solution": false
    }
   },
   "outputs": [],
   "source": []
  },
  {
   "cell_type": "markdown",
   "metadata": {
    "deletable": false,
    "editable": false,
    "nbgrader": {
     "cell_type": "markdown",
     "checksum": "5230bc613d280c18c7f89a1f7e2d6019",
     "grade": false,
     "grade_id": "cell-2bea3c7ac83eef43",
     "locked": true,
     "schema_version": 3,
     "solution": false
    }
   },
   "source": [
    "[Back to top](#-Index)\n",
    "\n",
    "### Problem 3\n",
    "\n",
    "#### Coeficients and Threshold\n",
    "\n",
    "**10 Points**\n",
    "\n",
    "<center>\n",
    "    <img src = 'images/thresh.png'/>\n",
    "</center>\n",
    "\n",
    "The idea here is to use `.5` to calculate the threshold for classification.  So if\n",
    "\n",
    "$$P(Gentoo) = \\beta_0 + \\beta_1*X,$$\n",
    "\n",
    "the threshold would be determined by \n",
    "\n",
    "$$\\text{threshold} =  \\frac{0.5 - \\beta_0 }{\\beta_1}.$$\n",
    "\n",
    "Determine the value of the threshold using the coefficients derived from your `lr_flipper` model in the prvious question.  Assign it as a float to `threshold` below."
   ]
  },
  {
   "cell_type": "code",
   "execution_count": null,
   "metadata": {
    "deletable": false,
    "nbgrader": {
     "cell_type": "code",
     "checksum": "9bea5594d7a1eea1e16ceeaa276ddedc",
     "grade": false,
     "grade_id": "cell-05f7d0e53be8429d",
     "locked": false,
     "schema_version": 3,
     "solution": true
    }
   },
   "outputs": [],
   "source": [
    "### GRADED\n",
    "\n",
    "threshold = ''\n",
    "\n",
    "# YOUR CODE HERE\n",
    "raise NotImplementedError()\n",
    "\n",
    "# Answer check\n",
    "print(threshold)\n",
    "\n"
   ]
  },
  {
   "cell_type": "code",
   "execution_count": null,
   "metadata": {
    "deletable": false,
    "editable": false,
    "nbgrader": {
     "cell_type": "code",
     "checksum": "c46c7b3cd4d906478ab869a6a710eeec",
     "grade": true,
     "grade_id": "cell-abdd04f901ec7ff4",
     "locked": true,
     "points": 10,
     "schema_version": 3,
     "solution": false
    }
   },
   "outputs": [],
   "source": []
  },
  {
   "cell_type": "markdown",
   "metadata": {
    "deletable": false,
    "editable": false,
    "nbgrader": {
     "cell_type": "markdown",
     "checksum": "1bb632fc66eed190ad69bf95b46760bc",
     "grade": false,
     "grade_id": "cell-3c6fbfdb1f6d203f",
     "locked": true,
     "schema_version": 3,
     "solution": false
    }
   },
   "source": [
    "[Back to top](#-Index)\n",
    "\n",
    "### Problem 4\n",
    "\n",
    "#### Making predictions with the model\n",
    "\n",
    "**10 Points**\n",
    "\n",
    "An option to make predictions, would be to evaluate the flipper length using the linear model. If the predicted value of the flipper length is greater than or equal to the threshold predict 1, otherwise predict 0.  \n",
    "\n",
    "Below, complete the function `linear_preds` to make these predictions. \n",
    "\n"
   ]
  },
  {
   "cell_type": "code",
   "execution_count": null,
   "metadata": {
    "deletable": false,
    "nbgrader": {
     "cell_type": "code",
     "checksum": "a531daf2297ee0a0392f18e84d3d6be8",
     "grade": false,
     "grade_id": "cell-91ae86ec1281a330",
     "locked": false,
     "schema_version": 3,
     "solution": true
    }
   },
   "outputs": [],
   "source": [
    "### GRADED\n",
    "\n",
    "def linear_preds(X, threshold, model):\n",
    "    \"\"\"Creates predictions using a model based on >= threshold on \n",
    "    array X.\n",
    "    \n",
    "    Arguments\n",
    "    ---------\n",
    "    X: Input Array (N, 1)\n",
    "    y: threshold\n",
    "       float for which threshold >= 0.5 will predict 1\n",
    "    model: scikitlearn model with .coef_ and .intercept_\n",
    "    \n",
    "    Returns\n",
    "    -------\n",
    "    numpy.array of 0 and 1 based on prediction threshold\n",
    "    \"\"\"\n",
    "    return None\n",
    "\n",
    "# YOUR CODE HERE\n",
    "raise NotImplementedError()\n",
    "\n",
    "# Answer check\n",
    "preds = linear_preds(X, 0.5, lr_flipper)\n",
    "print(preds[:5])"
   ]
  },
  {
   "cell_type": "code",
   "execution_count": null,
   "metadata": {
    "deletable": false,
    "editable": false,
    "nbgrader": {
     "cell_type": "code",
     "checksum": "af7af0c58145fb1195cdf63df35316c5",
     "grade": true,
     "grade_id": "cell-9ad646b359224f57",
     "locked": true,
     "points": 10,
     "schema_version": 3,
     "solution": false
    }
   },
   "outputs": [],
   "source": []
  },
  {
   "cell_type": "markdown",
   "metadata": {
    "deletable": false,
    "editable": false,
    "nbgrader": {
     "cell_type": "markdown",
     "checksum": "02a9fd45ffa1e496ebc20c865ca839df",
     "grade": false,
     "grade_id": "cell-991a1a6933bc0ac0",
     "locked": true,
     "schema_version": 3,
     "solution": false
    }
   },
   "source": [
    "[Back to top](#-Index)\n",
    "\n",
    "### Problem 5\n",
    "\n",
    "#### Evaluating the accuracy of the model\n",
    "\n",
    "**10 Points**\n",
    "\n",
    "In the code cell below, determine the accuracy of your linear model by comparing the values of `preds` and `y`. \n",
    "\n",
    "\n",
    "Assign your value as a float to `linear_acc` below. \n",
    "\n",
    "HINT: Use the function `ravel()` on the `preds` to flatten the array."
   ]
  },
  {
   "cell_type": "code",
   "execution_count": null,
   "metadata": {
    "deletable": false,
    "nbgrader": {
     "cell_type": "code",
     "checksum": "7a7c5448267b89e58fcf0550688b7f0c",
     "grade": false,
     "grade_id": "cell-16db85769c026200",
     "locked": false,
     "schema_version": 3,
     "solution": true
    }
   },
   "outputs": [],
   "source": [
    "### GRADED\n",
    "\n",
    "linear_acc = ''\n",
    "\n",
    "# YOUR CODE HERE\n",
    "raise NotImplementedError()\n",
    "\n",
    "# Answer check\n",
    "print(linear_acc)"
   ]
  },
  {
   "cell_type": "code",
   "execution_count": null,
   "metadata": {
    "deletable": false,
    "editable": false,
    "nbgrader": {
     "cell_type": "code",
     "checksum": "5832807afe0ac1fe0cef740b809ee8c7",
     "grade": true,
     "grade_id": "cell-e5a9d4ce4ba36766",
     "locked": true,
     "points": 10,
     "schema_version": 3,
     "solution": false
    }
   },
   "outputs": [],
   "source": []
  },
  {
   "cell_type": "code",
   "execution_count": null,
   "metadata": {},
   "outputs": [],
   "source": []
  }
 ],
 "metadata": {
  "kernelspec": {
   "display_name": "Python 3 (ipykernel)",
   "language": "python",
   "name": "python3"
  },
  "language_info": {
   "codemirror_mode": {
    "name": "ipython",
    "version": 3
   },
   "file_extension": ".py",
   "mimetype": "text/x-python",
   "name": "python",
   "nbconvert_exporter": "python",
   "pygments_lexer": "ipython3",
   "version": "3.9.11"
  },
  "widgets": {
   "application/vnd.jupyter.widget-state+json": {
    "state": {},
    "version_major": 2,
    "version_minor": 0
   }
  }
 },
 "nbformat": 4,
 "nbformat_minor": 4
}
