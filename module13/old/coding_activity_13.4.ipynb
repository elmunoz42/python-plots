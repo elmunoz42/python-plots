{
 "cells": [
  {
   "cell_type": "markdown",
   "metadata": {
    "deletable": false,
    "editable": false,
    "nbgrader": {
     "cell_type": "markdown",
     "checksum": "52ef12f9fe6e3d388e7d650bd9e5bf5e",
     "grade": false,
     "grade_id": "cell-3a2fb5123ae5c455",
     "locked": true,
     "schema_version": 3,
     "solution": false
    }
   },
   "source": [
    "### Codio Activity 13.4: Decision Boundaries with Two Variables\n",
    "\n",
    "**Expected Time = 60 minutes** \n",
    "\n",
    "**Total Points = 40** \n",
    "\n",
    "In the first examples, your work has utilized a straight vertical line as the decision boundary for logistic regression. This is what a decision boundary looks like with only one feature, however with two features the decision boundary becomes a linear function of the two inputs. In this activity, you will focus on generating functions for these boundaries and show strategies for visualizing these boundaries. \n",
    "\n",
    "#### Index\n",
    "\n",
    "  - [Problem 1](#-Problem-1)\n",
    "  - [Problem 2](#-Problem-2)\n",
    "  - [Problem 3](#-Problem-3)\n",
    "  - [Problem 4](#-Problem-4)"
   ]
  },
  {
   "cell_type": "code",
   "execution_count": null,
   "metadata": {},
   "outputs": [],
   "source": [
    "import pandas as pd\n",
    "import numpy as np\n",
    "import seaborn as sns\n",
    "import matplotlib.pyplot as plt\n",
    "\n",
    "from sklearn.linear_model import LogisticRegression\n",
    "from sklearn.metrics import accuracy_score, recall_score, precision_score\n",
    "from sklearn.model_selection import train_test_split"
   ]
  },
  {
   "cell_type": "markdown",
   "metadata": {
    "deletable": false,
    "editable": false,
    "nbgrader": {
     "cell_type": "markdown",
     "checksum": "eeaf0be679f40f7c4b1b421d6fbdf0be",
     "grade": false,
     "grade_id": "cell-180308aae7d2d7b0",
     "locked": true,
     "schema_version": 3,
     "solution": false
    }
   },
   "source": [
    "### The Data\n",
    "\n",
    "Again, you will use the penguins data from Seaborn.  This time, you will use two features -- `flipper_length_mm` and `bill_length_mm` to build a logistic model and visualize the decision boundary.  The data is loaded and visualized below.  "
   ]
  },
  {
   "cell_type": "code",
   "execution_count": null,
   "metadata": {},
   "outputs": [],
   "source": [
    "penguins = sns.load_dataset('penguins').dropna()\n",
    "penguins = penguins.loc[(penguins['species'] == 'Adelie') | (penguins['species'] == 'Gentoo')]\n",
    "X = penguins.drop('species', axis = 1)[['flipper_length_mm', 'bill_length_mm']]\n",
    "y = np.where(penguins.species == 'Adelie', 0, 1)\n",
    "X_train, X_test, y_train, y_test = train_test_split(X, y, random_state = 42)"
   ]
  },
  {
   "cell_type": "code",
   "execution_count": null,
   "metadata": {},
   "outputs": [],
   "source": [
    "X.head()"
   ]
  },
  {
   "cell_type": "code",
   "execution_count": null,
   "metadata": {},
   "outputs": [],
   "source": [
    "sns.scatterplot(data = penguins, x = 'flipper_length_mm', y = 'bill_length_mm', hue = 'species')"
   ]
  },
  {
   "cell_type": "markdown",
   "metadata": {
    "deletable": false,
    "editable": false,
    "nbgrader": {
     "cell_type": "markdown",
     "checksum": "dff9632a46618870b10f0e059ba886ac",
     "grade": false,
     "grade_id": "cell-61ccd016c98fc188",
     "locked": true,
     "schema_version": 3,
     "solution": false
    }
   },
   "source": [
    "[Back to top](#-Index)\n",
    "\n",
    "### Problem 1\n",
    "\n",
    "#### A Logistic Model\n",
    "\n",
    "**10 Points**\n",
    "\n",
    "Instantiate a `LogisticRegression` estimator as `log_reg` below and fit on the training data `X_train` and `y_train`."
   ]
  },
  {
   "cell_type": "code",
   "execution_count": null,
   "metadata": {
    "deletable": false,
    "nbgrader": {
     "cell_type": "code",
     "checksum": "5fb2784026d48e4af6ceca6e5d5a05f0",
     "grade": false,
     "grade_id": "cell-2a9e2edd23d53626",
     "locked": false,
     "schema_version": 3,
     "solution": true
    }
   },
   "outputs": [],
   "source": [
    "### GRADED\n",
    "\n",
    "log_reg = ''\n",
    "\n",
    "# YOUR CODE HERE\n",
    "raise NotImplementedError()\n",
    "\n",
    "# Answer check\n",
    "print(log_reg)"
   ]
  },
  {
   "cell_type": "code",
   "execution_count": null,
   "metadata": {
    "deletable": false,
    "editable": false,
    "nbgrader": {
     "cell_type": "code",
     "checksum": "bb678ea9d7353f5a46ecba99d3c00072",
     "grade": true,
     "grade_id": "cell-5edb70583e600596",
     "locked": true,
     "points": 10,
     "schema_version": 3,
     "solution": false
    }
   },
   "outputs": [],
   "source": []
  },
  {
   "cell_type": "markdown",
   "metadata": {
    "deletable": false,
    "editable": false,
    "nbgrader": {
     "cell_type": "markdown",
     "checksum": "329dd9ed64b504be91606a08da75dffe",
     "grade": false,
     "grade_id": "cell-5e0354e412867e85",
     "locked": true,
     "schema_version": 3,
     "solution": false
    }
   },
   "source": [
    "[Back to top](#-Index)\n",
    "\n",
    "### Problem 2\n",
    "\n",
    "#### Examining the coefficients\n",
    "\n",
    "**10 Points**\n",
    "\n",
    "With two variables, the Sigma function is given by:\n",
    "\n",
    "$$\\sigma(x) = \\frac{1}{1 + e^{-z}},$$\n",
    "\n",
    "where\n",
    "\n",
    "$$z = \\beta_0 + \\beta_1 * x_0 + \\beta_2 * x_1.$$\n",
    "\n",
    "Below, assign the intercept to  `beta_0` and the  coefficients to `beta_1` and `beta_2`, respectively.\n",
    "\n",
    "Note that $x_0$ is the flipper length.  "
   ]
  },
  {
   "cell_type": "code",
   "execution_count": null,
   "metadata": {
    "deletable": false,
    "nbgrader": {
     "cell_type": "code",
     "checksum": "0e7f9218ad223be1eeb08a4b775e9e19",
     "grade": false,
     "grade_id": "cell-de41271c6395179d",
     "locked": false,
     "schema_version": 3,
     "solution": true
    }
   },
   "outputs": [],
   "source": [
    "### GRADED\n",
    "\n",
    "beta_0 = ''\n",
    "beta_1 = ''\n",
    "beta_2 = ''\n",
    "\n",
    "# YOUR CODE HERE\n",
    "raise NotImplementedError()\n",
    "\n",
    "# Answer check\n",
    "print(f'z = {beta_0: .2f} + {beta_1: .2f}x0 + {beta_2: .2f}x1')"
   ]
  },
  {
   "cell_type": "code",
   "execution_count": null,
   "metadata": {
    "deletable": false,
    "editable": false,
    "nbgrader": {
     "cell_type": "code",
     "checksum": "9b7147e16c362b811a1f7f9a007e94fe",
     "grade": true,
     "grade_id": "cell-ba95f7318397f251",
     "locked": true,
     "points": 10,
     "schema_version": 3,
     "solution": false
    }
   },
   "outputs": [],
   "source": []
  },
  {
   "cell_type": "markdown",
   "metadata": {
    "deletable": false,
    "editable": false,
    "nbgrader": {
     "cell_type": "markdown",
     "checksum": "5f389b5b9305631cee4e469363b25154",
     "grade": false,
     "grade_id": "cell-81c77c9e7339f736",
     "locked": true,
     "schema_version": 3,
     "solution": false
    }
   },
   "source": [
    "[Back to top](#-Index)\n",
    "\n",
    "### Problem 3\n",
    "\n",
    "#### Visualizing the decision boundary\n",
    "\n",
    "**10 Points**\n",
    "\n",
    "<center>\n",
    "    <img src = 'images/dboundary.png' />\n",
    "</center>\n",
    "\n",
    "\n",
    "There is both a brute force and more formal approach for visualizing the decision boundary. \n",
    "\n",
    "With two variables we can directly solve for the linear function in terms of `x_0` and  `beta`'s. Upon doing so we find a linear function defined as: \n",
    "\n",
    "$$y = -\\frac{\\beta_1}{\\beta_2} * x_0 - \\frac{\\beta_0}{\\beta_2}$$\n",
    "\n",
    "Complete the function `decision_boundary` below that takes in `x_0` and  `beta`'s. This function should return the appropriate value for the predicitons based on the formula above.  Uncomment the plot to verify your results using the defined `x = np.linspace`."
   ]
  },
  {
   "cell_type": "code",
   "execution_count": null,
   "metadata": {
    "deletable": false,
    "nbgrader": {
     "cell_type": "code",
     "checksum": "ed43f2b6f1af62a1470f769648724ab0",
     "grade": false,
     "grade_id": "cell-7e6d6568117a8e6b",
     "locked": false,
     "schema_version": 3,
     "solution": true
    }
   },
   "outputs": [],
   "source": [
    "### GRADED\n",
    "\n",
    "def decision_boundary(x0, beta_0, beta_1, beta_2):\n",
    "    '''\n",
    "    Function returns values for linear decision boundaries\n",
    "    in binary classification setting according to the formula\n",
    "    y = -beta_1/beta_2 * x0 - beta_0/beta_2\n",
    "    \n",
    "    Arguments\n",
    "    ---------\n",
    "    x0: np.array\n",
    "        domain for evaluation of function\n",
    "        \n",
    "    beta_0: float\n",
    "         intercept from fit logistic model\n",
    "    beta_1: float\n",
    "        first coefficient from logistic model\n",
    "    beta_2: float\n",
    "        second coefficient from logistic model\n",
    "    \n",
    "    Returns\n",
    "    -------\n",
    "    np.array\n",
    "        values of y\n",
    "    '''\n",
    "    return None\n",
    "    \n",
    "# YOUR CODE HERE\n",
    "raise NotImplementedError()\n",
    "\n",
    "# Answer check\n",
    "x = np.linspace(165, 240, 100)\n",
    "print(decision_boundary(x, beta_0, beta_1, beta_2)[0], decision_boundary(x, beta_0, beta_1, beta_2)[-1])"
   ]
  },
  {
   "cell_type": "code",
   "execution_count": null,
   "metadata": {},
   "outputs": [],
   "source": [
    "## code for figure\n",
    "#x = np.linspace(165, 240, 100)\n",
    "#sns.scatterplot(data = penguins, x = 'flipper_length_mm', y = 'bill_length_mm', hue = 'species')\n",
    "#plt.plot(x, decision_boundary(x, beta_0, beta_1, beta_2), '--', color = 'black')\n",
    "#plt.ylim(25, 65)\n",
    "#plt.fill_between(x, decision_boundary(x, beta_0, beta_1, beta_2), alpha = 0.3, color = 'lightblue')\n",
    "#plt.fill_between(x, decision_boundary(x, beta_0, beta_1, beta_2), np.repeat(70, 100), alpha = 0.3)"
   ]
  },
  {
   "cell_type": "code",
   "execution_count": null,
   "metadata": {
    "deletable": false,
    "editable": false,
    "nbgrader": {
     "cell_type": "code",
     "checksum": "47d84576642018fcb06dc6ba74385130",
     "grade": true,
     "grade_id": "cell-6713f398a08b64d4",
     "locked": true,
     "points": 10,
     "schema_version": 3,
     "solution": false
    }
   },
   "outputs": [],
   "source": []
  },
  {
   "cell_type": "markdown",
   "metadata": {
    "deletable": false,
    "editable": false,
    "nbgrader": {
     "cell_type": "markdown",
     "checksum": "39a225323d0ddc7db547bcfca2b8fc18",
     "grade": false,
     "grade_id": "cell-769e80a3f0f16a66",
     "locked": true,
     "schema_version": 3,
     "solution": false
    }
   },
   "source": [
    "[Back to top](#-Index)\n",
    "\n",
    "### Problem 4\n",
    "\n",
    "#### Comparing regressors\n",
    "\n",
    "**10 Points**\n",
    "\n",
    "Now, fit a second regressor using the argument `C = 0.001`. Compare the decision boundary by using what you've seen earlier. How did the decision boundary change based on this?  The slope of the new decision boundary should either be greater than or less than the default settings. Assign your answer as a string -- `greater than` or `less than` -- to `ans4` below. Hint: Remember that the slope is negative.\n",
    "\n"
   ]
  },
  {
   "cell_type": "code",
   "execution_count": null,
   "metadata": {
    "deletable": false,
    "nbgrader": {
     "cell_type": "code",
     "checksum": "0770a11cbcf904620be9bf545009dce9",
     "grade": false,
     "grade_id": "cell-66dfc51fc45c7a0f",
     "locked": false,
     "schema_version": 3,
     "solution": true
    }
   },
   "outputs": [],
   "source": [
    "### GRADED\n",
    "\n",
    "ans4 = ''\n",
    "\n",
    "# YOUR CODE HERE\n",
    "raise NotImplementedError()\n",
    "\n",
    "# Answer check\n",
    "print(ans4)"
   ]
  },
  {
   "cell_type": "code",
   "execution_count": null,
   "metadata": {
    "deletable": false,
    "editable": false,
    "nbgrader": {
     "cell_type": "code",
     "checksum": "6f43b17006e110536501b39325cce6e8",
     "grade": true,
     "grade_id": "cell-d0c153c049b09fc1",
     "locked": true,
     "points": 10,
     "schema_version": 3,
     "solution": false
    }
   },
   "outputs": [],
   "source": []
  },
  {
   "cell_type": "code",
   "execution_count": null,
   "metadata": {},
   "outputs": [],
   "source": []
  }
 ],
 "metadata": {
  "kernelspec": {
   "display_name": "Python 3 (ipykernel)",
   "language": "python",
   "name": "python3"
  },
  "language_info": {
   "codemirror_mode": {
    "name": "ipython",
    "version": 3
   },
   "file_extension": ".py",
   "mimetype": "text/x-python",
   "name": "python",
   "nbconvert_exporter": "python",
   "pygments_lexer": "ipython3",
   "version": "3.9.11"
  },
  "widgets": {
   "application/vnd.jupyter.widget-state+json": {
    "state": {},
    "version_major": 2,
    "version_minor": 0
   }
  }
 },
 "nbformat": 4,
 "nbformat_minor": 4
}
