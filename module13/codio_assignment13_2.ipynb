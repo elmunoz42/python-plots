{
 "cells": [
  {
   "cell_type": "markdown",
   "metadata": {
    "deletable": false,
    "editable": false,
    "nbgrader": {
     "cell_type": "markdown",
     "checksum": "2e63c3e93ba79dbd7977e506088bf2d9",
     "grade": false,
     "grade_id": "cell-791ba6396ad0ab57",
     "locked": true,
     "schema_version": 3,
     "solution": false
    }
   },
   "source": [
    "### Required Codio Assignment 13.2: Experimenting with 𝛽0 and 𝛽1 in Logistic Function\n",
    "\n",
    "**Expected Time: 45 Minutes**\n",
    "\n",
    "**Total Points: 40**\n",
    "\n",
    "This activity focuses on changing the $\\beta_0$ and $\\beta_1$ parameters within the logistic function.  Your goal should be to understand how each parameter effects the resulting sigmoid curve.  In the next activity, you will use a numeric approach to identify the best parameters to fit a given classification problem, here your goal is to see how these parameters change the geometry of the curve.\n",
    "\n",
    "### Index\n",
    "\n",
    "- [Problem 1](#Problem-1)\n",
    "- [Problem 2](#Problem-2)\n",
    "- [Problem 3](#Problem-3)\n",
    "- [Problem 4](#Problem-4)"
   ]
  },
  {
   "cell_type": "code",
   "execution_count": 1,
   "metadata": {},
   "outputs": [],
   "source": [
    "import numpy as np\n",
    "import pandas as pd\n",
    "import matplotlib.pyplot as plt\n",
    "import seaborn as sns\n",
    "from sklearn.linear_model import LogisticRegression"
   ]
  },
  {
   "cell_type": "markdown",
   "metadata": {
    "deletable": false,
    "editable": false,
    "nbgrader": {
     "cell_type": "markdown",
     "checksum": "7918d404f0252bb3cf18e8f3c1f86df5",
     "grade": false,
     "grade_id": "cell-b3145cdb555b1c0a",
     "locked": true,
     "schema_version": 3,
     "solution": false
    }
   },
   "source": [
    "### The Data\n",
    "\n",
    "For this activity we revisit the credit data and examine only the balance feature to classifiy "
   ]
  },
  {
   "cell_type": "code",
   "execution_count": 2,
   "metadata": {},
   "outputs": [],
   "source": [
    "credit = pd.read_csv('data/default.csv')"
   ]
  },
  {
   "cell_type": "code",
   "execution_count": 3,
   "metadata": {},
   "outputs": [
    {
     "data": {
      "text/html": [
       "<div>\n",
       "<style scoped>\n",
       "    .dataframe tbody tr th:only-of-type {\n",
       "        vertical-align: middle;\n",
       "    }\n",
       "\n",
       "    .dataframe tbody tr th {\n",
       "        vertical-align: top;\n",
       "    }\n",
       "\n",
       "    .dataframe thead th {\n",
       "        text-align: right;\n",
       "    }\n",
       "</style>\n",
       "<table border=\"1\" class=\"dataframe\">\n",
       "  <thead>\n",
       "    <tr style=\"text-align: right;\">\n",
       "      <th></th>\n",
       "      <th>default</th>\n",
       "      <th>student</th>\n",
       "      <th>balance</th>\n",
       "      <th>income</th>\n",
       "    </tr>\n",
       "  </thead>\n",
       "  <tbody>\n",
       "    <tr>\n",
       "      <th>0</th>\n",
       "      <td>No</td>\n",
       "      <td>No</td>\n",
       "      <td>729.526495</td>\n",
       "      <td>44361.625074</td>\n",
       "    </tr>\n",
       "    <tr>\n",
       "      <th>1</th>\n",
       "      <td>No</td>\n",
       "      <td>Yes</td>\n",
       "      <td>817.180407</td>\n",
       "      <td>12106.134700</td>\n",
       "    </tr>\n",
       "    <tr>\n",
       "      <th>2</th>\n",
       "      <td>No</td>\n",
       "      <td>No</td>\n",
       "      <td>1073.549164</td>\n",
       "      <td>31767.138947</td>\n",
       "    </tr>\n",
       "    <tr>\n",
       "      <th>3</th>\n",
       "      <td>No</td>\n",
       "      <td>No</td>\n",
       "      <td>529.250605</td>\n",
       "      <td>35704.493935</td>\n",
       "    </tr>\n",
       "    <tr>\n",
       "      <th>4</th>\n",
       "      <td>No</td>\n",
       "      <td>No</td>\n",
       "      <td>785.655883</td>\n",
       "      <td>38463.495879</td>\n",
       "    </tr>\n",
       "  </tbody>\n",
       "</table>\n",
       "</div>"
      ],
      "text/plain": [
       "  default student      balance        income\n",
       "0      No      No   729.526495  44361.625074\n",
       "1      No     Yes   817.180407  12106.134700\n",
       "2      No      No  1073.549164  31767.138947\n",
       "3      No      No   529.250605  35704.493935\n",
       "4      No      No   785.655883  38463.495879"
      ]
     },
     "execution_count": 3,
     "metadata": {},
     "output_type": "execute_result"
    }
   ],
   "source": [
    "credit.head()"
   ]
  },
  {
   "cell_type": "code",
   "execution_count": 4,
   "metadata": {},
   "outputs": [],
   "source": [
    "y = np.where(credit['default'] == 'Yes', 1, 0)"
   ]
  },
  {
   "cell_type": "code",
   "execution_count": 5,
   "metadata": {},
   "outputs": [
    {
     "data": {
      "image/png": "[encoded data removed]",
      "text/plain": [
       "<Figure size 432x288 with 1 Axes>"
      ]
     },
     "metadata": {
      "needs_background": "light"
     },
     "output_type": "display_data"
    }
   ],
   "source": [
    "sns.scatterplot(data = credit, x = 'balance', y = y, hue = 'default', legend = False)\n",
    "plt.yticks([0, 1], ['No', 'Yes']);"
   ]
  },
  {
   "cell_type": "markdown",
   "metadata": {
    "deletable": false,
    "editable": false,
    "nbgrader": {
     "cell_type": "markdown",
     "checksum": "8a6cafee1f1cae72975a50d28ae7c384",
     "grade": false,
     "grade_id": "cell-f2336459569e8739",
     "locked": true,
     "schema_version": 3,
     "solution": false
    }
   },
   "source": [
    "[Back to top](#-Index)\n",
    "\n",
    "### Problem 1\n",
    "\n",
    "### Function for Plotting \n",
    "\n",
    "**10 Points**\n",
    "\n",
    "Complete the definition of the function `sigma` below that takes, as parameters, the array `x` and the coefficients `beta_0`, and `beta_1`. Your function should return the evaluation of the Sigma function given by:\n",
    "\n",
    "\n",
    "$$\\Sigma(x, \\beta_0, \\beta_1) = \\frac{1}{1 + e^{-(\\beta_0 + \\beta_1x})}$$\n",
    "\n"
   ]
  },
  {
   "cell_type": "code",
   "execution_count": 7,
   "metadata": {
    "deletable": false,
    "nbgrader": {
     "cell_type": "code",
     "checksum": "4c74bccc21841508a7c3eabdc0691ee6",
     "grade": false,
     "grade_id": "cell-82f7695f61644a38",
     "locked": false,
     "schema_version": 3,
     "solution": true
    }
   },
   "outputs": [
    {
     "data": {
      "text/plain": [
       "array([0.5       , 0.73105858, 0.88079708])"
      ]
     },
     "execution_count": 7,
     "metadata": {},
     "output_type": "execute_result"
    }
   ],
   "source": [
    "### GRADED\n",
    "\n",
    "def sigma(x, beta_0, beta_1):\n",
    "    \"\"\"Implements sigma function with linear parameters\n",
    "    beta_0 and beta_1.\n",
    "    \n",
    "    Parameters\n",
    "    ----------\n",
    "    x: type `np.ndarray`\n",
    "       1D NumPy array of domain inputs\n",
    "    beta_0: type `float`\n",
    "        float representing y-intercept of linear exponent\n",
    "    beta_1: type `float`\n",
    "        float representing slope of linear exponent\n",
    "        \n",
    "    Returns array of values size len(x)\n",
    "    \"\"\"\n",
    "    return 1 / (1 + np.exp(-(beta_0 + beta_1 * x) ))\n",
    "\n",
    "# Answer check\n",
    "sigma(np.array([-1, 0, 1]), 1, 1)"
   ]
  },
  {
   "cell_type": "code",
   "execution_count": null,
   "metadata": {
    "deletable": false,
    "editable": false,
    "nbgrader": {
     "cell_type": "code",
     "checksum": "4ef2be8a414cf33e97b58bfa891170ad",
     "grade": true,
     "grade_id": "cell-7fd6dc925edb824d",
     "locked": true,
     "points": 10,
     "schema_version": 3,
     "solution": false
    }
   },
   "outputs": [],
   "source": []
  },
  {
   "cell_type": "markdown",
   "metadata": {
    "deletable": false,
    "editable": false,
    "nbgrader": {
     "cell_type": "markdown",
     "checksum": "dc450d79061e53ba2ceb3adb4713334f",
     "grade": false,
     "grade_id": "cell-d8534418970b50d2",
     "locked": true,
     "schema_version": 3,
     "solution": false
    }
   },
   "source": [
    "[Back to top](#-Index)\n",
    "\n",
    "### Problem 2\n",
    "\n",
    "### Varying $\\beta_0$\n",
    "\n",
    "**10 Points**\n",
    "\n",
    "Below, the image shows three curves plotted, all with $\\beta_1 = 0.01$, and with $\\beta_0 = 5, 10, 15$.  Enter your answer as an integer with the appropriate $\\beta_0$ value to the respective variables `a`, `b`, and `c` below.\n",
    "\n",
    "1. $\\beta_0 = 15$\n",
    "2. $\\beta_0 = 10$\n",
    "3. $\\beta_0 = 5$\n",
    "\n",
    "<center>\n",
    "    <img src = 'images/betasopt.png' />\n",
    "</center>"
   ]
  },
  {
   "cell_type": "code",
   "execution_count": 8,
   "metadata": {
    "deletable": false,
    "nbgrader": {
     "cell_type": "code",
     "checksum": "787c5bd26cd686b9cab4434361f68ba1",
     "grade": false,
     "grade_id": "cell-95212fdf35297017",
     "locked": false,
     "schema_version": 3,
     "solution": true
    }
   },
   "outputs": [
    {
     "name": "stdout",
     "output_type": "stream",
     "text": [
      "<class 'int'>\n"
     ]
    }
   ],
   "source": [
    "### GRADED\n",
    "\n",
    "#assign integer values for beta0 to appropriate variable 5, 10, or 15\n",
    "a = 5\n",
    "b = 10\n",
    "c = 15\n",
    "\n",
    "# Answer check\n",
    "print(type(a))"
   ]
  },
  {
   "cell_type": "code",
   "execution_count": null,
   "metadata": {
    "deletable": false,
    "editable": false,
    "nbgrader": {
     "cell_type": "code",
     "checksum": "0ac3335c625b80d10d0a3d9c2b7df784",
     "grade": true,
     "grade_id": "cell-27474ec37db7a0f8",
     "locked": true,
     "points": 10,
     "schema_version": 3,
     "solution": false
    }
   },
   "outputs": [],
   "source": []
  },
  {
   "cell_type": "markdown",
   "metadata": {
    "deletable": false,
    "editable": false,
    "nbgrader": {
     "cell_type": "markdown",
     "checksum": "bbad9a3ffbe404840b43da8960c5526c",
     "grade": false,
     "grade_id": "cell-39ac9a853830d2d1",
     "locked": true,
     "schema_version": 3,
     "solution": false
    }
   },
   "source": [
    "[Back to top](#-Index)\n",
    "\n",
    "### Problem 3\n",
    "\n",
    "### Varying $\\beta_1$\n",
    "\n",
    "**10 Points**\n",
    "\n",
    "Now, compare the given values for $\\beta_1$ with $\\beta_0 = 10$ and match the correct curve with the given value as a float below.\n",
    "\n",
    "1. $\\beta_1 = -0.025$\n",
    "2. $\\beta_1 = -0.01$\n",
    "3. $\\beta_1 = -0.005$\n",
    "\n",
    "\n",
    "<center>\n",
    "    <img src = 'images/p3.png' />\n",
    "</center>"
   ]
  },
  {
   "cell_type": "code",
   "execution_count": null,
   "metadata": {
    "deletable": false,
    "nbgrader": {
     "cell_type": "code",
     "checksum": "2d129660be36e67822262f4d5b2c8407",
     "grade": false,
     "grade_id": "cell-b1b274b79f2263da",
     "locked": false,
     "schema_version": 3,
     "solution": true
    }
   },
   "outputs": [],
   "source": [
    "### GRADED\n",
    "\n",
    "#assign float values for beta0 to appropriate variable -0.025, 0.01, or 0.005 below\n",
    "a = -0.01\n",
    "b = -0.025\n",
    "c = -0.005\n",
    "\n",
    "# Answer check\n",
    "print(type(a))"
   ]
  },
  {
   "cell_type": "code",
   "execution_count": null,
   "metadata": {
    "deletable": false,
    "editable": false,
    "nbgrader": {
     "cell_type": "code",
     "checksum": "fa7e9345642141cd849ba46e43c4d4fe",
     "grade": true,
     "grade_id": "cell-b0ddad1a3d645c3f",
     "locked": true,
     "points": 10,
     "schema_version": 3,
     "solution": false
    }
   },
   "outputs": [],
   "source": []
  },
  {
   "cell_type": "markdown",
   "metadata": {
    "deletable": false,
    "editable": false,
    "nbgrader": {
     "cell_type": "markdown",
     "checksum": "3c42825d81ebafb5e1fd3b841543a1ae",
     "grade": false,
     "grade_id": "cell-90a2101d3a21abf2",
     "locked": true,
     "schema_version": 3,
     "solution": false
    }
   },
   "source": [
    "[Back to top](#-Index)\n",
    "\n",
    "### Problem 4\n",
    "\n",
    "### Comparing to `LogisticRegression` estimator\n",
    "\n",
    "**10 Points**\n",
    "\n",
    "In the code cell below instantiate a `LogisticRegression` estimator and fit it to the `balance` column of the `credit` dataframe and `y`. Assign this model to the `clf` variable.\n",
    "\n",
    "Next, identify the values of the intercept and the coefficient for this  model to `beta_0` and `beta_1`, respectively below.  "
   ]
  },
  {
   "cell_type": "code",
   "execution_count": 11,
   "metadata": {
    "deletable": false,
    "nbgrader": {
     "cell_type": "code",
     "checksum": "27daa394e8954e422cdff2067e2222e8",
     "grade": false,
     "grade_id": "cell-c79b63d4fe747d3c",
     "locked": false,
     "schema_version": 3,
     "solution": true
    }
   },
   "outputs": [
    {
     "data": {
      "image/png": "[encoded data removed]",
      "text/plain": [
       "<Figure size 432x288 with 1 Axes>"
      ]
     },
     "metadata": {
      "needs_background": "light"
     },
     "output_type": "display_data"
    }
   ],
   "source": [
    "### GRADED\n",
    "X = credit[['balance']]\n",
    "clf = LogisticRegression().fit(X, y)\n",
    "beta_0 = clf.intercept_[0]\n",
    "beta_1 = clf.coef_[0,0]\n",
    "\n",
    "# Answer check\n",
    "sns.scatterplot(data = credit, x = 'balance', y = y, hue = 'default', legend = False)\n",
    "plt.yticks([0, 1], ['No', 'Yes'])\n",
    "x = np.linspace(0,2600, 1000)\n",
    "plt.plot(x, sigma(x, beta_0, beta_1), '--', color = 'black', label = r'$\\sigma(x)$')\n",
    "plt.legend(fontsize = 12)\n",
    "plt.title(r'Optimal Values of $\\beta_0$ and $\\beta_1$');"
   ]
  },
  {
   "cell_type": "code",
   "execution_count": null,
   "metadata": {
    "deletable": false,
    "editable": false,
    "nbgrader": {
     "cell_type": "code",
     "checksum": "be2276c86c1c9609d08e03f38885b9e5",
     "grade": true,
     "grade_id": "cell-e6a019f118a423bf",
     "locked": true,
     "points": 10,
     "schema_version": 3,
     "solution": false
    }
   },
   "outputs": [],
   "source": []
  },
  {
   "cell_type": "markdown",
   "metadata": {
    "deletable": false,
    "editable": false,
    "nbgrader": {
     "cell_type": "markdown",
     "checksum": "6496beef2cd515c775a011c07653a610",
     "grade": false,
     "grade_id": "cell-9eefdb017de6ee97",
     "locked": true,
     "schema_version": 3,
     "solution": false
    }
   },
   "source": [
    "Now that you have a feel for how these parameters control the shape of the sigmoid curve, we will introduce a loss function that we try to minimize in order to solve for the optimal values of $\\beta_0$ and $\\beta_1$."
   ]
  },
  {
   "cell_type": "code",
   "execution_count": null,
   "metadata": {},
   "outputs": [],
   "source": []
  }
 ],
 "metadata": {
  "kernelspec": {
   "display_name": "Python 3 (ipykernel)",
   "language": "python",
   "name": "python3"
  },
  "language_info": {
   "codemirror_mode": {
    "name": "ipython",
    "version": 3
   },
   "file_extension": ".py",
   "mimetype": "text/x-python",
   "name": "python",
   "nbconvert_exporter": "python",
   "pygments_lexer": "ipython3",
   "version": "3.9.11"
  }
 },
 "nbformat": 4,
 "nbformat_minor": 4
}
